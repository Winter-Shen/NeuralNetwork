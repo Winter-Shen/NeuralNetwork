{
 "cells": [
  {
   "cell_type": "code",
   "execution_count": 45,
   "metadata": {},
   "outputs": [],
   "source": [
    "import network\n",
    "import layer\n",
    "import layer_wta\n",
    "\n",
    "from importlib import reload\n",
    "\n",
    "import numpy as np\n",
    "from keras.utils import to_categorical\n",
    "from keras.metrics import CategoricalAccuracy\n",
    "\n",
    "# import dataset\n",
    "from keras.datasets import mnist\n",
    "# load dataset\n",
    "(x_train, y_train),(x_test, y_test) = mnist.load_data()\n",
    "# compute the number of labels\n",
    "num_labels = len(np.unique(y_train))\n",
    "# convert to one-hot vector\n",
    "y_train = to_categorical(y_train)\n",
    "y_test = to_categorical(y_test)\n",
    "# image dimensions (assumed square)\n",
    "image_size = x_train.shape[1]\n",
    "input_size = image_size * image_size\n",
    "# resize and normalize\n",
    "x_train = np.reshape(x_train, [-1, input_size])\n",
    "x_train = x_train.astype('float32') / 255\n",
    "x_test = np.reshape(x_test, [-1, input_size])\n",
    "x_test = x_test.astype('float32') / 255\n",
    "\n",
    "hidden_units = 256\n",
    "learning_rate = 0.01"
   ]
  },
  {
   "cell_type": "code",
   "execution_count": 2,
   "metadata": {},
   "outputs": [],
   "source": [
    "x_train_s = x_train[0:1000]\n",
    "y_train_s = y_train[0:1000]"
   ]
  },
  {
   "cell_type": "code",
   "execution_count": 54,
   "metadata": {},
   "outputs": [
    {
     "name": "stderr",
     "output_type": "stream",
     "text": [
      "Epoch  1: 100% |██████████| 60000/60000, Accuracy: 0.9207, Loss: 0.0168;\n"
     ]
    },
    {
     "name": "stdout",
     "output_type": "stream",
     "text": [
      "0.9501\n"
     ]
    }
   ],
   "source": [
    "reload(network)\n",
    "reload(layer_wta)\n",
    "from network import Network\n",
    "from layer_wta import LayerWTA\n",
    "from layer import Layer\n",
    "\n",
    "epochs = 1\n",
    "\n",
    "neural_network = Network()\n",
    "neural_network.addLayer(LayerWTA(input_size, hidden_units, 0.5))\n",
    "neural_network.addLayer(LayerWTA(hidden_units, hidden_units, 0.5))\n",
    "neural_network.addLayer(LayerWTA(hidden_units, hidden_units, 0.5))\n",
    "neural_network.addLayer(Layer(hidden_units, num_labels))\n",
    "\n",
    "[epoch_accuracy, epoch_time] = neural_network.fit(x_train, y_train, learning_rate=learning_rate, epochs = epochs)\n",
    "y_hat = neural_network.predict(x_test)\n",
    "\n",
    "metrics = CategoricalAccuracy()\n",
    "metrics.update_state(y_test, y_hat)\n",
    "print(metrics.result().numpy())"
   ]
  }
 ],
 "metadata": {
  "kernelspec": {
   "display_name": "Python 3.9.16 ('LSH-Deep_Learning-Project')",
   "language": "python",
   "name": "python3"
  },
  "language_info": {
   "codemirror_mode": {
    "name": "ipython",
    "version": 3
   },
   "file_extension": ".py",
   "mimetype": "text/x-python",
   "name": "python",
   "nbconvert_exporter": "python",
   "pygments_lexer": "ipython3",
   "version": "3.9.16"
  },
  "orig_nbformat": 4,
  "vscode": {
   "interpreter": {
    "hash": "10d9af6cb6ad23fd6cb3b2b2da4eaf478aa7d823227bfd0644d333526c5f72fb"
   }
  }
 },
 "nbformat": 4,
 "nbformat_minor": 2
}
