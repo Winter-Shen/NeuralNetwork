{
 "cells": [
  {
   "cell_type": "code",
   "execution_count": 1,
   "metadata": {},
   "outputs": [],
   "source": [
    "import numpy as np\n",
    "import NeuralNetwork as nn"
   ]
  },
  {
   "cell_type": "code",
   "execution_count": 2,
   "metadata": {},
   "outputs": [
    {
     "data": {
      "text/plain": [
       "[[matrix([[0.9999975, 0.999995 , 0.9999925],\n",
       "          [0.9999975, 0.999995 , 0.9999925],\n",
       "          [0.9999975, 0.999995 , 0.9999925]]),\n",
       "  matrix([[0.99931416, 0.99931416, 0.99931416],\n",
       "          [0.99931416, 0.99931416, 0.99931416],\n",
       "          [0.99931416, 0.99931416, 0.99931416],\n",
       "          [0.99931416, 0.99931416, 0.99931416]]),\n",
       "  matrix([[0.96130849, 0.96130849, 0.96130849, 0.96130849]])],\n",
       " [matrix([[0.9999975],\n",
       "          [0.9999975],\n",
       "          [0.9999975]]),\n",
       "  matrix([[0.99931353],\n",
       "          [0.99931353],\n",
       "          [0.99931353],\n",
       "          [0.99931353]]),\n",
       "  matrix([[0.96059701]])]]"
      ]
     },
     "execution_count": 2,
     "metadata": {},
     "output_type": "execute_result"
    }
   ],
   "source": [
    "x = np.array([1, 2, 3])\n",
    "y=1.5\n",
    "l = [3, 4, 1]\n",
    "nn.trainNet(x, y, l)"
   ]
  }
 ],
 "metadata": {
  "kernelspec": {
   "display_name": "base",
   "language": "python",
   "name": "python3"
  },
  "language_info": {
   "codemirror_mode": {
    "name": "ipython",
    "version": 3
   },
   "file_extension": ".py",
   "mimetype": "text/x-python",
   "name": "python",
   "nbconvert_exporter": "python",
   "pygments_lexer": "ipython3",
   "version": "3.9.13"
  },
  "orig_nbformat": 4
 },
 "nbformat": 4,
 "nbformat_minor": 2
}
