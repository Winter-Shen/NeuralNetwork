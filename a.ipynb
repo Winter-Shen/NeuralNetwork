{
 "cells": [
  {
   "cell_type": "code",
   "execution_count": 1,
   "metadata": {},
   "outputs": [],
   "source": [
    "import numpy as np"
   ]
  },
  {
   "cell_type": "code",
   "execution_count": 15,
   "metadata": {},
   "outputs": [],
   "source": [
    "import NeuralNetwork as nn"
   ]
  },
  {
   "cell_type": "code",
   "execution_count": 6,
   "metadata": {},
   "outputs": [],
   "source": [
    "def trainNetwork(x, y, l):\n",
    "    net = nn.forward(x, l)\n",
    "    gradientYL = 2*(y - net[0][len(l)])\n",
    "    for ll in range(len(l)-1,-1,-1):\n",
    "        x0 = net[0][ll]\n",
    "        y_hat = net[0][ll+1]\n",
    "        w=net[1][ll]\n",
    "        L = nn.backwards0(gradientYL, x0, y_hat, w)\n",
    "        gradientYL = L[0]"
   ]
  },
  {
   "cell_type": "code",
   "execution_count": 7,
   "metadata": {},
   "outputs": [],
   "source": [
    "x = np.array([1, 2, 3])\n",
    "y=1.5\n",
    "l = [3, 4, 1]\n",
    "trainNetwork(x, y, l)"
   ]
  },
  {
   "cell_type": "code",
   "execution_count": 9,
   "metadata": {},
   "outputs": [
    {
     "data": {
      "text/plain": [
       "[[matrix([[1],\n",
       "          [2],\n",
       "          [3]]),\n",
       "  matrix([[0.99908895],\n",
       "          [0.99908895],\n",
       "          [0.99908895]]),\n",
       "  matrix([[0.98196545],\n",
       "          [0.98196545],\n",
       "          [0.98196545],\n",
       "          [0.98196545]]),\n",
       "  matrix([[0.9928101]])],\n",
       " [matrix([[1., 1., 1.],\n",
       "          [1., 1., 1.],\n",
       "          [1., 1., 1.]]),\n",
       "  matrix([[1., 1., 1.],\n",
       "          [1., 1., 1.],\n",
       "          [1., 1., 1.],\n",
       "          [1., 1., 1.]]),\n",
       "  matrix([[1., 1., 1., 1.]])],\n",
       " [matrix([[1., 1., 1.]]), matrix([[1., 1., 1., 1.]]), matrix([[1.]])]]"
      ]
     },
     "execution_count": 9,
     "metadata": {},
     "output_type": "execute_result"
    }
   ],
   "source": [
    "x = np.array([1, 2, 3])\n",
    "y=1.5\n",
    "l = [3, 4, 1]\n",
    "net = nn.forward(x, l)\n",
    "net"
   ]
  },
  {
   "cell_type": "code",
   "execution_count": 18,
   "metadata": {},
   "outputs": [],
   "source": [
    "gradientYL = 2*(y - net[0][len(l)])\n",
    "for ll in range(len(l)-1,-1,-1):\n",
    "    x0 = net[0][ll]\n",
    "    y_hat = net[0][ll+1]\n",
    "    w=net[1][ll]\n",
    "    L = nn.backwards0(gradientYL, x0, y_hat, w)\n",
    "    gradientYL = L[0]"
   ]
  },
  {
   "cell_type": "code",
   "execution_count": 19,
   "metadata": {},
   "outputs": [
    {
     "ename": "AttributeError",
     "evalue": "module 'NeuralNetwork' has no attribute 'backwards1'",
     "output_type": "error",
     "traceback": [
      "\u001b[0;31m---------------------------------------------------------------------------\u001b[0m",
      "\u001b[0;31mAttributeError\u001b[0m                            Traceback (most recent call last)",
      "\u001b[0;32m/tmp/ipykernel_5892/3123252060.py\u001b[0m in \u001b[0;36m<module>\u001b[0;34m\u001b[0m\n\u001b[0;32m----> 1\u001b[0;31m \u001b[0mnn\u001b[0m\u001b[0;34m.\u001b[0m\u001b[0mbackwards1\u001b[0m\u001b[0;34m(\u001b[0m\u001b[0my\u001b[0m\u001b[0;34m,\u001b[0m \u001b[0mnet\u001b[0m\u001b[0;34m,\u001b[0m \u001b[0ml\u001b[0m\u001b[0;34m,\u001b[0m \u001b[0;36m0.5\u001b[0m\u001b[0;34m)\u001b[0m\u001b[0;34m\u001b[0m\u001b[0;34m\u001b[0m\u001b[0m\n\u001b[0m",
      "\u001b[0;31mAttributeError\u001b[0m: module 'NeuralNetwork' has no attribute 'backwards1'"
     ]
    }
   ],
   "source": [
    "nn.backwards1(y, net, l, 0.5)"
   ]
  }
 ],
 "metadata": {
  "kernelspec": {
   "display_name": "base",
   "language": "python",
   "name": "python3"
  },
  "language_info": {
   "codemirror_mode": {
    "name": "ipython",
    "version": 3
   },
   "file_extension": ".py",
   "mimetype": "text/x-python",
   "name": "python",
   "nbconvert_exporter": "python",
   "pygments_lexer": "ipython3",
   "version": "3.9.13"
  },
  "orig_nbformat": 4
 },
 "nbformat": 4,
 "nbformat_minor": 2
}
