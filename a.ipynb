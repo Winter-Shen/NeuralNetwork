{
 "cells": [
  {
   "cell_type": "code",
   "execution_count": 1,
   "metadata": {},
   "outputs": [],
   "source": [
    "import numpy as np"
   ]
  },
  {
   "cell_type": "code",
   "execution_count": 2,
   "metadata": {},
   "outputs": [],
   "source": [
    "def sigmoid(x):\n",
    "    return(np.exp(x)/(1+np.exp(x)))\n",
    "\n",
    "def forward0(x, w, b):\n",
    "    v=w*x+b\n",
    "    return(sigmoid(v))"
   ]
  },
  {
   "cell_type": "code",
   "execution_count": 31,
   "metadata": {},
   "outputs": [],
   "source": [
    "def forward(x, l):\n",
    "    w_list = []\n",
    "    b_list = []\n",
    "    y_list = []\n",
    "\n",
    "    x = np.matrix(x).T\n",
    "\n",
    "    for i, j in enumerate(l):\n",
    "        if i:\n",
    "            w = np.ones((j, l[i-1]))\n",
    "        else:\n",
    "            w = np.ones((j, x.shape[0]))\n",
    "        w_list.append(np.matrix(w))\n",
    "\n",
    "        b = np.ones(j)\n",
    "        b_list.append(np.matrix(b))\n",
    "\n",
    "        x = forward0(x, np.matrix(w), np.matrix(b).T)\n",
    "        y_list.append(x)\n",
    "\n",
    "    #y = x[0, 0]\n",
    "    return([y_list, w_list, b_list])"
   ]
  },
  {
   "cell_type": "code",
   "execution_count": 32,
   "metadata": {},
   "outputs": [
    {
     "data": {
      "text/plain": [
       "[[matrix([[0.99908895],\n",
       "          [0.99908895],\n",
       "          [0.99908895]]),\n",
       "  matrix([[0.98196545],\n",
       "          [0.98196545],\n",
       "          [0.98196545],\n",
       "          [0.98196545]]),\n",
       "  matrix([[0.9928101]])],\n",
       " [matrix([[1., 1., 1.],\n",
       "          [1., 1., 1.],\n",
       "          [1., 1., 1.]]),\n",
       "  matrix([[1., 1., 1.],\n",
       "          [1., 1., 1.],\n",
       "          [1., 1., 1.],\n",
       "          [1., 1., 1.]]),\n",
       "  matrix([[1., 1., 1., 1.]])],\n",
       " [matrix([[1., 1., 1.]]), matrix([[1., 1., 1., 1.]]), matrix([[1.]])]]"
      ]
     },
     "execution_count": 32,
     "metadata": {},
     "output_type": "execute_result"
    }
   ],
   "source": [
    "x = np.array([1, 2, 3])\n",
    "l = [3, 4, 1]\n",
    "net = forward(x, l)\n",
    "net"
   ]
  },
  {
   "cell_type": "code",
   "execution_count": 50,
   "metadata": {},
   "outputs": [],
   "source": [
    "def backwards0(gradientYL, x, y, w, i):\n",
    "    jacobianVY = y*(1-y)\n",
    "    gradientVL = np.multiply(jacobianVY,gradientYL)\n",
    "    gradientUL = gradientVL\n",
    "    gradientXL = w.T * gradientUL\n",
    "    gradientWiL = gradientUL[i,0]*x\n",
    "    gradientBL = gradientVL\n",
    "    return([gradientXL, gradientWiL, gradientBL])"
   ]
  },
  {
   "cell_type": "code",
   "execution_count": 48,
   "metadata": {},
   "outputs": [
    {
     "data": {
      "text/plain": [
       "-0.75"
      ]
     },
     "execution_count": 48,
     "metadata": {},
     "output_type": "execute_result"
    }
   ],
   "source": [
    "jacobianVY = y*(1-y)\n",
    "jacobianVY"
   ]
  },
  {
   "cell_type": "code",
   "execution_count": 49,
   "metadata": {},
   "outputs": [
    {
     "data": {
      "text/plain": [
       "matrix([[-0.76078485]])"
      ]
     },
     "execution_count": 49,
     "metadata": {},
     "output_type": "execute_result"
    }
   ],
   "source": [
    "gradientVL = np.multiply(jacobianVY,gradientYL)\n",
    "gradientVL"
   ]
  },
  {
   "cell_type": "code",
   "execution_count": 44,
   "metadata": {},
   "outputs": [
    {
     "data": {
      "text/plain": [
       "1.5"
      ]
     },
     "execution_count": 44,
     "metadata": {},
     "output_type": "execute_result"
    }
   ],
   "source": [
    "y = 1.5\n",
    "y"
   ]
  },
  {
   "cell_type": "code",
   "execution_count": 11,
   "metadata": {},
   "outputs": [
    {
     "data": {
      "text/plain": [
       "matrix([[0.9928101]])"
      ]
     },
     "execution_count": 11,
     "metadata": {},
     "output_type": "execute_result"
    }
   ],
   "source": [
    "net[0] #output"
   ]
  },
  {
   "cell_type": "code",
   "execution_count": 12,
   "metadata": {},
   "outputs": [
    {
     "data": {
      "text/plain": [
       "array([[1., 1., 1., 1.]])"
      ]
     },
     "execution_count": 12,
     "metadata": {},
     "output_type": "execute_result"
    }
   ],
   "source": [
    "net[1] #weight"
   ]
  },
  {
   "cell_type": "code",
   "execution_count": 13,
   "metadata": {},
   "outputs": [
    {
     "data": {
      "text/plain": [
       "array([1.])"
      ]
     },
     "execution_count": 13,
     "metadata": {},
     "output_type": "execute_result"
    }
   ],
   "source": [
    "net[2] #threshold"
   ]
  },
  {
   "cell_type": "code",
   "execution_count": 36,
   "metadata": {},
   "outputs": [
    {
     "data": {
      "text/plain": [
       "matrix([[1.0143798]])"
      ]
     },
     "execution_count": 36,
     "metadata": {},
     "output_type": "execute_result"
    }
   ],
   "source": [
    "gradientYL = 2*(y - net[0][2])\n",
    "gradientYL"
   ]
  },
  {
   "cell_type": "code",
   "execution_count": 37,
   "metadata": {},
   "outputs": [
    {
     "data": {
      "text/plain": [
       "matrix([[0.98196545],\n",
       "        [0.98196545],\n",
       "        [0.98196545],\n",
       "        [0.98196545]])"
      ]
     },
     "execution_count": 37,
     "metadata": {},
     "output_type": "execute_result"
    }
   ],
   "source": [
    "x = net[0][1]\n",
    "x"
   ]
  },
  {
   "cell_type": "code",
   "execution_count": 38,
   "metadata": {},
   "outputs": [
    {
     "data": {
      "text/plain": [
       "matrix([[0.9928101]])"
      ]
     },
     "execution_count": 38,
     "metadata": {},
     "output_type": "execute_result"
    }
   ],
   "source": [
    "y_hat = net[0][2]\n",
    "y_hat"
   ]
  },
  {
   "cell_type": "code",
   "execution_count": 39,
   "metadata": {},
   "outputs": [
    {
     "data": {
      "text/plain": [
       "matrix([[1., 1., 1., 1.]])"
      ]
     },
     "execution_count": 39,
     "metadata": {},
     "output_type": "execute_result"
    }
   ],
   "source": [
    "w=net[1][2]\n",
    "w"
   ]
  },
  {
   "cell_type": "code",
   "execution_count": 40,
   "metadata": {},
   "outputs": [],
   "source": [
    "i = 0"
   ]
  },
  {
   "cell_type": "code",
   "execution_count": 51,
   "metadata": {},
   "outputs": [
    {
     "data": {
      "text/plain": [
       "[matrix([[0.00724085],\n",
       "         [0.00724085],\n",
       "         [0.00724085],\n",
       "         [0.00724085]]),\n",
       " matrix([[0.00711027],\n",
       "         [0.00711027],\n",
       "         [0.00711027],\n",
       "         [0.00711027]]),\n",
       " matrix([[0.00724085]])]"
      ]
     },
     "execution_count": 51,
     "metadata": {},
     "output_type": "execute_result"
    }
   ],
   "source": [
    "backwards0(gradientYL, x, y_hat, w, i)"
   ]
  },
  {
   "cell_type": "code",
   "execution_count": null,
   "metadata": {},
   "outputs": [],
   "source": [
    "backwards0(gradientYL, x, y_hat, w, i)"
   ]
  }
 ],
 "metadata": {
  "kernelspec": {
   "display_name": "base",
   "language": "python",
   "name": "python3"
  },
  "language_info": {
   "codemirror_mode": {
    "name": "ipython",
    "version": 3
   },
   "file_extension": ".py",
   "mimetype": "text/x-python",
   "name": "python",
   "nbconvert_exporter": "python",
   "pygments_lexer": "ipython3",
   "version": "3.9.13"
  },
  "orig_nbformat": 4
 },
 "nbformat": 4,
 "nbformat_minor": 2
}
