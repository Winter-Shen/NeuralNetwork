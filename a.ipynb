{
 "cells": [
  {
   "cell_type": "code",
   "execution_count": 1,
   "metadata": {},
   "outputs": [],
   "source": [
    "import numpy as np"
   ]
  },
  {
   "cell_type": "code",
   "execution_count": 2,
   "metadata": {},
   "outputs": [],
   "source": [
    "def sigmoid(x):\n",
    "    return(np.exp(x)/(1+np.exp(x)))\n",
    "\n",
    "def forward0(x, w, b):\n",
    "    v=w*x+b\n",
    "    return(sigmoid(v))"
   ]
  },
  {
   "cell_type": "code",
   "execution_count": 3,
   "metadata": {},
   "outputs": [],
   "source": [
    "def forward(x, l):\n",
    "    w_list = []\n",
    "    b_list = []\n",
    "\n",
    "    x = np.matrix(x).T\n",
    "\n",
    "    for i, j in enumerate(l):\n",
    "        if i:\n",
    "            w = np.ones((j, l[i-1]))\n",
    "        else:\n",
    "            w = np.ones((j, x.shape[0]))\n",
    "        w_list.append(w)\n",
    "\n",
    "        b = np.ones(j)\n",
    "        b_list.append(b)\n",
    "\n",
    "        x = forward0(x, np.matrix(w), np.matrix(b).T)\n",
    "        print(x)\n",
    "\n",
    "    y = x[0, 0]\n",
    "    return(y)"
   ]
  },
  {
   "cell_type": "code",
   "execution_count": 4,
   "metadata": {},
   "outputs": [
    {
     "name": "stdout",
     "output_type": "stream",
     "text": [
      "[[0.99908895]\n",
      " [0.99908895]\n",
      " [0.99908895]]\n",
      "[[0.98196545]\n",
      " [0.98196545]\n",
      " [0.98196545]\n",
      " [0.98196545]]\n",
      "[[0.9928101]]\n"
     ]
    },
    {
     "data": {
      "text/plain": [
       "0.9928100975896637"
      ]
     },
     "execution_count": 4,
     "metadata": {},
     "output_type": "execute_result"
    }
   ],
   "source": [
    "x = np.array([1, 2, 3])\n",
    "l = [3, 4, 1]\n",
    "forward(x, l)"
   ]
  },
  {
   "cell_type": "code",
   "execution_count": 110,
   "metadata": {},
   "outputs": [],
   "source": [
    "def backwards0(x, wa, gradientWb, eta, gradientAF, i):\n",
    "    gradientWb = np.matrix(gradientWb).T\n",
    "    x = np.matrix(x)\n",
    "    gradientWa = gradientWb*x\n",
    "    wa = wa-eta*gradientWa\n",
    "    return([wa, gradientWa])"
   ]
  },
  {
   "cell_type": "code",
   "execution_count": null,
   "metadata": {},
   "outputs": [],
   "source": [
    "def backwards0(gradientYL, x, y, w, i):\n",
    "    jacobianVY = y*(1-y)\n",
    "    gradientVL = jacobianVY * gradientYL\n",
    "    gradientUL = gradientVL\n",
    "    gradientXL = w.T * gradientUL\n",
    "    gradientWiL = gradientUL[i]*x\n",
    "    gradientBL = gradientVL\n",
    "    return([gradientXL, gradientWiL, gradientBL])"
   ]
  },
  {
   "cell_type": "code",
   "execution_count": 111,
   "metadata": {},
   "outputs": [],
   "source": [
    "gradientLoss = np.random.rand(3)\n",
    "x = np.random.rand(4)\n",
    "w = np.random.rand(3,4)\n",
    "eta = 0.1"
   ]
  },
  {
   "cell_type": "code",
   "execution_count": 112,
   "metadata": {},
   "outputs": [
    {
     "data": {
      "text/plain": [
       "matrix([[0.3367525 , 0.01942241, 0.0807967 , 0.91248731],\n",
       "        [0.53912076, 0.27358483, 0.91363997, 0.29526991],\n",
       "        [0.24230199, 0.84306464, 0.09336134, 0.75670972]])"
      ]
     },
     "execution_count": 112,
     "metadata": {},
     "output_type": "execute_result"
    }
   ],
   "source": [
    "backwards0(x, w, gradientLoss, eta)"
   ]
  }
 ],
 "metadata": {
  "kernelspec": {
   "display_name": "base",
   "language": "python",
   "name": "python3"
  },
  "language_info": {
   "codemirror_mode": {
    "name": "ipython",
    "version": 3
   },
   "file_extension": ".py",
   "mimetype": "text/x-python",
   "name": "python",
   "nbconvert_exporter": "python",
   "pygments_lexer": "ipython3",
   "version": "3.9.13"
  },
  "orig_nbformat": 4
 },
 "nbformat": 4,
 "nbformat_minor": 2
}
