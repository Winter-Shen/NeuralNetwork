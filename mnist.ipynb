{
 "cells": [
  {
   "attachments": {},
   "cell_type": "markdown",
   "metadata": {},
   "source": [
    "# Import Moduals"
   ]
  },
  {
   "cell_type": "code",
   "execution_count": 1,
   "metadata": {},
   "outputs": [],
   "source": [
    "import numpy as np\n",
    "import seaborn as sns\n",
    "import matplotlib.pyplot as plt\n",
    "\n",
    "import NeuralNetwork\n",
    "\n",
    "from keras.utils import to_categorical\n",
    "from keras.metrics import CategoricalAccuracy\n",
    "from keras.losses import MeanSquaredError\n",
    "from keras.initializers import GlorotUniform\n",
    "\n",
    "from importlib import reload\n",
    "\n",
    "metrics = CategoricalAccuracy()"
   ]
  },
  {
   "attachments": {},
   "cell_type": "markdown",
   "metadata": {},
   "source": [
    "# Preprocessing"
   ]
  },
  {
   "cell_type": "code",
   "execution_count": 2,
   "metadata": {},
   "outputs": [],
   "source": [
    "# import dataset\n",
    "from keras.datasets import mnist\n",
    "# load dataset\n",
    "(x_train, y_train),(x_test, y_test) = mnist.load_data()\n",
    "# compute the number of labels\n",
    "num_labels = len(np.unique(y_train))\n",
    "# convert to one-hot vector\n",
    "y_train = to_categorical(y_train)\n",
    "y_test = to_categorical(y_test)\n",
    "# image dimensions (assumed square)\n",
    "image_size = x_train.shape[1]\n",
    "input_size = image_size * image_size\n",
    "# resize and normalize\n",
    "x_train = np.reshape(x_train, [-1, input_size])\n",
    "x_train = x_train.astype('float32') / 255\n",
    "x_test = np.reshape(x_test, [-1, input_size])\n",
    "x_test = x_test.astype('float32') / 255"
   ]
  },
  {
   "attachments": {},
   "cell_type": "markdown",
   "metadata": {},
   "source": [
    "# Keras Model"
   ]
  },
  {
   "cell_type": "code",
   "execution_count": 4,
   "metadata": {},
   "outputs": [],
   "source": [
    "from keras.models import Sequential\n",
    "from keras.layers import Dense, Dropout\n",
    "from keras.optimizers import SGD\n",
    "\n",
    "def keras_fit(x_train, y_train, x_test, y_test, input_size, hidden_units, batch_size, dropout_probability, num_labels, epoch):\n",
    "    model = Sequential()\n",
    "    model.add(Dense(hidden_units, input_dim=input_size, use_bias=False))\n",
    "    model.add(Dropout(dropout_probability))\n",
    "    #model.add(Dense(hidden_units, use_bias=False))\n",
    "    #model.add(Dropout(0.45))\n",
    "    model.add(Dense(num_labels, use_bias=False))\n",
    "    model.compile(loss=MeanSquaredError(), \n",
    "                optimizer=SGD(learning_rate=0.01),\n",
    "                metrics=['accuracy'])\n",
    "    model.fit(x_train, y_train, epochs=epoch, batch_size=batch_size)\n",
    "    y_hat = model.predict(x_test)\n",
    "    metrics.update_state(y_test, y_hat)\n",
    "    return(metrics.result().numpy())"
   ]
  },
  {
   "cell_type": "code",
   "execution_count": 72,
   "metadata": {},
   "outputs": [
    {
     "name": "stdout",
     "output_type": "stream",
     "text": [
      "Keras Model\n",
      "Epoch 1/5\n",
      "235/235 [==============================] - 1s 2ms/step - loss: 0.7669 - accuracy: 0.1572\n",
      "Epoch 2/5\n",
      "235/235 [==============================] - 1s 2ms/step - loss: 0.3971 - accuracy: 0.2301\n",
      "Epoch 3/5\n",
      "235/235 [==============================] - 1s 2ms/step - loss: 0.2810 - accuracy: 0.2771\n",
      "Epoch 4/5\n",
      "235/235 [==============================] - 1s 2ms/step - loss: 0.2173 - accuracy: 0.3246\n",
      "Epoch 5/5\n",
      "235/235 [==============================] - 1s 2ms/step - loss: 0.1791 - accuracy: 0.3617\n",
      "313/313 [==============================] - 0s 873us/step\n",
      "\n",
      "Accuracy: 0.7845333\n"
     ]
    }
   ],
   "source": [
    "batch_size = 256\n",
    "hidden_units = 256\n",
    "epoch = 5\n",
    "dropout_probability = 0.8265522131696343\n",
    "print(\"Keras Model\")\n",
    "print(\"\\nAccuracy: \" + str(keras_fit(x_train, y_train, x_test, y_test, input_size, hidden_units, batch_size, dropout_probability, num_labels, epoch)))"
   ]
  },
  {
   "attachments": {},
   "cell_type": "markdown",
   "metadata": {},
   "source": [
    "# Standard Model"
   ]
  },
  {
   "cell_type": "code",
   "execution_count": 7,
   "metadata": {},
   "outputs": [],
   "source": [
    "reload(NeuralNetwork)\n",
    "from NeuralNetwork import MyModel, MyLayer\n",
    "# The function can fit a model and return accuracy of test data\n",
    "def f(x_train, y_train, x_test, y_test, model, batch_size, epoches, weight = None, progress = True, reset = True):\n",
    "    metrics = CategoricalAccuracy()\n",
    "    if(weight is not None):\n",
    "        model.setWeight(weight)\n",
    "    model.fit(x_train, y_train, 0.01, epoches = epoches, batch_size = batch_size, progress = progress)\n",
    "    y_hat = model.predict(x_test)\n",
    "    metrics.reset_state()\n",
    "    metrics.update_state(y_test, y_hat)\n",
    "    if(reset):\n",
    "        model.reset()\n",
    "    return metrics.result().numpy()"
   ]
  },
  {
   "cell_type": "code",
   "execution_count": 4,
   "metadata": {},
   "outputs": [
    {
     "name": "stdout",
     "output_type": "stream",
     "text": [
      "Standard Deep Learning\n"
     ]
    },
    {
     "name": "stderr",
     "output_type": "stream",
     "text": [
      "Epoch  1: 100% |██████████| 469/469, Accuracy: 0.4402, Loss: 0.0908;\n",
      "Epoch  2: 100% |██████████| 469/469, Accuracy: 0.6730, Loss: 0.0758;\n",
      "Epoch  3: 100% |██████████| 469/469, Accuracy: 0.7328, Loss: 0.0683;\n",
      "Epoch  4: 100% |██████████| 469/469, Accuracy: 0.7618, Loss: 0.0635;\n",
      "Epoch  5: 100% |██████████| 469/469, Accuracy: 0.7805, Loss: 0.0602;\n"
     ]
    },
    {
     "name": "stdout",
     "output_type": "stream",
     "text": [
      "\n",
      "Accuracy: 0.7943\n"
     ]
    }
   ],
   "source": [
    "batch_size = 128\n",
    "hidden_units = 128\n",
    "epoch = 5\n",
    "dropout_probability = 0.5\n",
    "\n",
    "standard = MyModel()\n",
    "standard.addLayer(MyLayer(input_size, hidden_units))\n",
    "standard.addLayer(MyLayer(hidden_units, num_labels))\n",
    "# standard deep learning\n",
    "print(\"Standard Deep Learning\")\n",
    "print(\"\\nAccuracy: \" + str(f(x_train, y_train, x_test, y_test, standard, batch_size, epoches = epoch, progress = True)))\n",
    "standard.reset()"
   ]
  },
  {
   "cell_type": "code",
   "execution_count": null,
   "metadata": {},
   "outputs": [],
   "source": [
    "accuracy_standard = [f(x_train, y_train, x_test, y_test, standard, batch_size, epoches = epoch, progress = False) for i in range(50)]"
   ]
  },
  {
   "cell_type": "markdown",
   "metadata": {},
   "source": [
    "# Deep Learning with Dropout"
   ]
  },
  {
   "cell_type": "code",
   "execution_count": 78,
   "metadata": {},
   "outputs": [
    {
     "name": "stdout",
     "output_type": "stream",
     "text": [
      "Deep Learning with Dropout\n"
     ]
    },
    {
     "name": "stderr",
     "output_type": "stream",
     "text": [
      "Epoch  1: 100% |██████████| 60000/60000, Accuracy: 0.7099, Loss: 0.0413;\n"
     ]
    },
    {
     "name": "stdout",
     "output_type": "stream",
     "text": [
      "\n",
      "Accuracy: 0.8392\n"
     ]
    }
   ],
   "source": [
    "reload(NeuralNetwork)\n",
    "from NeuralNetwork import MyModel, MyLayer\n",
    "batch_size = 1\n",
    "hidden_units = 256\n",
    "epoch = 1\n",
    "dropout_probability = 0.8265522131696343\n",
    "# Dropout Deep Neural Network\n",
    "dropout = MyModel()\n",
    "dropout.addLayer(MyLayer(input_size, hidden_units, dropout = True, dropout_probability = dropout_probability))\n",
    "dropout.addLayer(MyLayer(hidden_units, num_labels))\n",
    "# standard dropout\n",
    "print(\"Deep Learning with Dropout\")\n",
    "print(\"\\nAccuracy: \" + str(f(x_train, y_train, x_test, y_test, dropout, batch_size, epoches = epoch, progress = True)))\n",
    "dropout.reset()"
   ]
  },
  {
   "cell_type": "code",
   "execution_count": 26,
   "metadata": {},
   "outputs": [],
   "source": [
    "accuracy_dropout = [f(x_train, y_train, x_test, y_test, dropout, batch_size, epoches = epoch, progress = False) for i in range(50)]"
   ]
  },
  {
   "cell_type": "markdown",
   "metadata": {},
   "source": [
    "# LSH Model"
   ]
  },
  {
   "cell_type": "code",
   "execution_count": 80,
   "metadata": {},
   "outputs": [
    {
     "name": "stdout",
     "output_type": "stream",
     "text": [
      "Deep Learning with LSH Dropout\n"
     ]
    },
    {
     "name": "stderr",
     "output_type": "stream",
     "text": [
      "Epoch  1: 100% |██████████| 60000/60000, Accuracy: 0.8039, Loss: 0.0504;\n"
     ]
    },
    {
     "name": "stdout",
     "output_type": "stream",
     "text": [
      "\n",
      "Accuracy: 0.8313\n"
     ]
    }
   ],
   "source": [
    "# no rate training\n",
    "# mask rate\n",
    "\n",
    "reload(NeuralNetwork)\n",
    "from NeuralNetwork import MyModel, MyLayer\n",
    "batch_size = 1\n",
    "hidden_units = 256\n",
    "epoch = 1\n",
    "function_num = 5\n",
    "table_num = 6\n",
    "# Deep Neural Network with LSH dropout\n",
    "LSH = MyModel()\n",
    "LSH.addLayer(MyLayer(input_size, hidden_units, dropout_lsh = True, function_num=function_num, table_num=table_num))\n",
    "LSH.addLayer(MyLayer(hidden_units, num_labels))\n",
    "# LSH dropout\n",
    "print(\"Deep Learning with LSH Dropout\")\n",
    "print(\"\\nAccuracy: \" + str(f(x_train, y_train, x_test, y_test, LSH, batch_size, epoches = epoch, progress = True)))\n",
    "LSH.reset()"
   ]
  },
  {
   "cell_type": "code",
   "execution_count": 5,
   "metadata": {},
   "outputs": [
    {
     "name": "stdout",
     "output_type": "stream",
     "text": [
      "Deep Learning with LSH Dropout\n"
     ]
    },
    {
     "name": "stderr",
     "output_type": "stream",
     "text": [
      "Epoch  1: 100% |██████████| 60000/60000, Accuracy: 0.8108, Loss: 0.0412;\n"
     ]
    },
    {
     "name": "stdout",
     "output_type": "stream",
     "text": [
      "\n",
      "Accuracy: 0.8729\n"
     ]
    }
   ],
   "source": [
    "# no rate training\n",
    "# mask\n",
    "\n",
    "reload(NeuralNetwork)\n",
    "from NeuralNetwork import MyModel, MyLayer\n",
    "batch_size = 1\n",
    "hidden_units = 256\n",
    "epoch = 1\n",
    "function_num = 5\n",
    "table_num = 6\n",
    "# Deep Neural Network with LSH dropout\n",
    "LSH = MyModel()\n",
    "LSH.addLayer(MyLayer(input_size, hidden_units, dropout_lsh = True, function_num=function_num, table_num=table_num))\n",
    "LSH.addLayer(MyLayer(hidden_units, num_labels))\n",
    "# LSH dropout\n",
    "print(\"Deep Learning with LSH Dropout\")\n",
    "print(\"\\nAccuracy: \" + str(f(x_train, y_train, x_test, y_test, LSH, batch_size, epoches = epoch, progress = True)))\n",
    "LSH.reset()"
   ]
  },
  {
   "cell_type": "code",
   "execution_count": 6,
   "metadata": {},
   "outputs": [
    {
     "name": "stdout",
     "output_type": "stream",
     "text": [
      "Deep Learning with LSH Dropout\n"
     ]
    },
    {
     "name": "stderr",
     "output_type": "stream",
     "text": [
      "Epoch  1: 100% |██████████| 60000/60000, Accuracy: 0.8040, Loss: 0.0767;\n"
     ]
    },
    {
     "name": "stdout",
     "output_type": "stream",
     "text": [
      "\n",
      "Accuracy: 0.8401\n"
     ]
    }
   ],
   "source": [
    "# no rate training\n",
    "# no mask and no rate prediction\n",
    "\n",
    "reload(NeuralNetwork)\n",
    "from NeuralNetwork import MyModel, MyLayer\n",
    "batch_size = 1\n",
    "hidden_units = 256\n",
    "epoch = 1\n",
    "function_num = 5\n",
    "table_num = 6\n",
    "# Deep Neural Network with LSH dropout\n",
    "LSH = MyModel()\n",
    "LSH.addLayer(MyLayer(input_size, hidden_units, dropout_lsh = True, function_num=function_num, table_num=table_num))\n",
    "LSH.addLayer(MyLayer(hidden_units, num_labels))\n",
    "# LSH dropout\n",
    "print(\"Deep Learning with LSH Dropout\")\n",
    "print(\"\\nAccuracy: \" + str(f(x_train, y_train, x_test, y_test, LSH, batch_size, epoches = epoch, progress = True)))\n",
    "LSH.reset()"
   ]
  },
  {
   "cell_type": "code",
   "execution_count": 8,
   "metadata": {},
   "outputs": [
    {
     "name": "stdout",
     "output_type": "stream",
     "text": [
      "Deep Learning with LSH Dropout\n"
     ]
    },
    {
     "name": "stderr",
     "output_type": "stream",
     "text": [
      "Epoch  1: 100% |██████████| 60000/60000, Accuracy: 0.8149, Loss: 0.0498;\n"
     ]
    },
    {
     "name": "stdout",
     "output_type": "stream",
     "text": [
      "\n",
      "Accuracy: 0.8543\n"
     ]
    }
   ],
   "source": [
    "#  rate training\n",
    "#  no rate prediction\n",
    "\n",
    "reload(NeuralNetwork)\n",
    "from NeuralNetwork import MyModel, MyLayer\n",
    "batch_size = 1\n",
    "hidden_units = 256\n",
    "epoch = 1\n",
    "function_num = 5\n",
    "table_num = 6\n",
    "# Deep Neural Network with LSH dropout\n",
    "LSH = MyModel()\n",
    "LSH.addLayer(MyLayer(input_size, hidden_units, dropout_lsh = True, function_num=function_num, table_num=table_num))\n",
    "LSH.addLayer(MyLayer(hidden_units, num_labels))\n",
    "# LSH dropout\n",
    "print(\"Deep Learning with LSH Dropout\")\n",
    "print(\"\\nAccuracy: \" + str(f(x_train, y_train, x_test, y_test, LSH, batch_size, epoches = epoch, progress = True)))"
   ]
  },
  {
   "cell_type": "code",
   "execution_count": 121,
   "metadata": {},
   "outputs": [],
   "source": [
    "accuracy_LSH = [f(x_train, y_train, x_test, y_test, LSH, batch_size, epoches = epoch, progress = False) for i in range(1)]"
   ]
  },
  {
   "cell_type": "code",
   "execution_count": null,
   "metadata": {},
   "outputs": [],
   "source": []
  },
  {
   "cell_type": "code",
   "execution_count": 29,
   "metadata": {},
   "outputs": [
    {
     "data": {
      "image/png": "[encoded data removed]",
      "text/plain": [
       "<Figure size 640x480 with 1 Axes>"
      ]
     },
     "metadata": {},
     "output_type": "display_data"
    }
   ],
   "source": [
    "sns.kdeplot(accuracy_standard, fill=True, label=\"Standard Deep Learning\")\n",
    "sns.kdeplot(accuracy_dropout, fill=True, label=\"Standard Dropout\")\n",
    "sns.kdeplot(accuracy_LSH, fill=True, label=\"LSH Dropout\")\n",
    "plt.legend()\n",
    "plt.show()"
   ]
  },
  {
   "cell_type": "code",
   "execution_count": 114,
   "metadata": {},
   "outputs": [
    {
     "data": {
      "text/plain": [
       "<Axes: ylabel='Density'>"
      ]
     },
     "execution_count": 114,
     "metadata": {},
     "output_type": "execute_result"
    },
    {
     "data": {
      "image/png": "[encoded data removed]",
      "text/plain": [
       "<Figure size 640x480 with 1 Axes>"
      ]
     },
     "metadata": {},
     "output_type": "display_data"
    }
   ],
   "source": [
    "sns.kdeplot(accuracy_LSH, fill=True, label=\"Standard Deep Learning\")"
   ]
  }
 ],
 "metadata": {
  "kernelspec": {
   "display_name": "Python 3.9.16 ('LSH-Deep_Learning-Project')",
   "language": "python",
   "name": "python3"
  },
  "language_info": {
   "codemirror_mode": {
    "name": "ipython",
    "version": 3
   },
   "file_extension": ".py",
   "mimetype": "text/x-python",
   "name": "python",
   "nbconvert_exporter": "python",
   "pygments_lexer": "ipython3",
   "version": "3.9.16"
  },
  "orig_nbformat": 4,
  "vscode": {
   "interpreter": {
    "hash": "10d9af6cb6ad23fd6cb3b2b2da4eaf478aa7d823227bfd0644d333526c5f72fb"
   }
  }
 },
 "nbformat": 4,
 "nbformat_minor": 2
}
