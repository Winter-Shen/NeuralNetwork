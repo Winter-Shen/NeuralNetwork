{
 "cells": [
  {
   "attachments": {},
   "cell_type": "markdown",
   "metadata": {},
   "source": [
    "# Import Moduals"
   ]
  },
  {
   "cell_type": "code",
   "execution_count": 1,
   "metadata": {},
   "outputs": [
    {
     "name": "stderr",
     "output_type": "stream",
     "text": [
      "2023-06-07 22:10:01.209661: I tensorflow/core/platform/cpu_feature_guard.cc:182] This TensorFlow binary is optimized to use available CPU instructions in performance-critical operations.\n",
      "To enable the following instructions: AVX2 FMA, in other operations, rebuild TensorFlow with the appropriate compiler flags.\n",
      "2023-06-07 22:10:01.854989: W tensorflow/compiler/tf2tensorrt/utils/py_utils.cc:38] TF-TRT Warning: Could not find TensorRT\n",
      "2023-06-07 22:10:04.053978: E tensorflow/compiler/xla/stream_executor/cuda/cuda_driver.cc:266] failed call to cuInit: CUDA_ERROR_UNKNOWN: unknown error\n",
      "2023-06-07 22:10:04.054003: I tensorflow/compiler/xla/stream_executor/cuda/cuda_diagnostics.cc:168] retrieving CUDA diagnostic information for host: wentao-ubuntu\n",
      "2023-06-07 22:10:04.054007: I tensorflow/compiler/xla/stream_executor/cuda/cuda_diagnostics.cc:175] hostname: wentao-ubuntu\n",
      "2023-06-07 22:10:04.054111: I tensorflow/compiler/xla/stream_executor/cuda/cuda_diagnostics.cc:199] libcuda reported version is: 525.105.17\n",
      "2023-06-07 22:10:04.054127: I tensorflow/compiler/xla/stream_executor/cuda/cuda_diagnostics.cc:203] kernel reported version is: 525.105.17\n",
      "2023-06-07 22:10:04.054131: I tensorflow/compiler/xla/stream_executor/cuda/cuda_diagnostics.cc:309] kernel version seems to match DSO: 525.105.17\n"
     ]
    }
   ],
   "source": [
    "import numpy as np\n",
    "import seaborn as sns\n",
    "import matplotlib.pyplot as plt\n",
    "\n",
    "\n",
    "\n",
    "\n",
    "from keras.utils import to_categorical\n",
    "from keras.metrics import CategoricalAccuracy\n",
    "from keras.losses import MeanSquaredError\n",
    "from keras.initializers import GlorotUniform\n",
    "\n",
    "from importlib import reload\n",
    "\n",
    "metrics = CategoricalAccuracy()"
   ]
  },
  {
   "attachments": {},
   "cell_type": "markdown",
   "metadata": {},
   "source": [
    "# Preprocessing"
   ]
  },
  {
   "cell_type": "code",
   "execution_count": 2,
   "metadata": {},
   "outputs": [],
   "source": [
    "# import dataset\n",
    "from keras.datasets import mnist\n",
    "# load dataset\n",
    "(x_train, y_train),(x_test, y_test) = mnist.load_data()\n",
    "# compute the number of labels\n",
    "num_labels = len(np.unique(y_train))\n",
    "# convert to one-hot vector\n",
    "y_train = to_categorical(y_train)\n",
    "y_test = to_categorical(y_test)\n",
    "# image dimensions (assumed square)\n",
    "image_size = x_train.shape[1]\n",
    "input_size = image_size * image_size\n",
    "# resize and normalize\n",
    "x_train = np.reshape(x_train, [-1, input_size])\n",
    "x_train = x_train.astype('float32') / 255\n",
    "x_test = np.reshape(x_test, [-1, input_size])\n",
    "x_test = x_test.astype('float32') / 255"
   ]
  },
  {
   "cell_type": "code",
   "execution_count": 3,
   "metadata": {},
   "outputs": [],
   "source": [
    "\n",
    "batch_size = 1\n",
    "hidden_units = 256\n",
    "epoch = 1\n",
    "function_num = 5\n",
    "table_num = 6\n",
    "\n",
    "dropout_probability = (1-1/2**function_num)**table_num\n",
    "\n",
    "\n",
    "\n",
    "# The function can fit a model and return accuracy of test data\n",
    "def f(x_train, y_train, x_test, y_test, model, batch_size, epoches, weight = None, progress = True, reset = True):\n",
    "    metrics = CategoricalAccuracy()\n",
    "    if(weight is not None):\n",
    "        model.setWeight(weight)\n",
    "    model.fit(x_train, y_train, 0.01, epoches = epoches, batch_size = batch_size, progress = progress)\n",
    "    y_hat = model.predict(x_test)\n",
    "    metrics.reset_state()\n",
    "    metrics.update_state(y_test, y_hat)\n",
    "    if(reset):\n",
    "        model.reset()\n",
    "    return metrics.result().numpy()"
   ]
  },
  {
   "attachments": {},
   "cell_type": "markdown",
   "metadata": {},
   "source": [
    "# LSH Model"
   ]
  },
  {
   "cell_type": "code",
   "execution_count": 6,
   "metadata": {},
   "outputs": [
    {
     "name": "stdout",
     "output_type": "stream",
     "text": [
      "Deep Learning with LSH Dropout\n"
     ]
    },
    {
     "name": "stderr",
     "output_type": "stream",
     "text": [
      "Epoch  1: 100% |██████████| 60000/60000, Accuracy: 0.7970, Loss: 0.0562;\n"
     ]
    },
    {
     "name": "stdout",
     "output_type": "stream",
     "text": [
      "\n",
      "Accuracy: 0.8508\n"
     ]
    }
   ],
   "source": [
    "import NeuralNetwork as nn\n",
    "# Not divide by rate\n",
    "LSH1 = nn.MyModel()\n",
    "LSH1.addLayer(nn.MyLayer(input_size, hidden_units, dropout_lsh = True, function_num=function_num, table_num=table_num))\n",
    "LSH1.addLayer(nn.MyLayer(hidden_units, num_labels))\n",
    "# LSH dropout\n",
    "print(\"Deep Learning with LSH Dropout\")\n",
    "print(\"\\nAccuracy: \" + str(f(x_train, y_train, x_test, y_test, LSH1, batch_size, epoches = epoch, progress = True, reset=False)))\n",
    "#LSH.reset()"
   ]
  },
  {
   "cell_type": "code",
   "execution_count": 7,
   "metadata": {},
   "outputs": [
    {
     "name": "stdout",
     "output_type": "stream",
     "text": [
      "Deep Learning with LSH Dropout\n"
     ]
    },
    {
     "name": "stderr",
     "output_type": "stream",
     "text": [
      "Epoch  1: 100% |██████████| 60000/60000, Accuracy: 0.8155, Loss: 0.0155;\n"
     ]
    },
    {
     "name": "stdout",
     "output_type": "stream",
     "text": [
      "\n",
      "Accuracy: 0.8461\n"
     ]
    }
   ],
   "source": [
    "import NeuralNetwork1 as nn1\n",
    "# Divide by rate\n",
    "LSH2 = nn1.MyModel()\n",
    "LSH2.addLayer(nn1.MyLayer(input_size, hidden_units, dropout_lsh = True, function_num=function_num, table_num=table_num))\n",
    "LSH2.addLayer(nn1.MyLayer(hidden_units, num_labels))\n",
    "# LSH dropout\n",
    "print(\"Deep Learning with LSH Dropout\")\n",
    "print(\"\\nAccuracy: \" + str(f(x_train, y_train, x_test, y_test, LSH2, batch_size, epoches = epoch, progress = True, reset=False)))\n",
    "#LSH.reset()"
   ]
  },
  {
   "cell_type": "code",
   "execution_count": 7,
   "metadata": {},
   "outputs": [
    {
     "name": "stdout",
     "output_type": "stream",
     "text": [
      "Deep Learning with LSH Dropout\n"
     ]
    },
    {
     "name": "stderr",
     "output_type": "stream",
     "text": [
      "Epoch  1: 100% |██████████| 60000/60000, Accuracy: 0.7105, Loss: 0.0366;\n"
     ]
    },
    {
     "name": "stdout",
     "output_type": "stream",
     "text": [
      "\n",
      "Accuracy: 0.8398\n"
     ]
    }
   ],
   "source": [
    "import NeuralNetwork as nn\n",
    "# Not divide by rate\n",
    "standard = nn.MyModel()\n",
    "standard.addLayer(nn.MyLayer(input_size, hidden_units, dropout = True, dropout_probability=dropout_probability))\n",
    "standard.addLayer(nn.MyLayer(hidden_units, num_labels))\n",
    "# LSH dropout\n",
    "print(\"Deep Learning with LSH Dropout\")\n",
    "print(\"\\nAccuracy: \" + str(f(x_train, y_train, x_test, y_test, standard, batch_size, epoches = epoch, progress = True, reset=False)))\n"
   ]
  },
  {
   "cell_type": "code",
   "execution_count": 8,
   "metadata": {},
   "outputs": [
    {
     "name": "stdout",
     "output_type": "stream",
     "text": [
      "Deep Learning with LSH Dropout\n"
     ]
    },
    {
     "name": "stderr",
     "output_type": "stream",
     "text": [
      "Epoch  1: 100% |██████████| 60000/60000, Accuracy: 0.6787, Loss: 0.0503;\n"
     ]
    },
    {
     "name": "stdout",
     "output_type": "stream",
     "text": [
      "\n",
      "Accuracy: 0.8235\n"
     ]
    }
   ],
   "source": [
    "import NeuralNetwork1 as nn1\n",
    "# Divide by rate\n",
    "standard1 = nn1.MyModel()\n",
    "standard1.addLayer(nn1.MyLayer(input_size, hidden_units, dropout = True, dropout_probability=dropout_probability))\n",
    "standard1.addLayer(nn1.MyLayer(hidden_units, num_labels))\n",
    "# LSH dropout\n",
    "print(\"Deep Learning with LSH Dropout\")\n",
    "print(\"\\nAccuracy: \" + str(f(x_train, y_train, x_test, y_test, standard1, batch_size, epoches = epoch, progress = True, reset=False)))"
   ]
  }
 ],
 "metadata": {
  "kernelspec": {
   "display_name": "Python 3.9.16 ('LSH-Deep_Learning-Project')",
   "language": "python",
   "name": "python3"
  },
  "language_info": {
   "codemirror_mode": {
    "name": "ipython",
    "version": 3
   },
   "file_extension": ".py",
   "mimetype": "text/x-python",
   "name": "python",
   "nbconvert_exporter": "python",
   "pygments_lexer": "ipython3",
   "version": "3.11.2"
  },
  "orig_nbformat": 4,
  "vscode": {
   "interpreter": {
    "hash": "10d9af6cb6ad23fd6cb3b2b2da4eaf478aa7d823227bfd0644d333526c5f72fb"
   }
  }
 },
 "nbformat": 4,
 "nbformat_minor": 2
}
