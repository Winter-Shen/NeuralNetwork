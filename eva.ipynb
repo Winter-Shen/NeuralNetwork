{
 "cells": [
  {
   "cell_type": "code",
   "execution_count": 1,
   "metadata": {},
   "outputs": [],
   "source": [
    "from network import Network\n",
    "from layer_wta import LayerWTA\n",
    "from layer_lsh import LayerLSH\n",
    "from layer import Layer\n",
    "\n",
    "import numpy as np\n",
    "from keras.utils import to_categorical\n",
    "from keras.metrics import CategoricalAccuracy\n",
    "\n",
    "import pickle\n",
    "\n",
    "# import dataset\n",
    "from keras.datasets import mnist\n",
    "# load dataset\n",
    "(x_train, y_train),(x_test, y_test) = mnist.load_data()\n",
    "# compute the number of labels\n",
    "num_labels = len(np.unique(y_train))\n",
    "# convert to one-hot vector\n",
    "y_train = to_categorical(y_train)\n",
    "y_test = to_categorical(y_test)\n",
    "# image dimensions (assumed square)\n",
    "image_size = x_train.shape[1]\n",
    "input_size = image_size * image_size\n",
    "# resize and normalize\n",
    "x_train = np.reshape(x_train, [-1, input_size])\n",
    "x_train = x_train.astype('float32') / 255\n",
    "x_test = np.reshape(x_test, [-1, input_size])\n",
    "x_test = x_test.astype('float32') / 255\n",
    "\n",
    "hidden_units = 256\n",
    "learning_rate = 0.01\n",
    "\n",
    "function_num = 5\n",
    "table_num = 6\n",
    "\n",
    "top_k = 1-(1-(1/2**function_num))**table_num\n",
    "\n",
    "epochs = 25"
   ]
  },
  {
   "cell_type": "code",
   "execution_count": 2,
   "metadata": {},
   "outputs": [
    {
     "name": "stdout",
     "output_type": "stream",
     "text": [
      "epoch 1 has completed\n",
      "epoch 2 has completed\n",
      "epoch 3 has completed\n",
      "epoch 4 has completed\n",
      "epoch 5 has completed\n",
      "epoch 6 has completed\n",
      "epoch 7 has completed\n",
      "epoch 8 has completed\n",
      "epoch 9 has completed\n",
      "epoch 10 has completed\n",
      "epoch 11 has completed\n",
      "epoch 12 has completed\n",
      "epoch 13 has completed\n",
      "epoch 14 has completed\n",
      "epoch 15 has completed\n",
      "epoch 16 has completed\n",
      "epoch 17 has completed\n",
      "epoch 18 has completed\n",
      "epoch 19 has completed\n",
      "epoch 20 has completed\n",
      "epoch 21 has completed\n",
      "epoch 22 has completed\n",
      "epoch 23 has completed\n",
      "epoch 24 has completed\n",
      "epoch 25 has completed\n",
      "0.9802\n"
     ]
    }
   ],
   "source": [
    "neural_network_wta = Network()\n",
    "neural_network_wta.addLayer(LayerWTA(input_size, hidden_units, top_k))\n",
    "neural_network_wta.addLayer(LayerWTA(hidden_units, hidden_units, top_k))\n",
    "neural_network_wta.addLayer(LayerWTA(hidden_units, hidden_units, top_k))\n",
    "neural_network_wta.addLayer(Layer(hidden_units, num_labels))\n",
    "\n",
    "[epoch_accuracy_wta, epoch_time_wta] = neural_network_wta.fit(x_train, y_train, learning_rate=learning_rate, epochs = epochs, progress=False)\n",
    "y_hat = neural_network_wta.predict(x_test)\n",
    "\n",
    "metrics = CategoricalAccuracy()\n",
    "metrics.update_state(y_test, y_hat)\n",
    "print(metrics.result().numpy())"
   ]
  },
  {
   "cell_type": "code",
   "execution_count": 3,
   "metadata": {},
   "outputs": [
    {
     "name": "stdout",
     "output_type": "stream",
     "text": [
      "Object successfully saved to \"../data/neural_network_wta.pkl\"\n"
     ]
    }
   ],
   "source": [
    "file_name = '../data/neural_network_wta.pkl'\n",
    "with open(file_name, 'wb') as file:\n",
    "    pickle.dump(neural_network_wta, file)\n",
    "    print(f'Object successfully saved to \"{file_name}\"')"
   ]
  },
  {
   "cell_type": "code",
   "execution_count": 2,
   "metadata": {},
   "outputs": [
    {
     "name": "stdout",
     "output_type": "stream",
     "text": [
      "epoch 1 has completed\n",
      "epoch 2 has completed\n",
      "epoch 3 has completed\n",
      "epoch 4 has completed\n",
      "epoch 5 has completed\n",
      "epoch 6 has completed\n",
      "epoch 7 has completed\n",
      "epoch 8 has completed\n",
      "epoch 9 has completed\n",
      "epoch 10 has completed\n",
      "epoch 11 has completed\n",
      "epoch 12 has completed\n",
      "epoch 13 has completed\n",
      "epoch 14 has completed\n",
      "epoch 15 has completed\n",
      "epoch 16 has completed\n",
      "epoch 17 has completed\n",
      "epoch 18 has completed\n",
      "epoch 19 has completed\n",
      "epoch 20 has completed\n",
      "epoch 21 has completed\n",
      "epoch 22 has completed\n",
      "epoch 23 has completed\n",
      "epoch 24 has completed\n",
      "epoch 25 has completed\n",
      "0.8916\n"
     ]
    }
   ],
   "source": [
    "neural_network_lsh = Network()\n",
    "neural_network_lsh.addLayer(LayerLSH(input_size, hidden_units, function_num=function_num, table_num=table_num))\n",
    "neural_network_lsh.addLayer(LayerLSH(hidden_units, hidden_units, function_num=function_num, table_num=table_num))\n",
    "neural_network_lsh.addLayer(LayerLSH(hidden_units, hidden_units, function_num=function_num, table_num=table_num))\n",
    "neural_network_lsh.addLayer(Layer(hidden_units, num_labels))\n",
    "\n",
    "[epoch_accuracy_lsh, epoch_time_lsh] = neural_network_lsh.fit(x_train, y_train, learning_rate=learning_rate, epochs = epochs, progress=False)\n",
    "y_hat = neural_network_lsh.predict(x_test)\n",
    "\n",
    "metrics = CategoricalAccuracy()\n",
    "metrics.update_state(y_test, y_hat)\n",
    "print(metrics.result().numpy())"
   ]
  },
  {
   "cell_type": "code",
   "execution_count": 3,
   "metadata": {},
   "outputs": [
    {
     "name": "stdout",
     "output_type": "stream",
     "text": [
      "Object successfully saved to \"../data/neural_network_lsh.pkl\"\n"
     ]
    }
   ],
   "source": [
    "file_name = '../data/neural_network_lsh.pkl'\n",
    "with open(file_name, 'wb') as file:\n",
    "    pickle.dump(neural_network_lsh, file)\n",
    "    print(f'Object successfully saved to \"{file_name}\"')"
   ]
  },
  {
   "cell_type": "code",
   "execution_count": 4,
   "metadata": {},
   "outputs": [
    {
     "data": {
      "text/plain": [
       "[0.81958336,\n",
       " 0.86806667,\n",
       " 0.8749667,\n",
       " 0.87738335,\n",
       " 0.8804,\n",
       " 0.8818,\n",
       " 0.8853833,\n",
       " 0.88626665,\n",
       " 0.8885,\n",
       " 0.89045,\n",
       " 0.8910667,\n",
       " 0.89095,\n",
       " 0.8919,\n",
       " 0.89288336,\n",
       " 0.8927,\n",
       " 0.89295,\n",
       " 0.8940333,\n",
       " 0.8965333,\n",
       " 0.89828336,\n",
       " 0.89891666,\n",
       " 0.89885,\n",
       " 0.8994,\n",
       " 0.89916664,\n",
       " 0.89965,\n",
       " 0.89885]"
      ]
     },
     "execution_count": 4,
     "metadata": {},
     "output_type": "execute_result"
    }
   ],
   "source": [
    "neural_network_lsh.epoch_accuracy"
   ]
  }
 ],
 "metadata": {
  "kernelspec": {
   "display_name": "Python 3.9.16 ('LSH-Deep_Learning-Project')",
   "language": "python",
   "name": "python3"
  },
  "language_info": {
   "codemirror_mode": {
    "name": "ipython",
    "version": 3
   },
   "file_extension": ".py",
   "mimetype": "text/x-python",
   "name": "python",
   "nbconvert_exporter": "python",
   "pygments_lexer": "ipython3",
   "version": "3.9.16"
  },
  "orig_nbformat": 4,
  "vscode": {
   "interpreter": {
    "hash": "10d9af6cb6ad23fd6cb3b2b2da4eaf478aa7d823227bfd0644d333526c5f72fb"
   }
  }
 },
 "nbformat": 4,
 "nbformat_minor": 2
}
