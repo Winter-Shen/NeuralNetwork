{
 "cells": [
  {
   "attachments": {},
   "cell_type": "markdown",
   "metadata": {},
   "source": [
    "# Import Moduals"
   ]
  },
  {
   "cell_type": "code",
   "execution_count": 1,
   "metadata": {},
   "outputs": [
    {
     "name": "stderr",
     "output_type": "stream",
     "text": [
      "2023-06-05 22:33:07.440661: I tensorflow/core/platform/cpu_feature_guard.cc:182] This TensorFlow binary is optimized to use available CPU instructions in performance-critical operations.\n",
      "To enable the following instructions: AVX2 FMA, in other operations, rebuild TensorFlow with the appropriate compiler flags.\n",
      "2023-06-05 22:33:08.325378: W tensorflow/compiler/tf2tensorrt/utils/py_utils.cc:38] TF-TRT Warning: Could not find TensorRT\n",
      "2023-06-05 22:33:10.700813: I tensorflow/compiler/xla/stream_executor/cuda/cuda_gpu_executor.cc:996] successful NUMA node read from SysFS had negative value (-1), but there must be at least one NUMA node, so returning NUMA node zero. See more at https://github.com/torvalds/linux/blob/v6.0/Documentation/ABI/testing/sysfs-bus-pci#L344-L355\n",
      "2023-06-05 22:33:10.812024: I tensorflow/compiler/xla/stream_executor/cuda/cuda_gpu_executor.cc:996] successful NUMA node read from SysFS had negative value (-1), but there must be at least one NUMA node, so returning NUMA node zero. See more at https://github.com/torvalds/linux/blob/v6.0/Documentation/ABI/testing/sysfs-bus-pci#L344-L355\n",
      "2023-06-05 22:33:10.812196: I tensorflow/compiler/xla/stream_executor/cuda/cuda_gpu_executor.cc:996] successful NUMA node read from SysFS had negative value (-1), but there must be at least one NUMA node, so returning NUMA node zero. See more at https://github.com/torvalds/linux/blob/v6.0/Documentation/ABI/testing/sysfs-bus-pci#L344-L355\n",
      "2023-06-05 22:33:10.812822: I tensorflow/compiler/xla/stream_executor/cuda/cuda_gpu_executor.cc:996] successful NUMA node read from SysFS had negative value (-1), but there must be at least one NUMA node, so returning NUMA node zero. See more at https://github.com/torvalds/linux/blob/v6.0/Documentation/ABI/testing/sysfs-bus-pci#L344-L355\n",
      "2023-06-05 22:33:10.812960: I tensorflow/compiler/xla/stream_executor/cuda/cuda_gpu_executor.cc:996] successful NUMA node read from SysFS had negative value (-1), but there must be at least one NUMA node, so returning NUMA node zero. See more at https://github.com/torvalds/linux/blob/v6.0/Documentation/ABI/testing/sysfs-bus-pci#L344-L355\n",
      "2023-06-05 22:33:10.813076: I tensorflow/compiler/xla/stream_executor/cuda/cuda_gpu_executor.cc:996] successful NUMA node read from SysFS had negative value (-1), but there must be at least one NUMA node, so returning NUMA node zero. See more at https://github.com/torvalds/linux/blob/v6.0/Documentation/ABI/testing/sysfs-bus-pci#L344-L355\n",
      "2023-06-05 22:33:11.522903: I tensorflow/compiler/xla/stream_executor/cuda/cuda_gpu_executor.cc:996] successful NUMA node read from SysFS had negative value (-1), but there must be at least one NUMA node, so returning NUMA node zero. See more at https://github.com/torvalds/linux/blob/v6.0/Documentation/ABI/testing/sysfs-bus-pci#L344-L355\n",
      "2023-06-05 22:33:11.523129: I tensorflow/compiler/xla/stream_executor/cuda/cuda_gpu_executor.cc:996] successful NUMA node read from SysFS had negative value (-1), but there must be at least one NUMA node, so returning NUMA node zero. See more at https://github.com/torvalds/linux/blob/v6.0/Documentation/ABI/testing/sysfs-bus-pci#L344-L355\n",
      "2023-06-05 22:33:11.523301: I tensorflow/compiler/xla/stream_executor/cuda/cuda_gpu_executor.cc:996] successful NUMA node read from SysFS had negative value (-1), but there must be at least one NUMA node, so returning NUMA node zero. See more at https://github.com/torvalds/linux/blob/v6.0/Documentation/ABI/testing/sysfs-bus-pci#L344-L355\n",
      "2023-06-05 22:33:11.523420: I tensorflow/core/common_runtime/gpu/gpu_device.cc:1635] Created device /job:localhost/replica:0/task:0/device:GPU:0 with 4573 MB memory:  -> device: 0, name: NVIDIA GeForce RTX 2060, pci bus id: 0000:01:00.0, compute capability: 7.5\n"
     ]
    }
   ],
   "source": [
    "import numpy as np\n",
    "import seaborn as sns\n",
    "import matplotlib.pyplot as plt\n",
    "\n",
    "\n",
    "\n",
    "\n",
    "from keras.utils import to_categorical\n",
    "from keras.metrics import CategoricalAccuracy\n",
    "from keras.losses import MeanSquaredError\n",
    "from keras.initializers import GlorotUniform\n",
    "\n",
    "from importlib import reload\n",
    "\n",
    "metrics = CategoricalAccuracy()"
   ]
  },
  {
   "attachments": {},
   "cell_type": "markdown",
   "metadata": {},
   "source": [
    "# Preprocessing"
   ]
  },
  {
   "cell_type": "code",
   "execution_count": 2,
   "metadata": {},
   "outputs": [],
   "source": [
    "# import dataset\n",
    "from keras.datasets import mnist\n",
    "# load dataset\n",
    "(x_train, y_train),(x_test, y_test) = mnist.load_data()\n",
    "# compute the number of labels\n",
    "num_labels = len(np.unique(y_train))\n",
    "# convert to one-hot vector\n",
    "y_train = to_categorical(y_train)\n",
    "y_test = to_categorical(y_test)\n",
    "# image dimensions (assumed square)\n",
    "image_size = x_train.shape[1]\n",
    "input_size = image_size * image_size\n",
    "# resize and normalize\n",
    "x_train = np.reshape(x_train, [-1, input_size])\n",
    "x_train = x_train.astype('float32') / 255\n",
    "x_test = np.reshape(x_test, [-1, input_size])\n",
    "x_test = x_test.astype('float32') / 255"
   ]
  },
  {
   "cell_type": "code",
   "execution_count": 3,
   "metadata": {},
   "outputs": [],
   "source": [
    "batch_size = 1\n",
    "hidden_units = 256\n",
    "epoch = 1\n",
    "function_num = 5\n",
    "table_num = 6\n",
    "\n",
    "\n",
    "# The function can fit a model and return accuracy of test data\n",
    "def f(x_train, y_train, x_test, y_test, model, batch_size, epoches, weight = None, progress = True, reset = True):\n",
    "    metrics = CategoricalAccuracy()\n",
    "    if(weight is not None):\n",
    "        model.setWeight(weight)\n",
    "    model.fit(x_train, y_train, 0.01, epoches = epoches, batch_size = batch_size, progress = progress)\n",
    "    y_hat = model.predict(x_test)\n",
    "    metrics.reset_state()\n",
    "    metrics.update_state(y_test, y_hat)\n",
    "    if(reset):\n",
    "        model.reset()\n",
    "    return metrics.result().numpy()"
   ]
  },
  {
   "attachments": {},
   "cell_type": "markdown",
   "metadata": {},
   "source": [
    "# LSH Model"
   ]
  },
  {
   "cell_type": "code",
   "execution_count": 6,
   "metadata": {},
   "outputs": [
    {
     "name": "stdout",
     "output_type": "stream",
     "text": [
      "Deep Learning with LSH Dropout\n"
     ]
    },
    {
     "name": "stderr",
     "output_type": "stream",
     "text": [
      "Epoch  1:   1% |          | 481/60000, Accuracy: 0.2095, Loss: 0.0916;"
     ]
    }
   ],
   "source": [
    "import NeuralNetwork as nn\n",
    "# Not divide by rate\n",
    "LSH1 = nn.MyModel()\n",
    "LSH1.addLayer(nn.MyLayer(input_size, hidden_units, dropout_lsh = True, function_num=function_num, table_num=table_num))\n",
    "LSH1.addLayer(nn.MyLayer(hidden_units, num_labels))\n",
    "# LSH dropout\n",
    "print(\"Deep Learning with LSH Dropout\")\n",
    "print(\"\\nAccuracy: \" + str(f(x_train, y_train, x_test, y_test, LSH1, batch_size, epoches = epoch, progress = True, reset=False)))\n",
    "#LSH.reset()"
   ]
  },
  {
   "cell_type": "code",
   "execution_count": null,
   "metadata": {},
   "outputs": [
    {
     "name": "stdout",
     "output_type": "stream",
     "text": [
      "Deep Learning with LSH Dropout\n"
     ]
    },
    {
     "name": "stderr",
     "output_type": "stream",
     "text": [
      "Epoch  1:   0% |          | 17/60000, Accuracy: 0.0588, Loss: 1.6672;\n"
     ]
    },
    {
     "ename": "KeyboardInterrupt",
     "evalue": "",
     "output_type": "error",
     "traceback": [
      "\u001b[0;31m---------------------------------------------------------------------------\u001b[0m",
      "\u001b[0;31mKeyboardInterrupt\u001b[0m                         Traceback (most recent call last)",
      "Cell \u001b[0;32mIn[5], line 8\u001b[0m\n\u001b[1;32m      6\u001b[0m \u001b[39m# LSH dropout\u001b[39;00m\n\u001b[1;32m      7\u001b[0m \u001b[39mprint\u001b[39m(\u001b[39m\"\u001b[39m\u001b[39mDeep Learning with LSH Dropout\u001b[39m\u001b[39m\"\u001b[39m)\n\u001b[0;32m----> 8\u001b[0m \u001b[39mprint\u001b[39m(\u001b[39m\"\u001b[39m\u001b[39m\\n\u001b[39;00m\u001b[39mAccuracy: \u001b[39m\u001b[39m\"\u001b[39m \u001b[39m+\u001b[39m \u001b[39mstr\u001b[39m(f(x_train, y_train, x_test, y_test, LSH2, batch_size, epoches \u001b[39m=\u001b[39;49m epoch, progress \u001b[39m=\u001b[39;49m \u001b[39mTrue\u001b[39;49;00m, reset\u001b[39m=\u001b[39;49m\u001b[39mFalse\u001b[39;49;00m)))\n\u001b[1;32m      9\u001b[0m \u001b[39m#LSH.reset()\u001b[39;00m\n",
      "Cell \u001b[0;32mIn[3], line 13\u001b[0m, in \u001b[0;36mf\u001b[0;34m(x_train, y_train, x_test, y_test, model, batch_size, epoches, weight, progress, reset)\u001b[0m\n\u001b[1;32m     11\u001b[0m \u001b[39mif\u001b[39;00m(weight \u001b[39mis\u001b[39;00m \u001b[39mnot\u001b[39;00m \u001b[39mNone\u001b[39;00m):\n\u001b[1;32m     12\u001b[0m     model\u001b[39m.\u001b[39msetWeight(weight)\n\u001b[0;32m---> 13\u001b[0m model\u001b[39m.\u001b[39;49mfit(x_train, y_train, \u001b[39m0.01\u001b[39;49m, epoches \u001b[39m=\u001b[39;49m epoches, batch_size \u001b[39m=\u001b[39;49m batch_size, progress \u001b[39m=\u001b[39;49m progress)\n\u001b[1;32m     14\u001b[0m y_hat \u001b[39m=\u001b[39m model\u001b[39m.\u001b[39mpredict(x_test)\n\u001b[1;32m     15\u001b[0m metrics\u001b[39m.\u001b[39mreset_state()\n",
      "File \u001b[0;32m~/Documents/NeuralNetwork/NeuralNetwork1.py:227\u001b[0m, in \u001b[0;36mMyModel.fit\u001b[0;34m(self, X, Y, learning_rate, epoches, batch_size, progress)\u001b[0m\n\u001b[1;32m    225\u001b[0m cm \u001b[39m=\u001b[39m \u001b[39m0\u001b[39m\n\u001b[1;32m    226\u001b[0m \u001b[39mfor\u001b[39;00m j \u001b[39min\u001b[39;00m batchesP:\n\u001b[0;32m--> 227\u001b[0m     [loss, accuracy] \u001b[39m=\u001b[39m \u001b[39mself\u001b[39;49m\u001b[39m.\u001b[39;49m__fit(batches[j][\u001b[39m0\u001b[39;49m], batches[j][\u001b[39m1\u001b[39;49m], j)\n\u001b[1;32m    228\u001b[0m     cm \u001b[39m=\u001b[39m (cm \u001b[39m*\u001b[39m j\u001b[39m+\u001b[39maccuracy)\u001b[39m/\u001b[39m(j\u001b[39m+\u001b[39m\u001b[39m1\u001b[39m)\n\u001b[1;32m    229\u001b[0m     batchesP\u001b[39m.\u001b[39mset_description(\u001b[39m\"\u001b[39m\u001b[39mEpoch \u001b[39m\u001b[39m%2d\u001b[39;00m\u001b[39m\"\u001b[39m \u001b[39m%\u001b[39m (i\u001b[39m+\u001b[39m\u001b[39m1\u001b[39m))\n",
      "File \u001b[0;32m~/Documents/NeuralNetwork/NeuralNetwork1.py:210\u001b[0m, in \u001b[0;36mMyModel.__fit\u001b[0;34m(self, x, y, batch_label)\u001b[0m\n\u001b[1;32m    208\u001b[0m \u001b[39m# backwardpropogation\u001b[39;00m\n\u001b[1;32m    209\u001b[0m \u001b[39mfor\u001b[39;00m l \u001b[39min\u001b[39;00m \u001b[39mrange\u001b[39m(\u001b[39mself\u001b[39m\u001b[39m.\u001b[39mn\u001b[39m-\u001b[39m\u001b[39m1\u001b[39m, \u001b[39m-\u001b[39m\u001b[39m1\u001b[39m, \u001b[39m-\u001b[39m\u001b[39m1\u001b[39m):\n\u001b[0;32m--> 210\u001b[0m     dy \u001b[39m=\u001b[39m \u001b[39mself\u001b[39;49m\u001b[39m.\u001b[39;49mlayers[l]\u001b[39m.\u001b[39;49mbackwardPropagation(dy)\n\u001b[1;32m    211\u001b[0m \u001b[39mreturn\u001b[39;00m([loss, accuracy])\n",
      "File \u001b[0;32m~/Documents/NeuralNetwork/NeuralNetwork1.py:83\u001b[0m, in \u001b[0;36mMyLayer.backwardPropagation\u001b[0;34m(self, dy)\u001b[0m\n\u001b[1;32m     81\u001b[0m \u001b[39mself\u001b[39m\u001b[39m.\u001b[39mweight \u001b[39m=\u001b[39m \u001b[39mself\u001b[39m\u001b[39m.\u001b[39mweight \u001b[39m-\u001b[39m \u001b[39mself\u001b[39m\u001b[39m.\u001b[39mlearning_rate \u001b[39m*\u001b[39m \u001b[39mself\u001b[39m\u001b[39m.\u001b[39mdw\n\u001b[1;32m     82\u001b[0m \u001b[39mif\u001b[39;00m(\u001b[39mself\u001b[39m\u001b[39m.\u001b[39mdropout_lsh):\n\u001b[0;32m---> 83\u001b[0m     \u001b[39mself\u001b[39;49m\u001b[39m.\u001b[39;49m__updateHashTables()\n\u001b[1;32m     84\u001b[0m \u001b[39mreturn\u001b[39;00m dx\n",
      "File \u001b[0;32m~/Documents/NeuralNetwork/NeuralNetwork1.py:147\u001b[0m, in \u001b[0;36mMyLayer.__updateHashTables\u001b[0;34m(self)\u001b[0m\n\u001b[1;32m    145\u001b[0m weight \u001b[39m=\u001b[39m w\u001b[39m/\u001b[39m\u001b[39mself\u001b[39m\u001b[39m.\u001b[39mmax_norm\n\u001b[1;32m    146\u001b[0m norm \u001b[39m=\u001b[39m \u001b[39mself\u001b[39m\u001b[39m.\u001b[39mnorm[idx]\n\u001b[0;32m--> 147\u001b[0m e \u001b[39m=\u001b[39m np\u001b[39m.\u001b[39;49msqrt(\u001b[39m1\u001b[39;49m\u001b[39m-\u001b[39;49m(norm\u001b[39m/\u001b[39;49m\u001b[39mself\u001b[39;49m\u001b[39m.\u001b[39;49mmax_norm)\u001b[39m*\u001b[39;49m\u001b[39m*\u001b[39;49m\u001b[39m2\u001b[39;49m)\n\u001b[1;32m    148\u001b[0m new_w \u001b[39m=\u001b[39m np\u001b[39m.\u001b[39mappend(weight, e)\n\u001b[1;32m    150\u001b[0m \u001b[39m# Remove the weight connection in the hash table\u001b[39;00m\n",
      "\u001b[0;31mKeyboardInterrupt\u001b[0m: "
     ]
    }
   ],
   "source": [
    "import NeuralNetwork1 as nn1\n",
    "# Divide by rate\n",
    "LSH2 = nn1.MyModel()\n",
    "LSH2.addLayer(nn1.MyLayer(input_size, hidden_units, dropout_lsh = True, function_num=function_num, table_num=table_num))\n",
    "LSH2.addLayer(nn1.MyLayer(hidden_units, num_labels))\n",
    "# LSH dropout\n",
    "print(\"Deep Learning with LSH Dropout\")\n",
    "print(\"\\nAccuracy: \" + str(f(x_train, y_train, x_test, y_test, LSH2, batch_size, epoches = epoch, progress = True, reset=False)))\n",
    "#LSH.reset()"
   ]
  }
 ],
 "metadata": {
  "kernelspec": {
   "display_name": "Python 3.9.16 ('LSH-Deep_Learning-Project')",
   "language": "python",
   "name": "python3"
  },
  "language_info": {
   "codemirror_mode": {
    "name": "ipython",
    "version": 3
   },
   "file_extension": ".py",
   "mimetype": "text/x-python",
   "name": "python",
   "nbconvert_exporter": "python",
   "pygments_lexer": "ipython3",
   "version": "3.11.2"
  },
  "orig_nbformat": 4,
  "vscode": {
   "interpreter": {
    "hash": "10d9af6cb6ad23fd6cb3b2b2da4eaf478aa7d823227bfd0644d333526c5f72fb"
   }
  }
 },
 "nbformat": 4,
 "nbformat_minor": 2
}
