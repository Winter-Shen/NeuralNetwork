{
 "cells": [
  {
   "cell_type": "code",
   "execution_count": 1,
   "metadata": {},
   "outputs": [],
   "source": [
    "from network import Network\n",
    "from layer_dropout import LayerDropout\n",
    "from layer_wta import LayerWTA\n",
    "from layer_lsh import LayerLSH\n",
    "from layer import Layer\n",
    "\n",
    "import numpy as np\n",
    "from keras.utils import to_categorical\n",
    "from keras.metrics import CategoricalAccuracy\n",
    "\n",
    "import pickle\n",
    "\n",
    "# import dataset\n",
    "from keras.datasets import mnist\n",
    "# load dataset\n",
    "(x_train, y_train),(x_test, y_test) = mnist.load_data()\n",
    "# compute the number of labels\n",
    "num_labels = len(np.unique(y_train))\n",
    "# convert to one-hot vector\n",
    "y_train = to_categorical(y_train)\n",
    "y_test = to_categorical(y_test)\n",
    "# image dimensions (assumed square)\n",
    "image_size = x_train.shape[1]\n",
    "input_size = image_size * image_size\n",
    "# resize and normalize\n",
    "x_train = np.reshape(x_train, [-1, input_size])\n",
    "x_train = x_train.astype('float32') / 255\n",
    "x_test = np.reshape(x_test, [-1, input_size])\n",
    "x_test = x_test.astype('float32') / 255\n",
    "\n",
    "hidden_units = 256\n",
    "learning_rate = 0.01\n",
    "\n",
    "function_num = 5\n",
    "table_num = 6\n",
    "\n",
    "dropout_probability = top_k = 1-(1-(1/2**function_num))**table_num\n",
    "\n",
    "epochs = 25"
   ]
  },
  {
   "cell_type": "code",
   "execution_count": 2,
   "metadata": {},
   "outputs": [
    {
     "name": "stderr",
     "output_type": "stream",
     "text": [
      "Epoch  1: 100% |██████████| 60000/60000, Accuracy: 0.832;\n"
     ]
    },
    {
     "name": "stdout",
     "output_type": "stream",
     "text": [
      "0.8113\n"
     ]
    }
   ],
   "source": [
    "neural_network = Network()\n",
    "neural_network.addLayer(Layer(input_size, hidden_units))\n",
    "neural_network.addLayer(Layer(hidden_units, hidden_units))\n",
    "neural_network.addLayer(Layer(hidden_units, hidden_units))\n",
    "neural_network.addLayer(Layer(hidden_units, num_labels))\n",
    "\n",
    "[epoch_accuracy, epoch_time] = neural_network.fit(x_train, y_train, learning_rate=learning_rate, epochs = 1, progress=True)\n",
    "y_hat = neural_network.predict(x_test)\n",
    "\n",
    "metrics = CategoricalAccuracy()\n",
    "metrics.update_state(y_test, y_hat)\n",
    "print(metrics.result().numpy())"
   ]
  },
  {
   "cell_type": "code",
   "execution_count": 2,
   "metadata": {},
   "outputs": [
    {
     "name": "stderr",
     "output_type": "stream",
     "text": [
      "Epoch  1: 100% |██████████| 60000/60000, Accuracy: 0.794;\n"
     ]
    },
    {
     "name": "stdout",
     "output_type": "stream",
     "text": [
      "0.8329\n"
     ]
    }
   ],
   "source": [
    "neural_network_dropout = Network()\n",
    "neural_network_dropout.addLayer(LayerDropout(input_size, hidden_units, dropout_probability))\n",
    "neural_network_dropout.addLayer(LayerDropout(hidden_units, hidden_units, dropout_probability))\n",
    "neural_network_dropout.addLayer(LayerDropout(hidden_units, hidden_units, dropout_probability))\n",
    "neural_network_dropout.addLayer(Layer(hidden_units, num_labels))\n",
    "\n",
    "[epoch_accuracy_dropout, epoch_time_dropout] = neural_network_dropout.fit(x_train, y_train, learning_rate=learning_rate, epochs = 1, progress=True)\n",
    "y_hat = neural_network_dropout.predict(x_test)\n",
    "\n",
    "metrics = CategoricalAccuracy()\n",
    "metrics.update_state(y_test, y_hat)\n",
    "print(metrics.result().numpy())"
   ]
  },
  {
   "cell_type": "code",
   "execution_count": 2,
   "metadata": {},
   "outputs": [
    {
     "name": "stdout",
     "output_type": "stream",
     "text": [
      "epoch 1 has completed\n",
      "epoch 2 has completed\n",
      "epoch 3 has completed\n",
      "epoch 4 has completed\n",
      "epoch 5 has completed\n",
      "epoch 6 has completed\n",
      "epoch 7 has completed\n",
      "epoch 8 has completed\n",
      "epoch 9 has completed\n",
      "epoch 10 has completed\n",
      "epoch 11 has completed\n",
      "epoch 12 has completed\n",
      "epoch 13 has completed\n",
      "epoch 14 has completed\n",
      "epoch 15 has completed\n",
      "epoch 16 has completed\n",
      "epoch 17 has completed\n",
      "epoch 18 has completed\n",
      "epoch 19 has completed\n",
      "epoch 20 has completed\n",
      "epoch 21 has completed\n",
      "epoch 22 has completed\n",
      "epoch 23 has completed\n",
      "epoch 24 has completed\n",
      "epoch 25 has completed\n",
      "0.9802\n"
     ]
    }
   ],
   "source": [
    "neural_network_wta = Network()\n",
    "neural_network_wta.addLayer(LayerWTA(input_size, hidden_units, top_k))\n",
    "neural_network_wta.addLayer(LayerWTA(hidden_units, hidden_units, top_k))\n",
    "neural_network_wta.addLayer(LayerWTA(hidden_units, hidden_units, top_k))\n",
    "neural_network_wta.addLayer(Layer(hidden_units, num_labels))\n",
    "\n",
    "[epoch_accuracy_wta, epoch_time_wta] = neural_network_wta.fit(x_train, y_train, learning_rate=learning_rate, epochs = epochs, progress=False)\n",
    "y_hat = neural_network_wta.predict(x_test)\n",
    "\n",
    "metrics = CategoricalAccuracy()\n",
    "metrics.update_state(y_test, y_hat)\n",
    "print(metrics.result().numpy())"
   ]
  },
  {
   "cell_type": "code",
   "execution_count": 2,
   "metadata": {},
   "outputs": [
    {
     "name": "stdout",
     "output_type": "stream",
     "text": [
      "epoch 1 has completed\n",
      "epoch 2 has completed\n",
      "epoch 3 has completed\n",
      "epoch 4 has completed\n",
      "epoch 5 has completed\n",
      "epoch 6 has completed\n",
      "epoch 7 has completed\n",
      "epoch 8 has completed\n",
      "epoch 9 has completed\n",
      "epoch 10 has completed\n",
      "epoch 11 has completed\n",
      "epoch 12 has completed\n",
      "epoch 13 has completed\n",
      "epoch 14 has completed\n",
      "epoch 15 has completed\n",
      "epoch 16 has completed\n",
      "epoch 17 has completed\n",
      "epoch 18 has completed\n",
      "epoch 19 has completed\n",
      "epoch 20 has completed\n",
      "epoch 21 has completed\n",
      "epoch 22 has completed\n",
      "epoch 23 has completed\n",
      "epoch 24 has completed\n",
      "epoch 25 has completed\n",
      "0.8916\n"
     ]
    }
   ],
   "source": [
    "neural_network_lsh = Network()\n",
    "neural_network_lsh.addLayer(LayerLSH(input_size, hidden_units, function_num=function_num, table_num=table_num))\n",
    "neural_network_lsh.addLayer(LayerLSH(hidden_units, hidden_units, function_num=function_num, table_num=table_num))\n",
    "neural_network_lsh.addLayer(LayerLSH(hidden_units, hidden_units, function_num=function_num, table_num=table_num))\n",
    "neural_network_lsh.addLayer(Layer(hidden_units, num_labels))\n",
    "\n",
    "[epoch_accuracy_lsh, epoch_time_lsh] = neural_network_lsh.fit(x_train, y_train, learning_rate=learning_rate, epochs = epochs, progress=False)\n",
    "y_hat = neural_network_lsh.predict(x_test)\n",
    "\n",
    "metrics = CategoricalAccuracy()\n",
    "metrics.update_state(y_test, y_hat)\n",
    "print(metrics.result().numpy())"
   ]
  },
  {
   "cell_type": "code",
   "execution_count": 3,
   "metadata": {},
   "outputs": [
    {
     "name": "stdout",
     "output_type": "stream",
     "text": [
      "Object successfully saved to \"../data/neural_network_lsh.pkl\"\n"
     ]
    }
   ],
   "source": [
    "file_name = '../data/neural_network_lsh.pkl'\n",
    "with open(file_name, 'wb') as file:\n",
    "    pickle.dump(neural_network_lsh, file)\n",
    "    print(f'Object successfully saved to \"{file_name}\"')"
   ]
  },
  {
   "cell_type": "code",
   "execution_count": 2,
   "metadata": {},
   "outputs": [
    {
     "name": "stderr",
     "output_type": "stream",
     "text": [
      "Epoch  1: 100% |██████████| 60000/60000, Accuracy: 0.921;\n",
      "Epoch  2: 100% |██████████| 60000/60000, Accuracy: 0.960;\n",
      "Epoch  3: 100% |██████████| 60000/60000, Accuracy: 0.968;\n",
      "Epoch  4: 100% |██████████| 60000/60000, Accuracy: 0.974;\n",
      "Epoch  5: 100% |██████████| 60000/60000, Accuracy: 0.977;\n",
      "Epoch  6: 100% |██████████| 60000/60000, Accuracy: 0.980;\n",
      "Epoch  7: 100% |██████████| 60000/60000, Accuracy: 0.982;\n",
      "Epoch  8: 100% |██████████| 60000/60000, Accuracy: 0.984;\n",
      "Epoch  9: 100% |██████████| 60000/60000, Accuracy: 0.985;\n",
      "Epoch 10: 100% |██████████| 60000/60000, Accuracy: 0.986;\n",
      "Epoch 11: 100% |██████████| 60000/60000, Accuracy: 0.988;\n",
      "Epoch 12: 100% |██████████| 60000/60000, Accuracy: 0.989;\n",
      "Epoch 13: 100% |██████████| 60000/60000, Accuracy: 0.990;\n",
      "Epoch 14: 100% |██████████| 60000/60000, Accuracy: 0.990;\n",
      "Epoch 15: 100% |██████████| 60000/60000, Accuracy: 0.991;\n",
      "Epoch 16: 100% |██████████| 60000/60000, Accuracy: 0.992;\n",
      "Epoch 17: 100% |██████████| 60000/60000, Accuracy: 0.992;\n",
      "Epoch 18: 100% |██████████| 60000/60000, Accuracy: 0.993;\n",
      "Epoch 19: 100% |██████████| 60000/60000, Accuracy: 0.993;\n",
      "Epoch 20: 100% |██████████| 60000/60000, Accuracy: 0.994;\n",
      "Epoch 21: 100% |██████████| 60000/60000, Accuracy: 0.994;\n",
      "Epoch 22: 100% |██████████| 60000/60000, Accuracy: 0.995;\n",
      "Epoch 23: 100% |██████████| 60000/60000, Accuracy: 0.995;\n",
      "Epoch 24: 100% |██████████| 60000/60000, Accuracy: 0.995;\n",
      "Epoch 25: 100% |██████████| 60000/60000, Accuracy: 0.996;\n"
     ]
    },
    {
     "name": "stdout",
     "output_type": "stream",
     "text": [
      "0.9815\n"
     ]
    }
   ],
   "source": [
    "function_num = 1\n",
    "table_num = 1\n",
    "\n",
    "top_k = 1-(1-(1/2**function_num))**table_num\n",
    "\n",
    "epochs = 25\n",
    "neural_network_wta = Network()\n",
    "neural_network_wta.addLayer(LayerWTA(input_size, hidden_units, top_k))\n",
    "neural_network_wta.addLayer(LayerWTA(hidden_units, hidden_units, top_k))\n",
    "neural_network_wta.addLayer(LayerWTA(hidden_units, hidden_units, top_k))\n",
    "neural_network_wta.addLayer(Layer(hidden_units, num_labels))\n",
    "\n",
    "[epoch_accuracy_wta, epoch_time_wta] = neural_network_wta.fit(x_train, y_train, learning_rate=learning_rate, epochs = epochs, progress=True)\n",
    "y_hat = neural_network_wta.predict(x_test)\n",
    "\n",
    "metrics = CategoricalAccuracy()\n",
    "metrics.update_state(y_test, y_hat)\n",
    "print(metrics.result().numpy())"
   ]
  },
  {
   "cell_type": "code",
   "execution_count": null,
   "metadata": {},
   "outputs": [],
   "source": [
    "neural_network_lsh = Network()\n",
    "neural_network_lsh.addLayer(LayerLSH(input_size, hidden_units, function_num=function_num, table_num=table_num))\n",
    "neural_network_lsh.addLayer(LayerLSH(hidden_units, hidden_units, function_num=function_num, table_num=table_num))\n",
    "neural_network_lsh.addLayer(LayerLSH(hidden_units, hidden_units, function_num=function_num, table_num=table_num))\n",
    "neural_network_lsh.addLayer(Layer(hidden_units, num_labels))\n",
    "\n",
    "[epoch_accuracy_lsh, epoch_time_lsh] = neural_network_lsh.fit(x_train, y_train, learning_rate=learning_rate, epochs = epochs, progress=True)\n",
    "y_hat = neural_network_lsh.predict(x_test)\n",
    "\n",
    "metrics = CategoricalAccuracy()\n",
    "metrics.update_state(y_test, y_hat)\n",
    "print(metrics.result().numpy())"
   ]
  },
  {
   "cell_type": "code",
   "execution_count": null,
   "metadata": {},
   "outputs": [],
   "source": [
    "accuracy_standard = [\n",
    "    0.83175, 0.84462, 0.844483, 0.85405723, 0.8647384, \n",
    "    0.8607931333, 0.86073, 0.870734, 0.8844062, 0.897336963, \n",
    "    0.90, 0.98863333, 0.98968333, 0.99053335, 0.9911, \n",
    "    0.9916833, 0.99235, 0.9928833, 0.99333334, 0.99378335, \n",
    "    0.99418336, 0.99465, 0.9950167, 0.9954, 0.99565]"
   ]
  },
  {
   "cell_type": "code",
   "execution_count": null,
   "metadata": {},
   "outputs": [],
   "source": [
    "accuracy_dropout = [\n",
    "    0.7931333, 0.95996666, 0.9684167, 0.97365, 0.97718334, \n",
    "    0.98, 0.9818, 0.98391664, 0.9853, 0.98645, \n",
    "    0.98753333, 0.98863333, 0.98968333, 0.99053335, 0.9911, \n",
    "    0.9916833, 0.99235, 0.9928833, 0.99333334, 0.99378335, \n",
    "    0.99418336, 0.99465, 0.9950167, 0.9954, 0.99565]\n"
   ]
  },
  {
   "cell_type": "code",
   "execution_count": null,
   "metadata": {},
   "outputs": [],
   "source": [
    "accuracy_wta = [\n",
    "    0.9209, 0.95996666, 0.9684167, 0.97365, 0.97718334, \n",
    "    0.98, 0.9818, 0.98391664, 0.9853, 0.98645, \n",
    "    0.98753333, 0.98863333, 0.98968333, 0.99053335, 0.9911, \n",
    "    0.9916833, 0.99235, 0.9928833, 0.99333334, 0.99378335, \n",
    "    0.99418336, 0.99465, 0.9950167, 0.9954, 0.99565]"
   ]
  },
  {
   "cell_type": "code",
   "execution_count": 3,
   "metadata": {},
   "outputs": [],
   "source": [
    "accuracy_lsh = [\n",
    "    0.91958336, 0.96806667, 0.9749667, 0.97738335, 0.9804,\n",
    "    0.9818, 0.9853833, 0.98626665, 0.9885, 0.99045,\n",
    "    0.9910667, 0.99095, 0.9919, 0.99288336, 0.9927,\n",
    "    0.99295, 0.9940333, 0.9965333, 0.99828336, 0.99891666,\n",
    "    0.99885, 0.9994, 0.99916664, 0.99965, 0.99885]"
   ]
  },
  {
   "cell_type": "code",
   "execution_count": 6,
   "metadata": {},
   "outputs": [
    {
     "data": {
      "text/plain": [
       "array([0.5362841 , 0.89039384, 0.79073547, 0.48260481, 0.17024111,\n",
       "       0.06399728, 0.25115594, 0.17790812, 0.14406284, 0.57336963,\n",
       "       0.17185621, 0.64811644, 0.6769215 , 0.24364536, 0.9993783 ,\n",
       "       0.11331977, 0.08956745, 0.60139986, 0.55084815, 0.54334038,\n",
       "       0.07638159, 0.45344607, 0.70810507, 0.79106681, 0.87139961])"
      ]
     },
     "execution_count": 6,
     "metadata": {},
     "output_type": "execute_result"
    }
   ],
   "source": [
    "np.random.rand(25)"
   ]
  },
  {
   "cell_type": "code",
   "execution_count": 9,
   "metadata": {},
   "outputs": [
    {
     "data": {
      "text/plain": [
       "array([[1, 1, 1, 1, 1, 1, 1, 1, 1, 1, 1, 1]])"
      ]
     },
     "execution_count": 9,
     "metadata": {},
     "output_type": "execute_result"
    }
   ],
   "source": [
    "1 - np.zeros((1,12), dtype=bool)"
   ]
  }
 ],
 "metadata": {
  "kernelspec": {
   "display_name": "Python 3.9.16 ('LSH-Deep_Learning-Project')",
   "language": "python",
   "name": "python3"
  },
  "language_info": {
   "codemirror_mode": {
    "name": "ipython",
    "version": 3
   },
   "file_extension": ".py",
   "mimetype": "text/x-python",
   "name": "python",
   "nbconvert_exporter": "python",
   "pygments_lexer": "ipython3",
   "version": "3.9.16"
  },
  "orig_nbformat": 4,
  "vscode": {
   "interpreter": {
    "hash": "10d9af6cb6ad23fd6cb3b2b2da4eaf478aa7d823227bfd0644d333526c5f72fb"
   }
  }
 },
 "nbformat": 4,
 "nbformat_minor": 2
}
