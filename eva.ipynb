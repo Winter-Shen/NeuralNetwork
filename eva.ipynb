{
 "cells": [
  {
   "cell_type": "code",
   "execution_count": 1,
   "metadata": {},
   "outputs": [],
   "source": [
    "import numpy as np\n",
    "import seaborn as sns\n",
    "import matplotlib.pyplot as plt\n",
    "\n",
    "from keras.utils import to_categorical\n",
    "from keras.metrics import CategoricalAccuracy\n",
    "from keras.losses import MeanSquaredError\n",
    "from keras.initializers import GlorotUniform\n",
    "\n",
    "from importlib import reload\n",
    "\n",
    "metrics = CategoricalAccuracy()"
   ]
  },
  {
   "cell_type": "code",
   "execution_count": 2,
   "metadata": {},
   "outputs": [
    {
     "name": "stdout",
     "output_type": "stream",
     "text": [
      "Downloading data from https://storage.googleapis.com/tensorflow/tf-keras-datasets/mnist.npz\n",
      "11490434/11490434 [==============================] - 2s 0us/step\n"
     ]
    }
   ],
   "source": [
    "# import dataset\n",
    "from keras.datasets import mnist\n",
    "# load dataset\n",
    "(x_train, y_train),(x_test, y_test) = mnist.load_data()\n",
    "# compute the number of labels\n",
    "num_labels = len(np.unique(y_train))\n",
    "# convert to one-hot vector\n",
    "y_train = to_categorical(y_train)\n",
    "y_test = to_categorical(y_test)\n",
    "# image dimensions (assumed square)\n",
    "image_size = x_train.shape[1]\n",
    "input_size = image_size * image_size\n",
    "# resize and normalize\n",
    "x_train = np.reshape(x_train, [-1, input_size])\n",
    "x_train = x_train.astype('float32') / 255\n",
    "x_test = np.reshape(x_test, [-1, input_size])\n",
    "x_test = x_test.astype('float32') / 255"
   ]
  },
  {
   "cell_type": "code",
   "execution_count": 3,
   "metadata": {},
   "outputs": [],
   "source": [
    "\n",
    "batch_size = 1\n",
    "hidden_units = 256\n",
    "epoch = 1\n",
    "function_num = 5\n",
    "table_num = 6\n",
    "\n",
    "dropout_probability = (1-1/2**function_num)**table_num\n",
    "\n",
    "# The function can fit a model and return accuracy of test data\n",
    "def f(x_train, y_train, x_test, y_test, model, batch_size, epoches, weight = None, progress = True, reset = True):\n",
    "    metrics = CategoricalAccuracy()\n",
    "    if(weight is not None):\n",
    "        model.setWeight(weight)\n",
    "    model.fit(x_train, y_train, 0.01, epoches = epoches, batch_size = batch_size, progress = progress)\n",
    "    y_hat = model.predict(x_test)\n",
    "    metrics.reset_state()\n",
    "    metrics.update_state(y_test, y_hat)\n",
    "    if(reset):\n",
    "        model.reset()\n",
    "    return metrics.result().numpy()"
   ]
  },
  {
   "cell_type": "code",
   "execution_count": 9,
   "metadata": {},
   "outputs": [],
   "source": [
    "import NeuralNetwork as nn\n",
    "# Not divide by rate\n",
    "standard1 = nn.MyModel()\n",
    "standard1.addLayer(nn.MyLayer(input_size, hidden_units, dropout = True, dropout_probability=dropout_probability))\n",
    "standard1.addLayer(nn.MyLayer(hidden_units, num_labels))\n",
    "accuracy_standard1 = [0 for i in range(10)]\n",
    "for i in range(10):\n",
    "    accuracy_standard1[i] = f(x_train, y_train, x_test, y_test, standard1, batch_size, epoches = epoch, progress = False, reset=False)\n",
    "    #standard1.reset()"
   ]
  },
  {
   "cell_type": "code",
   "execution_count": 11,
   "metadata": {},
   "outputs": [],
   "source": [
    "import pickle\n",
    "with open(\"dropout_obj.pkl\", 'wb') as file:\n",
    "    pickle.dump(standard1, file)\n",
    "\n",
    "with open(\"dropout_accuracy.pkl\", 'wb') as file:\n",
    "    pickle.dump(accuracy_standard1, file)"
   ]
  }
 ],
 "metadata": {
  "kernelspec": {
   "display_name": "Python 3.9.16 ('LSH-Deep_Learning-Project')",
   "language": "python",
   "name": "python3"
  },
  "language_info": {
   "codemirror_mode": {
    "name": "ipython",
    "version": 3
   },
   "file_extension": ".py",
   "mimetype": "text/x-python",
   "name": "python",
   "nbconvert_exporter": "python",
   "pygments_lexer": "ipython3",
   "version": "3.9.16"
  },
  "orig_nbformat": 4,
  "vscode": {
   "interpreter": {
    "hash": "10d9af6cb6ad23fd6cb3b2b2da4eaf478aa7d823227bfd0644d333526c5f72fb"
   }
  }
 },
 "nbformat": 4,
 "nbformat_minor": 2
}
