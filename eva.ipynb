{
 "cells": [
  {
   "cell_type": "code",
   "execution_count": 3,
   "metadata": {},
   "outputs": [
    {
     "name": "stderr",
     "output_type": "stream",
     "text": [
      "2023-06-19 00:05:55.888743: I tensorflow/core/platform/cpu_feature_guard.cc:182] This TensorFlow binary is optimized to use available CPU instructions in performance-critical operations.\n",
      "To enable the following instructions: AVX2 FMA, in other operations, rebuild TensorFlow with the appropriate compiler flags.\n",
      "2023-06-19 00:05:57.482194: W tensorflow/compiler/tf2tensorrt/utils/py_utils.cc:38] TF-TRT Warning: Could not find TensorRT\n"
     ]
    }
   ],
   "source": [
    "from network import Network\n",
    "from layer_wta import LayerWTA\n",
    "from layer_lsh import LayerLSH\n",
    "from layer import Layer\n",
    "\n",
    "import numpy as np\n",
    "from keras.utils import to_categorical\n",
    "from keras.metrics import CategoricalAccuracy\n",
    "\n",
    "import pickle\n",
    "\n",
    "# import dataset\n",
    "from keras.datasets import mnist\n",
    "# load dataset\n",
    "(x_train, y_train),(x_test, y_test) = mnist.load_data()\n",
    "# compute the number of labels\n",
    "num_labels = len(np.unique(y_train))\n",
    "# convert to one-hot vector\n",
    "y_train = to_categorical(y_train)\n",
    "y_test = to_categorical(y_test)\n",
    "# image dimensions (assumed square)\n",
    "image_size = x_train.shape[1]\n",
    "input_size = image_size * image_size\n",
    "# resize and normalize\n",
    "x_train = np.reshape(x_train, [-1, input_size])\n",
    "x_train = x_train.astype('float32') / 255\n",
    "x_test = np.reshape(x_test, [-1, input_size])\n",
    "x_test = x_test.astype('float32') / 255\n",
    "\n",
    "hidden_units = 256\n",
    "learning_rate = 0.01\n",
    "\n",
    "function_num = 1\n",
    "table_num = 1\n",
    "\n",
    "top_k = 1-(1-(1/2**function_num))**table_num\n",
    "\n",
    "epochs = 10"
   ]
  },
  {
   "cell_type": "code",
   "execution_count": 3,
   "metadata": {},
   "outputs": [
    {
     "name": "stderr",
     "output_type": "stream",
     "text": [
      "Epoch  1: 100% |██████████| 60000/60000, Accuracy: 0.9212;\n",
      "Epoch  2: 100% |██████████| 60000/60000, Accuracy: 0.9596;\n",
      "Epoch  3: 100% |██████████| 60000/60000, Accuracy: 0.9681;\n",
      "Epoch  4: 100% |██████████| 60000/60000, Accuracy: 0.9731;\n",
      "Epoch  5: 100% |██████████| 60000/60000, Accuracy: 0.9772;\n",
      "Epoch  6: 100% |██████████| 60000/60000, Accuracy: 0.9799;\n",
      "Epoch  7: 100% |██████████| 60000/60000, Accuracy: 0.9824;\n",
      "Epoch  8: 100% |██████████| 60000/60000, Accuracy: 0.9844;\n",
      "Epoch  9: 100% |██████████| 60000/60000, Accuracy: 0.9860;\n",
      "Epoch 10: 100% |██████████| 60000/60000, Accuracy: 0.9872;\n"
     ]
    },
    {
     "name": "stdout",
     "output_type": "stream",
     "text": [
      "0.9775\n"
     ]
    }
   ],
   "source": [
    "neural_network_wta = Network()\n",
    "neural_network_wta.addLayer(LayerWTA(input_size, hidden_units, top_k))\n",
    "neural_network_wta.addLayer(LayerWTA(hidden_units, hidden_units, top_k))\n",
    "neural_network_wta.addLayer(LayerWTA(hidden_units, hidden_units, top_k))\n",
    "neural_network_wta.addLayer(Layer(hidden_units, num_labels))\n",
    "\n",
    "[epoch_accuracy_wta, epoch_time_wta] = neural_network_wta.fit(x_train, y_train, learning_rate=learning_rate, epochs = epochs)\n",
    "y_hat = neural_network_wta.predict(x_test)\n",
    "\n",
    "metrics = CategoricalAccuracy()\n",
    "metrics.update_state(y_test, y_hat)\n",
    "print(metrics.result().numpy())"
   ]
  },
  {
   "cell_type": "code",
   "execution_count": 4,
   "metadata": {},
   "outputs": [
    {
     "name": "stdout",
     "output_type": "stream",
     "text": [
      "Object successfully saved to \"../data/neural_network_wta.pkl\"\n"
     ]
    }
   ],
   "source": [
    "file_name = '../data/neural_network_wta.pkl'\n",
    "with open(file_name, 'wb') as file:\n",
    "    pickle.dump(neural_network_wta, file)\n",
    "    print(f'Object successfully saved to \"{file_name}\"')"
   ]
  },
  {
   "cell_type": "code",
   "execution_count": 3,
   "metadata": {},
   "outputs": [
    {
     "name": "stderr",
     "output_type": "stream",
     "text": [
      "Epoch  1: 100% |██████████| 60000/60000, Accuracy: 0.8174;\n",
      "Epoch  2: 100% |██████████| 60000/60000, Accuracy: 0.8622;\n",
      "Epoch  3: 100% |██████████| 60000/60000, Accuracy: 0.8697;\n",
      "Epoch  4: 100% |██████████| 60000/60000, Accuracy: 0.8731;\n",
      "Epoch  5: 100% |██████████| 60000/60000, Accuracy: 0.8744;\n",
      "Epoch  6: 100% |██████████| 60000/60000, Accuracy: 0.8754;\n",
      "Epoch  7: 100% |██████████| 60000/60000, Accuracy: 0.8772;\n",
      "Epoch  8: 100% |██████████| 60000/60000, Accuracy: 0.8777;\n",
      "Epoch  9: 100% |██████████| 60000/60000, Accuracy: 0.8776;\n",
      "Epoch 10: 100% |██████████| 60000/60000, Accuracy: 0.8765;\n"
     ]
    },
    {
     "name": "stdout",
     "output_type": "stream",
     "text": [
      "0.8671\n"
     ]
    }
   ],
   "source": [
    "neural_network_lsh = Network()\n",
    "neural_network_lsh.addLayer(LayerLSH(input_size, hidden_units, function_num=function_num, table_num=table_num))\n",
    "neural_network_lsh.addLayer(LayerLSH(hidden_units, hidden_units, function_num=function_num, table_num=table_num))\n",
    "neural_network_lsh.addLayer(LayerLSH(hidden_units, hidden_units, function_num=function_num, table_num=table_num))\n",
    "neural_network_lsh.addLayer(Layer(hidden_units, num_labels))\n",
    "\n",
    "[epoch_accuracy_lsh, epoch_time_lsh] = neural_network_lsh.fit(x_train, y_train, learning_rate=learning_rate, epochs = epochs)\n",
    "y_hat = neural_network_lsh.predict(x_test)\n",
    "\n",
    "metrics = CategoricalAccuracy()\n",
    "metrics.update_state(y_test, y_hat)\n",
    "print(metrics.result().numpy())"
   ]
  },
  {
   "cell_type": "code",
   "execution_count": 4,
   "metadata": {},
   "outputs": [
    {
     "name": "stdout",
     "output_type": "stream",
     "text": [
      "Object successfully saved to \"../data/neural_network_lsh.pkl\"\n"
     ]
    }
   ],
   "source": [
    "file_name = '../data/neural_network_lsh.pkl'\n",
    "with open(file_name, 'wb') as file:\n",
    "    pickle.dump(neural_network_lsh, file)\n",
    "    print(f'Object successfully saved to \"{file_name}\"')"
   ]
  },
  {
   "cell_type": "code",
   "execution_count": 2,
   "metadata": {},
   "outputs": [
    {
     "name": "stderr",
     "output_type": "stream",
     "text": [
      "2023-06-18 08:30:41.216113: E tensorflow/compiler/xla/stream_executor/cuda/cuda_driver.cc:266] failed call to cuInit: CUDA_ERROR_NO_DEVICE: no CUDA-capable device is detected\n",
      "Epoch  1: 100% |██████████| 60000/60000, Accuracy: 0.2546;\n",
      "Epoch  2: 100% |██████████| 60000/60000, Accuracy: 0.5237;\n",
      "Epoch  3: 100% |██████████| 60000/60000, Accuracy: 0.6489;\n",
      "Epoch  4: 100% |██████████| 60000/60000, Accuracy: 0.7076;\n",
      "Epoch  5: 100% |██████████| 60000/60000, Accuracy: 0.7459;\n",
      "Epoch  6: 100% |██████████| 60000/60000, Accuracy: 0.7809;\n",
      "Epoch  7: 100% |██████████| 60000/60000, Accuracy: 0.8010;\n",
      "Epoch  8:  79% |███████▉  | 47270/60000, Accuracy: 0.8127;"
     ]
    }
   ],
   "source": [
    "function_num = 5\n",
    "table_num = 6\n",
    "\n",
    "neural_network_lsh1 = Network()\n",
    "neural_network_lsh1.addLayer(LayerLSH(input_size, hidden_units, function_num=function_num, table_num=table_num))\n",
    "neural_network_lsh1.addLayer(LayerLSH(hidden_units, hidden_units, function_num=function_num, table_num=table_num))\n",
    "neural_network_lsh1.addLayer(LayerLSH(hidden_units, hidden_units, function_num=function_num, table_num=table_num))\n",
    "neural_network_lsh1.addLayer(Layer(hidden_units, num_labels))\n",
    "\n",
    "[epoch_accuracy_lsh, epoch_time_lsh] = neural_network_lsh1.fit(x_train, y_train, learning_rate=learning_rate, epochs = epochs)\n",
    "y_hat = neural_network_lsh1.predict(x_test)\n",
    "\n",
    "metrics = CategoricalAccuracy()\n",
    "metrics.update_state(y_test, y_hat)\n",
    "print(metrics.result().numpy())"
   ]
  }
 ],
 "metadata": {
  "kernelspec": {
   "display_name": "LSH-Deep_Learning-Project",
   "language": "python",
   "name": "python3"
  },
  "language_info": {
   "codemirror_mode": {
    "name": "ipython",
    "version": 3
   },
   "file_extension": ".py",
   "mimetype": "text/x-python",
   "name": "python",
   "nbconvert_exporter": "python",
   "pygments_lexer": "ipython3",
   "version": "3.11.2"
  },
  "orig_nbformat": 4
 },
 "nbformat": 4,
 "nbformat_minor": 2
}
