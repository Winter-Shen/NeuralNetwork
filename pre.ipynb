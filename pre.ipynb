{
 "cells": [
  {
   "attachments": {},
   "cell_type": "markdown",
   "metadata": {},
   "source": [
    "# Import Moduals"
   ]
  },
  {
   "cell_type": "code",
   "execution_count": 1,
   "metadata": {},
   "outputs": [],
   "source": [
    "import numpy as np\n",
    "import pandas as pd\n",
    "\n",
    "from keras.models import Sequential\n",
    "from keras.layers import Dense\n",
    "from tensorflow.keras.optimizers import SGD\n",
    "from tensorflow.keras.utils import to_categorical\n",
    "from tensorflow.keras.initializers import GlorotUniform\n",
    "from tensorflow.keras.metrics import CategoricalAccuracy\n",
    "from tensorflow.keras.losses import MeanSquaredError\n",
    "\n",
    "from NeuralNetwork import MyModel, MyLayer, InputLayer"
   ]
  },
  {
   "attachments": {},
   "cell_type": "markdown",
   "metadata": {},
   "source": [
    "# Preprocessing"
   ]
  },
  {
   "cell_type": "code",
   "execution_count": 2,
   "metadata": {},
   "outputs": [],
   "source": [
    "# import dataset\n",
    "from keras.datasets import mnist\n",
    "# load dataset\n",
    "(x_train, y_train),(x_test, y_test) = mnist.load_data()\n",
    "# compute the number of labels\n",
    "num_labels = len(np.unique(y_train))\n",
    "# convert to one-hot vector\n",
    "y_train = to_categorical(y_train)\n",
    "y_test = to_categorical(y_test)\n",
    "# image dimensions (assumed square)\n",
    "image_size = x_train.shape[1]\n",
    "input_size = image_size * image_size\n",
    "input_size\n",
    "# resize and normalize\n",
    "x_train = np.reshape(x_train, [-1, input_size])\n",
    "x_train = x_train.astype('float32') / 255\n",
    "x_test = np.reshape(x_test, [-1, input_size])\n",
    "x_test = x_test.astype('float32') / 255\n",
    "# network parameters\n",
    "batch_size = 128\n",
    "hidden_units = 256"
   ]
  },
  {
   "cell_type": "code",
   "execution_count": 5,
   "metadata": {},
   "outputs": [
    {
     "data": {
      "text/plain": [
       "dtype('float32')"
      ]
     },
     "execution_count": 5,
     "metadata": {},
     "output_type": "execute_result"
    }
   ],
   "source": [
    "x_train.dtype"
   ]
  },
  {
   "attachments": {},
   "cell_type": "markdown",
   "metadata": {},
   "source": [
    "# Keras' Model"
   ]
  },
  {
   "cell_type": "code",
   "execution_count": 4,
   "metadata": {},
   "outputs": [
    {
     "name": "stdout",
     "output_type": "stream",
     "text": [
      "Epoch 1/20\n",
      "10/10 [==============================] - 0s 18ms/step - loss: 0.3288 - accuracy: 0.0804\n",
      "Epoch 2/20\n",
      "10/10 [==============================] - 0s 17ms/step - loss: 0.2263 - accuracy: 0.1149\n",
      "Epoch 3/20\n",
      "10/10 [==============================] - 0s 18ms/step - loss: 0.1929 - accuracy: 0.1552\n",
      "Epoch 4/20\n",
      "10/10 [==============================] - 0s 18ms/step - loss: 0.1710 - accuracy: 0.1984\n",
      "Epoch 5/20\n",
      "10/10 [==============================] - 0s 18ms/step - loss: 0.1557 - accuracy: 0.2420\n",
      "Epoch 6/20\n",
      "10/10 [==============================] - 0s 18ms/step - loss: 0.1444 - accuracy: 0.2828\n",
      "Epoch 7/20\n",
      "10/10 [==============================] - 0s 17ms/step - loss: 0.1357 - accuracy: 0.3197\n",
      "Epoch 8/20\n",
      "10/10 [==============================] - 0s 17ms/step - loss: 0.1288 - accuracy: 0.3534\n",
      "Epoch 9/20\n",
      "10/10 [==============================] - 0s 18ms/step - loss: 0.1231 - accuracy: 0.3836\n",
      "Epoch 10/20\n",
      "10/10 [==============================] - 0s 18ms/step - loss: 0.1183 - accuracy: 0.4110\n",
      "Epoch 11/20\n",
      "10/10 [==============================] - 0s 17ms/step - loss: 0.1142 - accuracy: 0.4350\n",
      "Epoch 12/20\n",
      "10/10 [==============================] - 0s 17ms/step - loss: 0.1106 - accuracy: 0.4572\n",
      "Epoch 13/20\n",
      "10/10 [==============================] - 0s 17ms/step - loss: 0.1074 - accuracy: 0.4775\n",
      "Epoch 14/20\n",
      "10/10 [==============================] - 0s 16ms/step - loss: 0.1045 - accuracy: 0.4949\n",
      "Epoch 15/20\n",
      "10/10 [==============================] - 0s 17ms/step - loss: 0.1020 - accuracy: 0.5102\n",
      "Epoch 16/20\n",
      "10/10 [==============================] - 0s 16ms/step - loss: 0.0997 - accuracy: 0.5239\n",
      "Epoch 17/20\n",
      "10/10 [==============================] - 0s 17ms/step - loss: 0.0975 - accuracy: 0.5365\n",
      "Epoch 18/20\n",
      "10/10 [==============================] - 0s 16ms/step - loss: 0.0956 - accuracy: 0.5483\n",
      "Epoch 19/20\n",
      "10/10 [==============================] - 0s 16ms/step - loss: 0.0938 - accuracy: 0.5592\n",
      "Epoch 20/20\n",
      "10/10 [==============================] - 0s 16ms/step - loss: 0.0921 - accuracy: 0.5699\n"
     ]
    },
    {
     "data": {
      "text/plain": [
       "<keras.callbacks.History at 0x1d0e03ba460>"
      ]
     },
     "execution_count": 4,
     "metadata": {},
     "output_type": "execute_result"
    }
   ],
   "source": [
    "model = Sequential()\n",
    "model.add(Dense(hidden_units, input_dim=input_size, use_bias=False))\n",
    "model.add(Dense(hidden_units, use_bias=False))\n",
    "model.add(Dense(num_labels, use_bias=False))\n",
    "model.compile(loss=MeanSquaredError(), \n",
    "              optimizer=SGD(learning_rate=0.01),\n",
    "              metrics=['accuracy'])\n",
    "model.fit(x_train, y_train, epochs=20, batch_size=6000)"
   ]
  },
  {
   "cell_type": "code",
   "execution_count": 5,
   "metadata": {},
   "outputs": [
    {
     "name": "stdout",
     "output_type": "stream",
     "text": [
      "313/313 [==============================] - 0s 705us/step\n"
     ]
    },
    {
     "data": {
      "text/plain": [
       "0.5837"
      ]
     },
     "execution_count": 5,
     "metadata": {},
     "output_type": "execute_result"
    }
   ],
   "source": [
    "y_hat = model.predict(x_test)\n",
    "metrics = CategoricalAccuracy()\n",
    "metrics.update_state(y_test, y_hat)\n",
    "metrics.result().numpy()"
   ]
  },
  {
   "attachments": {},
   "cell_type": "markdown",
   "metadata": {},
   "source": [
    "# My Model"
   ]
  },
  {
   "cell_type": "code",
   "execution_count": 6,
   "metadata": {},
   "outputs": [
    {
     "name": "stderr",
     "output_type": "stream",
     "text": [
      "c:\\Users\\wshe801\\AppData\\Local\\anaconda3\\envs\\CS791-Project\\lib\\site-packages\\keras\\initializers\\initializers_v2.py:120: UserWarning: The initializer GlorotUniform is unseeded and being called multiple times, which will return identical values  each time (even if the initializer is unseeded). Please update your code to provide a seed to the initializer, or avoid using the same initalizer instance more than once.\n",
      "  warnings.warn(\n"
     ]
    },
    {
     "name": "stdout",
     "output_type": "stream",
     "text": [
      "Epoch  1: loss: 0.449 - accuracy: 0.115\n",
      "Epoch  2: loss: 0.371 - accuracy: 0.115\n",
      "Epoch  3: loss: 0.328 - accuracy: 0.114\n",
      "Epoch  4: loss: 0.302 - accuracy: 0.114\n",
      "Epoch  5: loss: 0.285 - accuracy: 0.116\n",
      "Epoch  6: loss: 0.274 - accuracy: 0.118\n",
      "Epoch  7: loss: 0.265 - accuracy: 0.119\n",
      "Epoch  8: loss: 0.259 - accuracy: 0.122\n",
      "Epoch  9: loss: 0.253 - accuracy: 0.124\n",
      "Epoch 10: loss: 0.247 - accuracy: 0.126\n",
      "Epoch 11: loss: 0.243 - accuracy: 0.129\n",
      "Epoch 12: loss: 0.238 - accuracy: 0.132\n",
      "Epoch 13: loss: 0.234 - accuracy: 0.135\n",
      "Epoch 14: loss: 0.230 - accuracy: 0.138\n",
      "Epoch 15: loss: 0.226 - accuracy: 0.140\n",
      "Epoch 16: loss: 0.223 - accuracy: 0.143\n",
      "Epoch 17: loss: 0.219 - accuracy: 0.147\n",
      "Epoch 18: loss: 0.216 - accuracy: 0.150\n",
      "Epoch 19: loss: 0.213 - accuracy: 0.153\n",
      "Epoch 20: loss: 0.210 - accuracy: 0.156\n"
     ]
    }
   ],
   "source": [
    "initializer = GlorotUniform()\n",
    "\n",
    "m = MyModel()\n",
    "m.addLayer(InputLayer(input_size))\n",
    "m.addLayer(MyLayer(input_size, hidden_units).initializeWeight(initializer))\n",
    "m.addLayer(MyLayer(hidden_units, hidden_units).initializeWeight(initializer))\n",
    "m.addLayer(MyLayer(hidden_units, num_labels).initializeWeight(initializer))\n",
    "\n",
    "#m.selectNodes([list(range(1,10)), list(range(10, 100))])\n",
    "\n",
    "m.fit(x_train, y_train, 0.01, 20)"
   ]
  },
  {
   "cell_type": "code",
   "execution_count": 7,
   "metadata": {},
   "outputs": [
    {
     "data": {
      "text/plain": [
       "0.1604"
      ]
     },
     "execution_count": 7,
     "metadata": {},
     "output_type": "execute_result"
    }
   ],
   "source": [
    "y_hat = m.predict(x_test)\n",
    "metrics.reset_state()\n",
    "metrics.update_state(y_test, y_hat)\n",
    "metrics.result().numpy()"
   ]
  }
 ],
 "metadata": {
  "kernelspec": {
   "display_name": "Python 3.9.16",
   "language": "python",
   "name": "python3"
  },
  "language_info": {
   "codemirror_mode": {
    "name": "ipython",
    "version": 3
   },
   "file_extension": ".py",
   "mimetype": "text/x-python",
   "name": "python",
   "nbconvert_exporter": "python",
   "pygments_lexer": "ipython3",
   "version": "3.9.16"
  },
  "orig_nbformat": 4,
  "vscode": {
   "interpreter": {
    "hash": "b1e5aa698372dab16830cd70665ee917e69dc4a46ad6ce5c5831a1d69a75937c"
   }
  }
 },
 "nbformat": 4,
 "nbformat_minor": 2
}
