{
 "cells": [
  {
   "attachments": {},
   "cell_type": "markdown",
   "metadata": {},
   "source": [
    "# Import Moduals"
   ]
  },
  {
   "cell_type": "code",
   "execution_count": 1,
   "metadata": {},
   "outputs": [],
   "source": [
    "import numpy as np\n",
    "import pandas as pd\n",
    "import NeuralNetwork\n",
    "\n",
    "from keras.models import Sequential\n",
    "from keras.layers import Dense, Dropout\n",
    "from keras.optimizers import SGD\n",
    "from keras.utils import to_categorical\n",
    "from keras.initializers import GlorotUniform\n",
    "from keras.metrics import CategoricalAccuracy\n",
    "from keras.losses import MeanSquaredError\n",
    "\n",
    "from importlib import reload\n",
    "\n",
    "metrics = CategoricalAccuracy()"
   ]
  },
  {
   "attachments": {},
   "cell_type": "markdown",
   "metadata": {},
   "source": [
    "# Preprocessing"
   ]
  },
  {
   "cell_type": "code",
   "execution_count": 16,
   "metadata": {},
   "outputs": [
    {
     "name": "stdout",
     "output_type": "stream",
     "text": [
      "Downloading data from https://storage.googleapis.com/tensorflow/tf-keras-datasets/mnist.npz\n",
      "11490434/11490434 [==============================] - 0s 0us/step\n"
     ]
    }
   ],
   "source": [
    "# import dataset\n",
    "from keras.datasets import mnist\n",
    "# load dataset\n",
    "(x_train, y_train),(x_test, y_test) = mnist.load_data()\n",
    "# compute the number of labels\n",
    "num_labels = len(np.unique(y_train))\n",
    "# convert to one-hot vector\n",
    "y_train = to_categorical(y_train)\n",
    "y_test = to_categorical(y_test)\n",
    "# image dimensions (assumed square)\n",
    "image_size = x_train.shape[1]\n",
    "input_size = image_size * image_size\n",
    "input_size\n",
    "# resize and normalize\n",
    "x_train = np.reshape(x_train, [-1, input_size])\n",
    "x_train = x_train.astype('float32') / 255\n",
    "x_test = np.reshape(x_test, [-1, input_size])\n",
    "x_test = x_test.astype('float32') / 255\n",
    "# network parameters\n",
    "batch_size = 128\n",
    "hidden_units = 256"
   ]
  },
  {
   "attachments": {},
   "cell_type": "markdown",
   "metadata": {},
   "source": [
    "# Keras' Model"
   ]
  },
  {
   "cell_type": "code",
   "execution_count": 76,
   "metadata": {},
   "outputs": [
    {
     "name": "stdout",
     "output_type": "stream",
     "text": [
      "Epoch 1/10\n",
      "469/469 [==============================] - 1s 2ms/step - loss: 0.1005 - accuracy: 0.5426\n",
      "Epoch 2/10\n",
      "469/469 [==============================] - 1s 2ms/step - loss: 0.0630 - accuracy: 0.7344\n",
      "Epoch 3/10\n",
      "469/469 [==============================] - 1s 2ms/step - loss: 0.0560 - accuracy: 0.7764\n",
      "Epoch 4/10\n",
      "469/469 [==============================] - 1s 2ms/step - loss: 0.0526 - accuracy: 0.7976\n",
      "Epoch 5/10\n",
      "469/469 [==============================] - 1s 2ms/step - loss: 0.0505 - accuracy: 0.8082\n",
      "Epoch 6/10\n",
      "469/469 [==============================] - 1s 2ms/step - loss: 0.0490 - accuracy: 0.8164\n",
      "Epoch 7/10\n",
      "469/469 [==============================] - 1s 2ms/step - loss: 0.0479 - accuracy: 0.8219\n",
      "Epoch 8/10\n",
      "469/469 [==============================] - 1s 2ms/step - loss: 0.0470 - accuracy: 0.8262\n",
      "Epoch 9/10\n",
      "469/469 [==============================] - 1s 2ms/step - loss: 0.0464 - accuracy: 0.8293\n",
      "Epoch 10/10\n",
      "469/469 [==============================] - 1s 2ms/step - loss: 0.0458 - accuracy: 0.8317\n"
     ]
    },
    {
     "data": {
      "text/plain": [
       "<keras.callbacks.History at 0x2112cdc3a60>"
      ]
     },
     "execution_count": 76,
     "metadata": {},
     "output_type": "execute_result"
    }
   ],
   "source": [
    "model = Sequential()\n",
    "model.add(Dense(hidden_units, input_dim=input_size, use_bias=False))\n",
    "#model.add(Dropout(0.45))\n",
    "model.add(Dense(hidden_units, use_bias=False))\n",
    "#model.add(Dropout(0.45))\n",
    "model.add(Dense(num_labels, use_bias=False))\n",
    "model.compile(loss=MeanSquaredError(), \n",
    "              optimizer=SGD(learning_rate=0.01),\n",
    "              metrics=['accuracy'])\n",
    "model.fit(x_train, y_train, epochs=10, batch_size=batch_size)"
   ]
  },
  {
   "cell_type": "code",
   "execution_count": 77,
   "metadata": {},
   "outputs": [
    {
     "name": "stdout",
     "output_type": "stream",
     "text": [
      "313/313 [==============================] - 0s 936us/step\n"
     ]
    },
    {
     "data": {
      "text/plain": [
       "0.84243333"
      ]
     },
     "execution_count": 77,
     "metadata": {},
     "output_type": "execute_result"
    }
   ],
   "source": [
    "y_hat = model.predict(x_test)\n",
    "metrics.update_state(y_test, y_hat)\n",
    "metrics.result().numpy()"
   ]
  },
  {
   "attachments": {},
   "cell_type": "markdown",
   "metadata": {},
   "source": [
    "# My Model"
   ]
  },
  {
   "cell_type": "code",
   "execution_count": 78,
   "metadata": {},
   "outputs": [
    {
     "name": "stderr",
     "output_type": "stream",
     "text": [
      "Epoch  1: 469/469; Accuracy: 0.5164; Loss: 0.0815: 100%|\n",
      "Epoch  2: 469/469; Accuracy: 0.7284; Loss: 0.0673: 100%|\n",
      "Epoch  3: 469/469; Accuracy: 0.7733; Loss: 0.0616: 100%|\n",
      "Epoch  4: 469/469; Accuracy: 0.7946; Loss: 0.0583: 100%|\n",
      "Epoch  5: 469/469; Accuracy: 0.8069; Loss: 0.0561: 100%|\n",
      "Epoch  6: 469/469; Accuracy: 0.8144; Loss: 0.0544: 100%|\n",
      "Epoch  7: 469/469; Accuracy: 0.8201; Loss: 0.0532: 100%|\n",
      "Epoch  8: 469/469; Accuracy: 0.8251; Loss: 0.0521: 100%|\n",
      "Epoch  9: 469/469; Accuracy: 0.8280; Loss: 0.0513: 100%|\n",
      "Epoch 10: 469/469; Accuracy: 0.8307; Loss: 0.0505: 100%|\n"
     ]
    }
   ],
   "source": [
    "reload(NeuralNetwork)\n",
    "from NeuralNetwork import MyModel, MyLayer, dropout\n",
    "\n",
    "m = MyModel()\n",
    "m.addLayer(MyLayer(input_size, hidden_units))\n",
    "#m.addLayer(dropout(0.45))\n",
    "m.addLayer(MyLayer(hidden_units, hidden_units))\n",
    "#m.addLayer(dropout(0.45))\n",
    "m.addLayer(MyLayer(hidden_units, num_labels))\n",
    "\n",
    "\n",
    "m.fit(x_train, y_train, 0.01, epoches = 10, batch_size = batch_size)"
   ]
  },
  {
   "cell_type": "code",
   "execution_count": 79,
   "metadata": {},
   "outputs": [
    {
     "data": {
      "text/plain": [
       "0.839"
      ]
     },
     "execution_count": 79,
     "metadata": {},
     "output_type": "execute_result"
    }
   ],
   "source": [
    "y_hat = m.predict(x_test)\n",
    "metrics.reset_state()\n",
    "metrics.update_state(y_test, y_hat)\n",
    "metrics.result().numpy()"
   ]
  }
 ],
 "metadata": {
  "kernelspec": {
   "display_name": "Python 3.11.2 ('CS791-Project')",
   "language": "python",
   "name": "python3"
  },
  "language_info": {
   "codemirror_mode": {
    "name": "ipython",
    "version": 3
   },
   "file_extension": ".py",
   "mimetype": "text/x-python",
   "name": "python",
   "nbconvert_exporter": "python",
   "pygments_lexer": "ipython3",
   "version": "3.9.16"
  },
  "orig_nbformat": 4,
  "vscode": {
   "interpreter": {
    "hash": "15e7240eaa5b7b90ef10e4a8c9b3eb006612935143fa80b3b708dc2a3022233c"
   }
  }
 },
 "nbformat": 4,
 "nbformat_minor": 2
}
