{
 "cells": [
  {
   "attachments": {},
   "cell_type": "markdown",
   "metadata": {},
   "source": [
    "# Import Moduals"
   ]
  },
  {
   "cell_type": "code",
   "execution_count": 1,
   "metadata": {},
   "outputs": [
    {
     "name": "stderr",
     "output_type": "stream",
     "text": [
      "2023-04-30 23:08:01.818946: I tensorflow/core/platform/cpu_feature_guard.cc:182] This TensorFlow binary is optimized to use available CPU instructions in performance-critical operations.\n",
      "To enable the following instructions: AVX2 FMA, in other operations, rebuild TensorFlow with the appropriate compiler flags.\n",
      "2023-04-30 23:08:02.653866: W tensorflow/compiler/tf2tensorrt/utils/py_utils.cc:38] TF-TRT Warning: Could not find TensorRT\n",
      "2023-04-30 23:08:03.506543: I tensorflow/compiler/xla/stream_executor/cuda/cuda_gpu_executor.cc:996] successful NUMA node read from SysFS had negative value (-1), but there must be at least one NUMA node, so returning NUMA node zero. See more at https://github.com/torvalds/linux/blob/v6.0/Documentation/ABI/testing/sysfs-bus-pci#L344-L355\n",
      "2023-04-30 23:08:03.603154: I tensorflow/compiler/xla/stream_executor/cuda/cuda_gpu_executor.cc:996] successful NUMA node read from SysFS had negative value (-1), but there must be at least one NUMA node, so returning NUMA node zero. See more at https://github.com/torvalds/linux/blob/v6.0/Documentation/ABI/testing/sysfs-bus-pci#L344-L355\n",
      "2023-04-30 23:08:03.603341: I tensorflow/compiler/xla/stream_executor/cuda/cuda_gpu_executor.cc:996] successful NUMA node read from SysFS had negative value (-1), but there must be at least one NUMA node, so returning NUMA node zero. See more at https://github.com/torvalds/linux/blob/v6.0/Documentation/ABI/testing/sysfs-bus-pci#L344-L355\n",
      "2023-04-30 23:08:03.604073: I tensorflow/compiler/xla/stream_executor/cuda/cuda_gpu_executor.cc:996] successful NUMA node read from SysFS had negative value (-1), but there must be at least one NUMA node, so returning NUMA node zero. See more at https://github.com/torvalds/linux/blob/v6.0/Documentation/ABI/testing/sysfs-bus-pci#L344-L355\n",
      "2023-04-30 23:08:03.604231: I tensorflow/compiler/xla/stream_executor/cuda/cuda_gpu_executor.cc:996] successful NUMA node read from SysFS had negative value (-1), but there must be at least one NUMA node, so returning NUMA node zero. See more at https://github.com/torvalds/linux/blob/v6.0/Documentation/ABI/testing/sysfs-bus-pci#L344-L355\n",
      "2023-04-30 23:08:03.604360: I tensorflow/compiler/xla/stream_executor/cuda/cuda_gpu_executor.cc:996] successful NUMA node read from SysFS had negative value (-1), but there must be at least one NUMA node, so returning NUMA node zero. See more at https://github.com/torvalds/linux/blob/v6.0/Documentation/ABI/testing/sysfs-bus-pci#L344-L355\n",
      "2023-04-30 23:08:04.428170: I tensorflow/compiler/xla/stream_executor/cuda/cuda_gpu_executor.cc:996] successful NUMA node read from SysFS had negative value (-1), but there must be at least one NUMA node, so returning NUMA node zero. See more at https://github.com/torvalds/linux/blob/v6.0/Documentation/ABI/testing/sysfs-bus-pci#L344-L355\n",
      "2023-04-30 23:08:04.428353: I tensorflow/compiler/xla/stream_executor/cuda/cuda_gpu_executor.cc:996] successful NUMA node read from SysFS had negative value (-1), but there must be at least one NUMA node, so returning NUMA node zero. See more at https://github.com/torvalds/linux/blob/v6.0/Documentation/ABI/testing/sysfs-bus-pci#L344-L355\n",
      "2023-04-30 23:08:04.428716: I tensorflow/compiler/xla/stream_executor/cuda/cuda_gpu_executor.cc:996] successful NUMA node read from SysFS had negative value (-1), but there must be at least one NUMA node, so returning NUMA node zero. See more at https://github.com/torvalds/linux/blob/v6.0/Documentation/ABI/testing/sysfs-bus-pci#L344-L355\n",
      "2023-04-30 23:08:04.428848: I tensorflow/core/common_runtime/gpu/gpu_device.cc:1635] Created device /job:localhost/replica:0/task:0/device:GPU:0 with 4210 MB memory:  -> device: 0, name: NVIDIA GeForce RTX 2060, pci bus id: 0000:01:00.0, compute capability: 7.5\n"
     ]
    }
   ],
   "source": [
    "import numpy as np\n",
    "import pandas as pd\n",
    "import NeuralNetwork\n",
    "\n",
    "from keras.models import Sequential\n",
    "from keras.layers import Dense, Dropout\n",
    "from keras.optimizers import SGD\n",
    "from keras.utils import to_categorical\n",
    "from keras.initializers import GlorotUniform\n",
    "from keras.metrics import CategoricalAccuracy\n",
    "from keras.losses import MeanSquaredError\n",
    "\n",
    "from importlib import reload\n",
    "\n",
    "metrics = CategoricalAccuracy()"
   ]
  },
  {
   "attachments": {},
   "cell_type": "markdown",
   "metadata": {},
   "source": [
    "# Preprocessing"
   ]
  },
  {
   "cell_type": "code",
   "execution_count": 3,
   "metadata": {},
   "outputs": [],
   "source": [
    "# import dataset\n",
    "from keras.datasets import mnist\n",
    "# load dataset\n",
    "(x_train, y_train),(x_test, y_test) = mnist.load_data()\n",
    "# compute the number of labels\n",
    "num_labels = len(np.unique(y_train))\n",
    "# convert to one-hot vector\n",
    "y_train = to_categorical(y_train)\n",
    "y_test = to_categorical(y_test)\n",
    "# image dimensions (assumed square)\n",
    "image_size = x_train.shape[1]\n",
    "input_size = image_size * image_size\n",
    "input_size\n",
    "# resize and normalize\n",
    "x_train = np.reshape(x_train, [-1, input_size])\n",
    "x_train = x_train.astype('float32') / 255\n",
    "x_test = np.reshape(x_test, [-1, input_size])\n",
    "x_test = x_test.astype('float32') / 255\n",
    "# network parameters\n",
    "batch_size = 128\n",
    "hidden_units = 128"
   ]
  },
  {
   "attachments": {},
   "cell_type": "markdown",
   "metadata": {},
   "source": [
    "# Keras' Model"
   ]
  },
  {
   "cell_type": "code",
   "execution_count": 76,
   "metadata": {},
   "outputs": [
    {
     "name": "stdout",
     "output_type": "stream",
     "text": [
      "Epoch 1/10\n",
      "469/469 [==============================] - 1s 2ms/step - loss: 0.1005 - accuracy: 0.5426\n",
      "Epoch 2/10\n",
      "469/469 [==============================] - 1s 2ms/step - loss: 0.0630 - accuracy: 0.7344\n",
      "Epoch 3/10\n",
      "469/469 [==============================] - 1s 2ms/step - loss: 0.0560 - accuracy: 0.7764\n",
      "Epoch 4/10\n",
      "469/469 [==============================] - 1s 2ms/step - loss: 0.0526 - accuracy: 0.7976\n",
      "Epoch 5/10\n",
      "469/469 [==============================] - 1s 2ms/step - loss: 0.0505 - accuracy: 0.8082\n",
      "Epoch 6/10\n",
      "469/469 [==============================] - 1s 2ms/step - loss: 0.0490 - accuracy: 0.8164\n",
      "Epoch 7/10\n",
      "469/469 [==============================] - 1s 2ms/step - loss: 0.0479 - accuracy: 0.8219\n",
      "Epoch 8/10\n",
      "469/469 [==============================] - 1s 2ms/step - loss: 0.0470 - accuracy: 0.8262\n",
      "Epoch 9/10\n",
      "469/469 [==============================] - 1s 2ms/step - loss: 0.0464 - accuracy: 0.8293\n",
      "Epoch 10/10\n",
      "469/469 [==============================] - 1s 2ms/step - loss: 0.0458 - accuracy: 0.8317\n"
     ]
    },
    {
     "data": {
      "text/plain": [
       "<keras.callbacks.History at 0x2112cdc3a60>"
      ]
     },
     "execution_count": 76,
     "metadata": {},
     "output_type": "execute_result"
    }
   ],
   "source": [
    "model = Sequential()\n",
    "model.add(Dense(hidden_units, input_dim=input_size, use_bias=False))\n",
    "#model.add(Dropout(0.45))\n",
    "model.add(Dense(hidden_units, use_bias=False))\n",
    "#model.add(Dropout(0.45))\n",
    "model.add(Dense(num_labels, use_bias=False))\n",
    "model.compile(loss=MeanSquaredError(), \n",
    "              optimizer=SGD(learning_rate=0.01),\n",
    "              metrics=['accuracy'])\n",
    "model.fit(x_train, y_train, epochs=10, batch_size=batch_size)"
   ]
  },
  {
   "cell_type": "code",
   "execution_count": 77,
   "metadata": {},
   "outputs": [
    {
     "name": "stdout",
     "output_type": "stream",
     "text": [
      "313/313 [==============================] - 0s 936us/step\n"
     ]
    },
    {
     "data": {
      "text/plain": [
       "0.84243333"
      ]
     },
     "execution_count": 77,
     "metadata": {},
     "output_type": "execute_result"
    }
   ],
   "source": [
    "y_hat = model.predict(x_test)\n",
    "metrics.update_state(y_test, y_hat)\n",
    "metrics.result().numpy()"
   ]
  },
  {
   "attachments": {},
   "cell_type": "markdown",
   "metadata": {},
   "source": [
    "# My Model"
   ]
  },
  {
   "cell_type": "code",
   "execution_count": 7,
   "metadata": {},
   "outputs": [
    {
     "name": "stderr",
     "output_type": "stream",
     "text": [
      "Epoch  1: 469/469; Accuracy: 0.4870; Loss: 0.0763: 100%|\n",
      "Epoch  2: 469/469; Accuracy: 0.7155; Loss: 0.0651: 100%|\n",
      "Epoch  3: 469/469; Accuracy: 0.7657; Loss: 0.0599: 100%|\n",
      "Epoch  4: 469/469; Accuracy: 0.7885; Loss: 0.0569: 100%|\n",
      "Epoch  5: 469/469; Accuracy: 0.8001; Loss: 0.0547: 100%|\n",
      "Epoch  6: 469/469; Accuracy: 0.8081; Loss: 0.0531: 100%|\n",
      "Epoch  7: 469/469; Accuracy: 0.8142; Loss: 0.0519: 100%|\n",
      "Epoch  8: 469/469; Accuracy: 0.8190; Loss: 0.0509: 100%|\n",
      "Epoch  9: 469/469; Accuracy: 0.8225; Loss: 0.0501: 100%|\n",
      "Epoch 10: 469/469; Accuracy: 0.8251; Loss: 0.0493: 100%|\n"
     ]
    }
   ],
   "source": [
    "reload(NeuralNetwork)\n",
    "from NeuralNetwork import MyModel, MyLayer, dropout\n",
    "\n",
    "m = MyModel()\n",
    "m.addLayer(MyLayer(input_size, hidden_units))\n",
    "#m.addLayer(dropout(0.45))\n",
    "m.addLayer(MyLayer(hidden_units, hidden_units))\n",
    "#m.addLayer(dropout(0.45))\n",
    "m.addLayer(MyLayer(hidden_units, num_labels))\n",
    "\n",
    "\n",
    "m.fit(x_train, y_train, 0.01, epoches = 10, batch_size = batch_size)"
   ]
  },
  {
   "cell_type": "code",
   "execution_count": 79,
   "metadata": {},
   "outputs": [
    {
     "data": {
      "text/plain": [
       "0.839"
      ]
     },
     "execution_count": 79,
     "metadata": {},
     "output_type": "execute_result"
    }
   ],
   "source": [
    "y_hat = m.predict(x_test)\n",
    "metrics.reset_state()\n",
    "metrics.update_state(y_test, y_hat)\n",
    "metrics.result().numpy()"
   ]
  },
  {
   "cell_type": "code",
   "execution_count": 4,
   "metadata": {},
   "outputs": [
    {
     "name": "stderr",
     "output_type": "stream",
     "text": [
      "Epoch  1: 469/469; Accuracy: 0.1977; Loss: 0.1817: 100%|\n",
      "Epoch  2: 469/469; Accuracy: 0.3207; Loss: 0.1394: 100%|\n",
      "Epoch  3: 469/469; Accuracy: 0.3914; Loss: 0.1337: 100%|\n",
      "Epoch  4: 469/469; Accuracy: 0.4399; Loss: 0.1277: 100%|\n",
      "Epoch  5: 469/469; Accuracy: 0.4825; Loss: 0.1076: 100%|\n",
      "Epoch  6: 469/469; Accuracy: 0.5155; Loss: 0.1034: 100%|\n",
      "Epoch  7: 469/469; Accuracy: 0.5387; Loss: 0.1074: 100%|\n",
      "Epoch  8: 469/469; Accuracy: 0.5618; Loss: 0.0990: 100%|\n",
      "Epoch  9: 469/469; Accuracy: 0.5785; Loss: 0.0885: 100%|\n",
      "Epoch 10: 469/469; Accuracy: 0.5982; Loss: 0.0892: 100%|\n"
     ]
    }
   ],
   "source": [
    "reload(NeuralNetwork)\n",
    "from NeuralNetwork import MyModel, MyLayer, dropoutS\n",
    "\n",
    "m = MyModel()\n",
    "m.addLayer(MyLayer(input_size, 128))\n",
    "m.addLayer(dropoutS(2))\n",
    "m.addLayer(MyLayer(128, num_labels))\n",
    "\n",
    "\n",
    "m.fitS(x_train, y_train, 0.01, epoches = 10, batch_size = batch_size)"
   ]
  },
  {
   "cell_type": "code",
   "execution_count": 5,
   "metadata": {},
   "outputs": [
    {
     "data": {
      "text/plain": [
       "0.8207"
      ]
     },
     "execution_count": 5,
     "metadata": {},
     "output_type": "execute_result"
    }
   ],
   "source": [
    "y_hat = m.predict(x_test)\n",
    "metrics.reset_state()\n",
    "metrics.update_state(y_test, y_hat)\n",
    "metrics.result().numpy()"
   ]
  }
 ],
 "metadata": {
  "kernelspec": {
   "display_name": "Python 3.11.2 ('CS791-Project')",
   "language": "python",
   "name": "python3"
  },
  "language_info": {
   "codemirror_mode": {
    "name": "ipython",
    "version": 3
   },
   "file_extension": ".py",
   "mimetype": "text/x-python",
   "name": "python",
   "nbconvert_exporter": "python",
   "pygments_lexer": "ipython3",
   "version": "3.11.2"
  },
  "orig_nbformat": 4,
  "vscode": {
   "interpreter": {
    "hash": "15e7240eaa5b7b90ef10e4a8c9b3eb006612935143fa80b3b708dc2a3022233c"
   }
  }
 },
 "nbformat": 4,
 "nbformat_minor": 2
}
