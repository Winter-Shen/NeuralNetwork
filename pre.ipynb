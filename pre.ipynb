{
 "cells": [
  {
   "attachments": {},
   "cell_type": "markdown",
   "metadata": {},
   "source": [
    "# Import Moduals"
   ]
  },
  {
   "cell_type": "code",
   "execution_count": 1,
   "metadata": {},
   "outputs": [
    {
     "name": "stderr",
     "output_type": "stream",
     "text": [
      "/home/wentao/anaconda3/lib/python3.9/site-packages/scipy/__init__.py:146: UserWarning: A NumPy version >=1.16.5 and <1.23.0 is required for this version of SciPy (detected version 1.23.5\n",
      "  warnings.warn(f\"A NumPy version >={np_minversion} and <{np_maxversion}\"\n"
     ]
    }
   ],
   "source": [
    "import numpy as np\n",
    "import pandas as pd\n",
    "\n",
    "from keras.models import Sequential\n",
    "from keras.layers import Dense\n",
    "from tensorflow.keras.optimizers import SGD\n",
    "from tensorflow.keras.utils import to_categorical\n",
    "from tensorflow.keras.initializers import GlorotUniform\n",
    "from tensorflow.keras.metrics import CategoricalAccuracy\n",
    "from tensorflow.keras.losses import MeanSquaredError\n",
    "\n",
    "from NeuralNetwork import MyModel, MyLayer, InputLayer"
   ]
  },
  {
   "attachments": {},
   "cell_type": "markdown",
   "metadata": {},
   "source": [
    "# Preprocessing"
   ]
  },
  {
   "cell_type": "code",
   "execution_count": 2,
   "metadata": {},
   "outputs": [],
   "source": [
    "# import dataset\n",
    "from keras.datasets import mnist\n",
    "# load dataset\n",
    "(x_train, y_train),(x_test, y_test) = mnist.load_data()\n",
    "# compute the number of labels\n",
    "num_labels = len(np.unique(y_train))\n",
    "# convert to one-hot vector\n",
    "y_train = to_categorical(y_train)\n",
    "y_test = to_categorical(y_test)\n",
    "# image dimensions (assumed square)\n",
    "image_size = x_train.shape[1]\n",
    "input_size = image_size * image_size\n",
    "input_size\n",
    "# resize and normalize\n",
    "x_train = np.reshape(x_train, [-1, input_size])\n",
    "x_train = x_train.astype('float32') / 255\n",
    "x_test = np.reshape(x_test, [-1, input_size])\n",
    "x_test = x_test.astype('float32') / 255\n",
    "# network parameters\n",
    "batch_size = 128\n",
    "hidden_units = 256"
   ]
  },
  {
   "attachments": {},
   "cell_type": "markdown",
   "metadata": {},
   "source": [
    "# Keras' Model"
   ]
  },
  {
   "cell_type": "code",
   "execution_count": 3,
   "metadata": {},
   "outputs": [
    {
     "name": "stderr",
     "output_type": "stream",
     "text": [
      "2023-03-26 22:47:52.324203: E tensorflow/stream_executor/cuda/cuda_driver.cc:271] failed call to cuInit: CUDA_ERROR_SYSTEM_DRIVER_MISMATCH: system has unsupported display driver / cuda driver combination\n",
      "2023-03-26 22:47:52.324246: I tensorflow/stream_executor/cuda/cuda_diagnostics.cc:169] retrieving CUDA diagnostic information for host: wentao-ubuntu\n",
      "2023-03-26 22:47:52.324257: I tensorflow/stream_executor/cuda/cuda_diagnostics.cc:176] hostname: wentao-ubuntu\n",
      "2023-03-26 22:47:52.324387: I tensorflow/stream_executor/cuda/cuda_diagnostics.cc:200] libcuda reported version is: 510.108.3\n",
      "2023-03-26 22:47:52.324426: I tensorflow/stream_executor/cuda/cuda_diagnostics.cc:204] kernel reported version is: NOT_FOUND: could not find kernel module information in driver version file contents: \"NVRM version: NVIDIA UNIX Open Kernel Module for x86_64  525.85.05  Release Build  (dvs-builder@U16-A22-20-3)  Sat Jan 14 00:53:29 UTC 2023\n",
      "GCC version:  gcc version 11.3.0 (Ubuntu 11.3.0-1ubuntu1~22.04) \n",
      "\"\n",
      "2023-03-26 22:47:52.324742: I tensorflow/core/platform/cpu_feature_guard.cc:151] This TensorFlow binary is optimized with oneAPI Deep Neural Network Library (oneDNN) to use the following CPU instructions in performance-critical operations:  AVX2 FMA\n",
      "To enable them in other operations, rebuild TensorFlow with the appropriate compiler flags.\n"
     ]
    },
    {
     "name": "stdout",
     "output_type": "stream",
     "text": [
      "Epoch 1/20\n",
      "10/10 [==============================] - 0s 21ms/step - loss: 0.3139 - accuracy: 0.0900\n",
      "Epoch 2/20\n",
      "10/10 [==============================] - 0s 19ms/step - loss: 0.2335 - accuracy: 0.1231\n",
      "Epoch 3/20\n",
      "10/10 [==============================] - 0s 19ms/step - loss: 0.1999 - accuracy: 0.1691\n",
      "Epoch 4/20\n",
      "10/10 [==============================] - 0s 19ms/step - loss: 0.1770 - accuracy: 0.2178\n",
      "Epoch 5/20\n",
      "10/10 [==============================] - 0s 20ms/step - loss: 0.1605 - accuracy: 0.2661\n",
      "Epoch 6/20\n",
      "10/10 [==============================] - 0s 19ms/step - loss: 0.1482 - accuracy: 0.3115\n",
      "Epoch 7/20\n",
      "10/10 [==============================] - 0s 21ms/step - loss: 0.1386 - accuracy: 0.3512\n",
      "Epoch 8/20\n",
      "10/10 [==============================] - 0s 21ms/step - loss: 0.1309 - accuracy: 0.3857\n",
      "Epoch 9/20\n",
      "10/10 [==============================] - 0s 19ms/step - loss: 0.1246 - accuracy: 0.4145\n",
      "Epoch 10/20\n",
      "10/10 [==============================] - 0s 23ms/step - loss: 0.1193 - accuracy: 0.4402\n",
      "Epoch 11/20\n",
      "10/10 [==============================] - 0s 23ms/step - loss: 0.1148 - accuracy: 0.4642\n",
      "Epoch 12/20\n",
      "10/10 [==============================] - 0s 21ms/step - loss: 0.1109 - accuracy: 0.4845\n",
      "Epoch 13/20\n",
      "10/10 [==============================] - 0s 20ms/step - loss: 0.1075 - accuracy: 0.5016\n",
      "Epoch 14/20\n",
      "10/10 [==============================] - 0s 19ms/step - loss: 0.1045 - accuracy: 0.5175\n",
      "Epoch 15/20\n",
      "10/10 [==============================] - 0s 20ms/step - loss: 0.1019 - accuracy: 0.5315\n",
      "Epoch 16/20\n",
      "10/10 [==============================] - 0s 24ms/step - loss: 0.0995 - accuracy: 0.5437\n",
      "Epoch 17/20\n",
      "10/10 [==============================] - 0s 21ms/step - loss: 0.0973 - accuracy: 0.5547\n",
      "Epoch 18/20\n",
      "10/10 [==============================] - 0s 23ms/step - loss: 0.0953 - accuracy: 0.5658\n",
      "Epoch 19/20\n",
      "10/10 [==============================] - 0s 20ms/step - loss: 0.0935 - accuracy: 0.5751\n",
      "Epoch 20/20\n",
      "10/10 [==============================] - 0s 18ms/step - loss: 0.0918 - accuracy: 0.5840\n"
     ]
    },
    {
     "data": {
      "text/plain": [
       "<keras.callbacks.History at 0x7f3b92a7e610>"
      ]
     },
     "execution_count": 3,
     "metadata": {},
     "output_type": "execute_result"
    }
   ],
   "source": [
    "model = Sequential()\n",
    "model.add(Dense(hidden_units, input_dim=input_size, use_bias=False))\n",
    "model.add(Dense(hidden_units, use_bias=False))\n",
    "model.add(Dense(num_labels, use_bias=False))\n",
    "model.compile(loss=MeanSquaredError(), \n",
    "              optimizer=SGD(learning_rate=0.01),\n",
    "              metrics=['accuracy'])\n",
    "model.fit(x_train, y_train, epochs=20, batch_size=6000)"
   ]
  },
  {
   "cell_type": "code",
   "execution_count": 4,
   "metadata": {},
   "outputs": [
    {
     "data": {
      "text/plain": [
       "0.5954"
      ]
     },
     "execution_count": 4,
     "metadata": {},
     "output_type": "execute_result"
    }
   ],
   "source": [
    "y_hat = model.predict(x_test)\n",
    "metrics = CategoricalAccuracy()\n",
    "metrics.update_state(y_test, y_hat)\n",
    "metrics.result().numpy()"
   ]
  },
  {
   "attachments": {},
   "cell_type": "markdown",
   "metadata": {},
   "source": [
    "# My Model"
   ]
  },
  {
   "cell_type": "code",
   "execution_count": 5,
   "metadata": {},
   "outputs": [
    {
     "name": "stdout",
     "output_type": "stream",
     "text": [
      "Epoch  1: loss: 0.432 - accuracy: 0.085\n",
      "Epoch  2: loss: 0.332 - accuracy: 0.092\n",
      "Epoch  3: loss: 0.283 - accuracy: 0.104\n",
      "Epoch  4: loss: 0.258 - accuracy: 0.118\n",
      "Epoch  5: loss: 0.244 - accuracy: 0.129\n",
      "Epoch  6: loss: 0.235 - accuracy: 0.138\n",
      "Epoch  7: loss: 0.229 - accuracy: 0.145\n",
      "Epoch  8: loss: 0.224 - accuracy: 0.152\n",
      "Epoch  9: loss: 0.219 - accuracy: 0.158\n",
      "Epoch 10: loss: 0.216 - accuracy: 0.163\n",
      "Epoch 11: loss: 0.212 - accuracy: 0.168\n",
      "Epoch 12: loss: 0.209 - accuracy: 0.173\n",
      "Epoch 13: loss: 0.206 - accuracy: 0.177\n",
      "Epoch 14: loss: 0.203 - accuracy: 0.181\n",
      "Epoch 15: loss: 0.200 - accuracy: 0.186\n",
      "Epoch 16: loss: 0.198 - accuracy: 0.190\n",
      "Epoch 17: loss: 0.195 - accuracy: 0.195\n",
      "Epoch 18: loss: 0.193 - accuracy: 0.199\n",
      "Epoch 19: loss: 0.190 - accuracy: 0.204\n",
      "Epoch 20: loss: 0.188 - accuracy: 0.208\n"
     ]
    }
   ],
   "source": [
    "initializer = GlorotUniform()\n",
    "\n",
    "m = MyModel()\n",
    "m.addLayer(InputLayer(input_size))\n",
    "m.addLayer(MyLayer(input_size, hidden_units).initializeWeight(initializer))\n",
    "m.addLayer(MyLayer(hidden_units, hidden_units).initializeWeight(initializer))\n",
    "m.addLayer(MyLayer(hidden_units, num_labels).initializeWeight(initializer))\n",
    "\n",
    "#m.selectNodes([list(range(1,10)), list(range(10, 100))])\n",
    "\n",
    "m.fit(x_train, y_train, 0.01, 20)"
   ]
  },
  {
   "cell_type": "code",
   "execution_count": 6,
   "metadata": {},
   "outputs": [
    {
     "data": {
      "text/plain": [
       "0.2176"
      ]
     },
     "execution_count": 6,
     "metadata": {},
     "output_type": "execute_result"
    }
   ],
   "source": [
    "y_hat = m.predict(x_test)\n",
    "metrics.reset_state()\n",
    "metrics.update_state(y_test, y_hat)\n",
    "metrics.result().numpy()"
   ]
  }
 ],
 "metadata": {
  "kernelspec": {
   "display_name": "base",
   "language": "python",
   "name": "python3"
  },
  "language_info": {
   "codemirror_mode": {
    "name": "ipython",
    "version": 3
   },
   "file_extension": ".py",
   "mimetype": "text/x-python",
   "name": "python",
   "nbconvert_exporter": "python",
   "pygments_lexer": "ipython3",
   "version": "3.9.13"
  },
  "orig_nbformat": 4
 },
 "nbformat": 4,
 "nbformat_minor": 2
}
