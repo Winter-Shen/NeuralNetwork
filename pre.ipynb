{
 "cells": [
  {
   "attachments": {},
   "cell_type": "markdown",
   "metadata": {},
   "source": [
    "# Import Moduals"
   ]
  },
  {
   "cell_type": "code",
   "execution_count": 2,
   "metadata": {},
   "outputs": [],
   "source": [
    "import numpy as np\n",
    "import pandas as pd\n",
    "import NeuralNetwork\n",
    "\n",
    "from keras.models import Sequential\n",
    "from keras.layers import Dense, Dropout\n",
    "from keras.optimizers import SGD\n",
    "from keras.utils import to_categorical\n",
    "from keras.initializers import GlorotUniform\n",
    "from keras.metrics import CategoricalAccuracy\n",
    "from keras.losses import MeanSquaredError\n",
    "\n",
    "from importlib import reload\n",
    "\n",
    "metrics = CategoricalAccuracy()"
   ]
  },
  {
   "attachments": {},
   "cell_type": "markdown",
   "metadata": {},
   "source": [
    "# Preprocessing"
   ]
  },
  {
   "cell_type": "code",
   "execution_count": 3,
   "metadata": {},
   "outputs": [],
   "source": [
    "# import dataset\n",
    "from keras.datasets import mnist\n",
    "# load dataset\n",
    "(x_train, y_train),(x_test, y_test) = mnist.load_data()\n",
    "# compute the number of labels\n",
    "num_labels = len(np.unique(y_train))\n",
    "# convert to one-hot vector\n",
    "y_train = to_categorical(y_train)\n",
    "y_test = to_categorical(y_test)\n",
    "# image dimensions (assumed square)\n",
    "image_size = x_train.shape[1]\n",
    "input_size = image_size * image_size\n",
    "input_size\n",
    "# resize and normalize\n",
    "x_train = np.reshape(x_train, [-1, input_size])\n",
    "x_train = x_train.astype('float32') / 255\n",
    "x_test = np.reshape(x_test, [-1, input_size])\n",
    "x_test = x_test.astype('float32') / 255\n",
    "# network parameters\n",
    "batch_size = 128\n",
    "hidden_units = 128"
   ]
  },
  {
   "attachments": {},
   "cell_type": "markdown",
   "metadata": {},
   "source": [
    "# Keras' Model"
   ]
  },
  {
   "cell_type": "code",
   "execution_count": 76,
   "metadata": {},
   "outputs": [
    {
     "name": "stdout",
     "output_type": "stream",
     "text": [
      "Epoch 1/10\n",
      "469/469 [==============================] - 1s 2ms/step - loss: 0.1005 - accuracy: 0.5426\n",
      "Epoch 2/10\n",
      "469/469 [==============================] - 1s 2ms/step - loss: 0.0630 - accuracy: 0.7344\n",
      "Epoch 3/10\n",
      "469/469 [==============================] - 1s 2ms/step - loss: 0.0560 - accuracy: 0.7764\n",
      "Epoch 4/10\n",
      "469/469 [==============================] - 1s 2ms/step - loss: 0.0526 - accuracy: 0.7976\n",
      "Epoch 5/10\n",
      "469/469 [==============================] - 1s 2ms/step - loss: 0.0505 - accuracy: 0.8082\n",
      "Epoch 6/10\n",
      "469/469 [==============================] - 1s 2ms/step - loss: 0.0490 - accuracy: 0.8164\n",
      "Epoch 7/10\n",
      "469/469 [==============================] - 1s 2ms/step - loss: 0.0479 - accuracy: 0.8219\n",
      "Epoch 8/10\n",
      "469/469 [==============================] - 1s 2ms/step - loss: 0.0470 - accuracy: 0.8262\n",
      "Epoch 9/10\n",
      "469/469 [==============================] - 1s 2ms/step - loss: 0.0464 - accuracy: 0.8293\n",
      "Epoch 10/10\n",
      "469/469 [==============================] - 1s 2ms/step - loss: 0.0458 - accuracy: 0.8317\n"
     ]
    },
    {
     "data": {
      "text/plain": [
       "<keras.callbacks.History at 0x2112cdc3a60>"
      ]
     },
     "execution_count": 76,
     "metadata": {},
     "output_type": "execute_result"
    }
   ],
   "source": [
    "model = Sequential()\n",
    "model.add(Dense(hidden_units, input_dim=input_size, use_bias=False))\n",
    "#model.add(Dropout(0.45))\n",
    "model.add(Dense(hidden_units, use_bias=False))\n",
    "#model.add(Dropout(0.45))\n",
    "model.add(Dense(num_labels, use_bias=False))\n",
    "model.compile(loss=MeanSquaredError(), \n",
    "              optimizer=SGD(learning_rate=0.01),\n",
    "              metrics=['accuracy'])\n",
    "model.fit(x_train, y_train, epochs=10, batch_size=batch_size)"
   ]
  },
  {
   "cell_type": "code",
   "execution_count": 77,
   "metadata": {},
   "outputs": [
    {
     "name": "stdout",
     "output_type": "stream",
     "text": [
      "313/313 [==============================] - 0s 936us/step\n"
     ]
    },
    {
     "data": {
      "text/plain": [
       "0.84243333"
      ]
     },
     "execution_count": 77,
     "metadata": {},
     "output_type": "execute_result"
    }
   ],
   "source": [
    "y_hat = model.predict(x_test)\n",
    "metrics.update_state(y_test, y_hat)\n",
    "metrics.result().numpy()"
   ]
  },
  {
   "attachments": {},
   "cell_type": "markdown",
   "metadata": {},
   "source": [
    "# My Model"
   ]
  },
  {
   "cell_type": "code",
   "execution_count": 8,
   "metadata": {},
   "outputs": [
    {
     "name": "stderr",
     "output_type": "stream",
     "text": [
      "Epoch  1: 469/469; Accuracy: 0.2673; Loss: 0.1906: 100%|\n",
      "Epoch  2: 469/469; Accuracy: 0.4231; Loss: 0.1403: 100%|\n",
      "Epoch  3: 469/469; Accuracy: 0.4980; Loss: 0.1114: 100%|\n",
      "Epoch  4: 469/469; Accuracy: 0.5463; Loss: 0.1052: 100%|\n",
      "Epoch  5: 469/469; Accuracy: 0.5865; Loss: 0.0993: 100%|\n"
     ]
    }
   ],
   "source": [
    "reload(NeuralNetwork)\n",
    "from NeuralNetwork import MyModel, MyLayer, dropout\n",
    "\n",
    "m = MyModel()\n",
    "m.addLayer(MyLayer(input_size, hidden_units))\n",
    "m.addLayer(dropout(0.5))\n",
    "m.addLayer(MyLayer(hidden_units, num_labels))\n",
    "\n",
    "\n",
    "m.fit(x_train, y_train, 0.01, epoches = 5, batch_size = batch_size)"
   ]
  },
  {
   "cell_type": "code",
   "execution_count": 9,
   "metadata": {},
   "outputs": [
    {
     "data": {
      "text/plain": [
       "0.7993"
      ]
     },
     "execution_count": 9,
     "metadata": {},
     "output_type": "execute_result"
    }
   ],
   "source": [
    "y_hat = m.predict(x_test)\n",
    "metrics.reset_state()\n",
    "metrics.update_state(y_test, y_hat)\n",
    "metrics.result().numpy()"
   ]
  },
  {
   "cell_type": "code",
   "execution_count": 10,
   "metadata": {},
   "outputs": [
    {
     "name": "stderr",
     "output_type": "stream",
     "text": [
      "Epoch  1: 469/469; Accuracy: 0.2762; Loss: 0.2259: 100%|\n",
      "Epoch  2: 469/469; Accuracy: 0.4210; Loss: 0.1356: 100%|\n",
      "Epoch  3: 469/469; Accuracy: 0.4935; Loss: 0.1197: 100%|\n",
      "Epoch  4: 469/469; Accuracy: 0.5452; Loss: 0.1069: 100%|\n",
      "Epoch  5: 469/469; Accuracy: 0.5856; Loss: 0.1000: 100%|\n"
     ]
    }
   ],
   "source": [
    "reload(NeuralNetwork)\n",
    "from NeuralNetwork import MyModel, MyLayer, dropoutS\n",
    "\n",
    "m = MyModel()\n",
    "m.addLayer(MyLayer(input_size, hidden_units))\n",
    "m.addLayer(dropoutS(1))\n",
    "m.addLayer(MyLayer(hidden_units, num_labels))\n",
    "\n",
    "\n",
    "m.fitS(x_train, y_train, 0.01, epoches = 5, batch_size = batch_size)"
   ]
  },
  {
   "cell_type": "code",
   "execution_count": 11,
   "metadata": {},
   "outputs": [
    {
     "data": {
      "text/plain": [
       "0.8079"
      ]
     },
     "execution_count": 11,
     "metadata": {},
     "output_type": "execute_result"
    }
   ],
   "source": [
    "y_hat = m.predict(x_test)\n",
    "metrics.reset_state()\n",
    "metrics.update_state(y_test, y_hat)\n",
    "metrics.result().numpy()"
   ]
  },
  {
   "cell_type": "code",
   "execution_count": 7,
   "metadata": {},
   "outputs": [
    {
     "name": "stderr",
     "output_type": "stream",
     "text": [
      "  0%|          | 0/469 [00:00<?, ?it/s]\n"
     ]
    },
    {
     "ename": "TypeError",
     "evalue": "'float' object cannot be interpreted as an integer",
     "output_type": "error",
     "traceback": [
      "\u001b[1;31m---------------------------------------------------------------------------\u001b[0m",
      "\u001b[1;31mTypeError\u001b[0m                                 Traceback (most recent call last)",
      "Cell \u001b[1;32mIn[7], line 15\u001b[0m\n\u001b[0;32m     12\u001b[0m     metrics\u001b[39m.\u001b[39mupdate_state(y_test, y_hat)\n\u001b[0;32m     13\u001b[0m     \u001b[39mreturn\u001b[39;00m metrics\u001b[39m.\u001b[39mresult()\u001b[39m.\u001b[39mnumpy()\n\u001b[1;32m---> 15\u001b[0m f(input_size, hidden_units, num_labels, batch_size, x_train, y_train, x_test, y_test, epoches \u001b[39m=\u001b[39;49m \u001b[39m5\u001b[39;49m)\n",
      "Cell \u001b[1;32mIn[7], line 9\u001b[0m, in \u001b[0;36mf\u001b[1;34m(input_size, hidden_units, num_labels, batch_size, x_train, y_train, x_test, y_test, epoches)\u001b[0m\n\u001b[0;32m      7\u001b[0m m\u001b[39m.\u001b[39maddLayer(dropoutS(\u001b[39m0.5\u001b[39m))\n\u001b[0;32m      8\u001b[0m m\u001b[39m.\u001b[39maddLayer(MyLayer(hidden_units, num_labels))\n\u001b[1;32m----> 9\u001b[0m m\u001b[39m.\u001b[39;49mfitS(x_train, y_train, \u001b[39m0.01\u001b[39;49m, epoches \u001b[39m=\u001b[39;49m epoches, batch_size \u001b[39m=\u001b[39;49m batch_size)\n\u001b[0;32m     10\u001b[0m y_hat \u001b[39m=\u001b[39m m\u001b[39m.\u001b[39mpredict(x_test)\n\u001b[0;32m     11\u001b[0m metrics\u001b[39m.\u001b[39mreset_state()\n",
      "File \u001b[1;32mc:\\Users\\wshe801\\OneDrive - The University of Auckland\\Documents\\UoA\\NeuralNetwork\\NeuralNetwork.py:87\u001b[0m, in \u001b[0;36mMyModel.fitS\u001b[1;34m(self, X, Y, learning_rate, epoches, batch_size)\u001b[0m\n\u001b[0;32m     85\u001b[0m cm \u001b[39m=\u001b[39m \u001b[39m0\u001b[39m\n\u001b[0;32m     86\u001b[0m \u001b[39mfor\u001b[39;00m j \u001b[39min\u001b[39;00m batchesP:\n\u001b[1;32m---> 87\u001b[0m     [loss, accuracy] \u001b[39m=\u001b[39m \u001b[39mself\u001b[39;49m\u001b[39m.\u001b[39;49mfitS0(batches[j][\u001b[39m0\u001b[39;49m], batches[j][\u001b[39m1\u001b[39;49m])\n\u001b[0;32m     88\u001b[0m     cm \u001b[39m=\u001b[39m (cm \u001b[39m*\u001b[39m j\u001b[39m+\u001b[39maccuracy)\u001b[39m/\u001b[39m(j\u001b[39m+\u001b[39m\u001b[39m1\u001b[39m)\n",
      "File \u001b[1;32mc:\\Users\\wshe801\\OneDrive - The University of Auckland\\Documents\\UoA\\NeuralNetwork\\NeuralNetwork.py:95\u001b[0m, in \u001b[0;36mMyModel.fitS0\u001b[1;34m(self, x, y)\u001b[0m\n\u001b[0;32m     93\u001b[0m \u001b[39mfor\u001b[39;00m l \u001b[39min\u001b[39;00m \u001b[39mself\u001b[39m\u001b[39m.\u001b[39mlayers:\n\u001b[0;32m     94\u001b[0m     \u001b[39mif\u001b[39;00m(\u001b[39misinstance\u001b[39m(l, dropoutS)):\n\u001b[1;32m---> 95\u001b[0m         l\u001b[39m.\u001b[39;49mconstructHashTable(dim, w, xx)\n\u001b[0;32m     96\u001b[0m         xx \u001b[39m=\u001b[39m x\n\u001b[0;32m     97\u001b[0m         x\u001b[39m=\u001b[39ml\u001b[39m.\u001b[39mforwardPropagation(x)\n",
      "File \u001b[1;32mc:\\Users\\wshe801\\OneDrive - The University of Auckland\\Documents\\UoA\\NeuralNetwork\\NeuralNetwork.py:50\u001b[0m, in \u001b[0;36mdropoutS.constructHashTable\u001b[1;34m(self, dim, weight, x)\u001b[0m\n\u001b[0;32m     48\u001b[0m \u001b[39mdef\u001b[39;00m \u001b[39mconstructHashTable\u001b[39m(\u001b[39mself\u001b[39m,dim,weight,x):\n\u001b[0;32m     49\u001b[0m     \u001b[39m# Construct Hash table\u001b[39;00m\n\u001b[1;32m---> 50\u001b[0m     \u001b[39mself\u001b[39m\u001b[39m.\u001b[39mhashTable \u001b[39m=\u001b[39m HashTable(hash_size\u001b[39m=\u001b[39;49m\u001b[39mself\u001b[39;49m\u001b[39m.\u001b[39;49msize, dim\u001b[39m=\u001b[39;49mdim)\n\u001b[0;32m     51\u001b[0m     \u001b[39mfor\u001b[39;00m i, r \u001b[39min\u001b[39;00m \u001b[39menumerate\u001b[39m(weight\u001b[39m.\u001b[39mT):\n\u001b[0;32m     52\u001b[0m         \u001b[39mself\u001b[39m\u001b[39m.\u001b[39mhashTable[r] \u001b[39m=\u001b[39m i\n",
      "File \u001b[1;32mc:\\Users\\wshe801\\OneDrive - The University of Auckland\\Documents\\UoA\\NeuralNetwork\\NeuralNetwork.py:163\u001b[0m, in \u001b[0;36mHashTable.__init__\u001b[1;34m(self, hash_size, dim)\u001b[0m\n\u001b[0;32m    161\u001b[0m \u001b[39mself\u001b[39m\u001b[39m.\u001b[39minp_dimensions \u001b[39m=\u001b[39m dim\n\u001b[0;32m    162\u001b[0m \u001b[39mself\u001b[39m\u001b[39m.\u001b[39mhash_table \u001b[39m=\u001b[39m \u001b[39mdict\u001b[39m()\n\u001b[1;32m--> 163\u001b[0m \u001b[39mself\u001b[39m\u001b[39m.\u001b[39mprojections \u001b[39m=\u001b[39m np\u001b[39m.\u001b[39;49mrandom\u001b[39m.\u001b[39;49mrandn(\u001b[39mself\u001b[39;49m\u001b[39m.\u001b[39;49mhash_size, dim)\n",
      "File \u001b[1;32mmtrand.pyx:1270\u001b[0m, in \u001b[0;36mnumpy.random.mtrand.RandomState.randn\u001b[1;34m()\u001b[0m\n",
      "File \u001b[1;32mmtrand.pyx:1431\u001b[0m, in \u001b[0;36mnumpy.random.mtrand.RandomState.standard_normal\u001b[1;34m()\u001b[0m\n",
      "File \u001b[1;32m_common.pyx:636\u001b[0m, in \u001b[0;36mnumpy.random._common.cont\u001b[1;34m()\u001b[0m\n",
      "\u001b[1;31mTypeError\u001b[0m: 'float' object cannot be interpreted as an integer"
     ]
    }
   ],
   "source": [
    "reload(NeuralNetwork)\n",
    "from NeuralNetwork import MyModel, MyLayer, dropout, dropoutS\n",
    "def f(input_size, hidden_units, num_labels, batch_size, x_train, y_train, x_test, y_test, epoches):\n",
    "    metrics = CategoricalAccuracy()\n",
    "    m = MyModel()\n",
    "    m.addLayer(MyLayer(input_size, hidden_units))\n",
    "    m.addLayer(dropoutS(0.5))\n",
    "    m.addLayer(MyLayer(hidden_units, num_labels))\n",
    "    m.fitS(x_train, y_train, 0.01, epoches = epoches, batch_size = batch_size)\n",
    "    y_hat = m.predict(x_test)\n",
    "    metrics.reset_state()\n",
    "    metrics.update_state(y_test, y_hat)\n",
    "    return metrics.result().numpy()\n",
    "\n",
    "f(input_size, hidden_units, num_labels, batch_size, x_train, y_train, x_test, y_test, epoches = 5)"
   ]
  }
 ],
 "metadata": {
  "kernelspec": {
   "display_name": "Python 3.11.2 ('CS791-Project')",
   "language": "python",
   "name": "python3"
  },
  "language_info": {
   "codemirror_mode": {
    "name": "ipython",
    "version": 3
   },
   "file_extension": ".py",
   "mimetype": "text/x-python",
   "name": "python",
   "nbconvert_exporter": "python",
   "pygments_lexer": "ipython3",
   "version": "3.9.16"
  },
  "orig_nbformat": 4,
  "vscode": {
   "interpreter": {
    "hash": "15e7240eaa5b7b90ef10e4a8c9b3eb006612935143fa80b3b708dc2a3022233c"
   }
  }
 },
 "nbformat": 4,
 "nbformat_minor": 2
}
