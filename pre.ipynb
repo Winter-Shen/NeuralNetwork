{
 "cells": [
  {
   "attachments": {},
   "cell_type": "markdown",
   "metadata": {},
   "source": [
    "# Import Moduals"
   ]
  },
  {
   "cell_type": "code",
   "execution_count": 2,
   "metadata": {},
   "outputs": [],
   "source": [
    "import numpy as np\n",
    "import seaborn as sns\n",
    "import matplotlib.pyplot as plt\n",
    "\n",
    "import NeuralNetwork\n",
    "\n",
    "from keras.models import Sequential\n",
    "from keras.layers import Dense, Dropout\n",
    "from keras.optimizers import SGD\n",
    "from keras.utils import to_categorical\n",
    "from keras.initializers import GlorotUniform\n",
    "from keras.metrics import CategoricalAccuracy\n",
    "from keras.losses import MeanSquaredError\n",
    "\n",
    "from importlib import reload\n",
    "\n",
    "metrics = CategoricalAccuracy()"
   ]
  },
  {
   "attachments": {},
   "cell_type": "markdown",
   "metadata": {},
   "source": [
    "# Preprocessing"
   ]
  },
  {
   "cell_type": "code",
   "execution_count": 3,
   "metadata": {},
   "outputs": [],
   "source": [
    "# import dataset\n",
    "from keras.datasets import mnist\n",
    "# load dataset\n",
    "(x_train, y_train),(x_test, y_test) = mnist.load_data()\n",
    "# compute the number of labels\n",
    "num_labels = len(np.unique(y_train))\n",
    "# convert to one-hot vector\n",
    "y_train = to_categorical(y_train)\n",
    "y_test = to_categorical(y_test)\n",
    "# image dimensions (assumed square)\n",
    "image_size = x_train.shape[1]\n",
    "input_size = image_size * image_size\n",
    "input_size\n",
    "# resize and normalize\n",
    "x_train = np.reshape(x_train, [-1, input_size])\n",
    "x_train = x_train.astype('float32') / 255\n",
    "x_test = np.reshape(x_test, [-1, input_size])\n",
    "x_test = x_test.astype('float32') / 255\n",
    "# network parameters\n",
    "batch_size = 128\n",
    "hidden_units = 128"
   ]
  },
  {
   "attachments": {},
   "cell_type": "markdown",
   "metadata": {},
   "source": [
    "# Keras' Model"
   ]
  },
  {
   "cell_type": "code",
   "execution_count": 76,
   "metadata": {},
   "outputs": [
    {
     "name": "stdout",
     "output_type": "stream",
     "text": [
      "Epoch 1/10\n",
      "469/469 [==============================] - 1s 2ms/step - loss: 0.1005 - accuracy: 0.5426\n",
      "Epoch 2/10\n",
      "469/469 [==============================] - 1s 2ms/step - loss: 0.0630 - accuracy: 0.7344\n",
      "Epoch 3/10\n",
      "469/469 [==============================] - 1s 2ms/step - loss: 0.0560 - accuracy: 0.7764\n",
      "Epoch 4/10\n",
      "469/469 [==============================] - 1s 2ms/step - loss: 0.0526 - accuracy: 0.7976\n",
      "Epoch 5/10\n",
      "469/469 [==============================] - 1s 2ms/step - loss: 0.0505 - accuracy: 0.8082\n",
      "Epoch 6/10\n",
      "469/469 [==============================] - 1s 2ms/step - loss: 0.0490 - accuracy: 0.8164\n",
      "Epoch 7/10\n",
      "469/469 [==============================] - 1s 2ms/step - loss: 0.0479 - accuracy: 0.8219\n",
      "Epoch 8/10\n",
      "469/469 [==============================] - 1s 2ms/step - loss: 0.0470 - accuracy: 0.8262\n",
      "Epoch 9/10\n",
      "469/469 [==============================] - 1s 2ms/step - loss: 0.0464 - accuracy: 0.8293\n",
      "Epoch 10/10\n",
      "469/469 [==============================] - 1s 2ms/step - loss: 0.0458 - accuracy: 0.8317\n"
     ]
    },
    {
     "data": {
      "text/plain": [
       "<keras.callbacks.History at 0x2112cdc3a60>"
      ]
     },
     "execution_count": 76,
     "metadata": {},
     "output_type": "execute_result"
    }
   ],
   "source": [
    "model = Sequential()\n",
    "model.add(Dense(hidden_units, input_dim=input_size, use_bias=False))\n",
    "#model.add(Dropout(0.45))\n",
    "model.add(Dense(hidden_units, use_bias=False))\n",
    "#model.add(Dropout(0.45))\n",
    "model.add(Dense(num_labels, use_bias=False))\n",
    "model.compile(loss=MeanSquaredError(), \n",
    "              optimizer=SGD(learning_rate=0.01),\n",
    "              metrics=['accuracy'])\n",
    "model.fit(x_train, y_train, epochs=10, batch_size=batch_size)"
   ]
  },
  {
   "cell_type": "code",
   "execution_count": 77,
   "metadata": {},
   "outputs": [
    {
     "name": "stdout",
     "output_type": "stream",
     "text": [
      "313/313 [==============================] - 0s 936us/step\n"
     ]
    },
    {
     "data": {
      "text/plain": [
       "0.84243333"
      ]
     },
     "execution_count": 77,
     "metadata": {},
     "output_type": "execute_result"
    }
   ],
   "source": [
    "y_hat = model.predict(x_test)\n",
    "metrics.update_state(y_test, y_hat)\n",
    "metrics.result().numpy()"
   ]
  },
  {
   "attachments": {},
   "cell_type": "markdown",
   "metadata": {},
   "source": [
    "# My Model"
   ]
  },
  {
   "cell_type": "code",
   "execution_count": 8,
   "metadata": {},
   "outputs": [
    {
     "name": "stderr",
     "output_type": "stream",
     "text": [
      "Epoch  1: 469/469; Accuracy: 0.2673; Loss: 0.1906: 100%|\n",
      "Epoch  2: 469/469; Accuracy: 0.4231; Loss: 0.1403: 100%|\n",
      "Epoch  3: 469/469; Accuracy: 0.4980; Loss: 0.1114: 100%|\n",
      "Epoch  4: 469/469; Accuracy: 0.5463; Loss: 0.1052: 100%|\n",
      "Epoch  5: 469/469; Accuracy: 0.5865; Loss: 0.0993: 100%|\n"
     ]
    }
   ],
   "source": [
    "reload(NeuralNetwork)\n",
    "from NeuralNetwork import MyModel, MyLayer, dropout\n",
    "\n",
    "m = MyModel()\n",
    "m.addLayer(MyLayer(input_size, hidden_units))\n",
    "m.addLayer(dropout(0.5))\n",
    "m.addLayer(MyLayer(hidden_units, num_labels))\n",
    "\n",
    "\n",
    "m.fit(x_train, y_train, 0.01, epoches = 5, batch_size = batch_size)"
   ]
  },
  {
   "cell_type": "code",
   "execution_count": 9,
   "metadata": {},
   "outputs": [
    {
     "data": {
      "text/plain": [
       "0.7993"
      ]
     },
     "execution_count": 9,
     "metadata": {},
     "output_type": "execute_result"
    }
   ],
   "source": [
    "y_hat = m.predict(x_test)\n",
    "metrics.reset_state()\n",
    "metrics.update_state(y_test, y_hat)\n",
    "metrics.result().numpy()"
   ]
  },
  {
   "cell_type": "code",
   "execution_count": 10,
   "metadata": {},
   "outputs": [
    {
     "name": "stderr",
     "output_type": "stream",
     "text": [
      "Epoch  1: 469/469; Accuracy: 0.2757; Loss: 0.2170: 100%|\n",
      "Epoch  2: 469/469; Accuracy: 0.4228; Loss: 0.1584: 100%|\n",
      "Epoch  3: 469/469; Accuracy: 0.4935; Loss: 0.1318: 100%|\n",
      "Epoch  4: 469/469; Accuracy: 0.5404; Loss: 0.1042: 100%|\n",
      "Epoch  5: 469/469; Accuracy: 0.5797; Loss: 0.1007: 100%|\n"
     ]
    }
   ],
   "source": [
    "reload(NeuralNetwork)\n",
    "from NeuralNetwork import MyModel, MyLayer, dropoutLSH\n",
    "\n",
    "m = MyModel()\n",
    "m.addLayer(MyLayer(input_size, hidden_units))\n",
    "m.addLayer(dropoutLSH(1))\n",
    "m.addLayer(MyLayer(hidden_units, num_labels))\n",
    "\n",
    "\n",
    "m.fit(x_train, y_train, 0.01, epoches = 5, batch_size = batch_size)"
   ]
  },
  {
   "cell_type": "code",
   "execution_count": 12,
   "metadata": {},
   "outputs": [
    {
     "data": {
      "text/plain": [
       "0.8022"
      ]
     },
     "execution_count": 12,
     "metadata": {},
     "output_type": "execute_result"
    }
   ],
   "source": [
    "y_hat = m.predict(x_test)\n",
    "metrics.reset_state()\n",
    "metrics.update_state(y_test, y_hat)\n",
    "metrics.result().numpy()"
   ]
  },
  {
   "cell_type": "code",
   "execution_count": 4,
   "metadata": {},
   "outputs": [
    {
     "name": "stdout",
     "output_type": "stream",
     "text": [
      "Standard dropout\n"
     ]
    },
    {
     "name": "stderr",
     "output_type": "stream",
     "text": [
      "Epoch  1: 100% |██████████| 469/469, Accuracy: 0.2669, Loss: 0.2295;\n",
      "Epoch  2: 100% |██████████| 469/469, Accuracy: 0.4239, Loss: 0.1634;\n",
      "Epoch  3: 100% |██████████| 469/469, Accuracy: 0.4974, Loss: 0.1221;\n",
      "Epoch  4: 100% |██████████| 469/469, Accuracy: 0.5459, Loss: 0.1102;\n",
      "Epoch  5: 100% |██████████| 469/469, Accuracy: 0.5871, Loss: 0.1059;\n"
     ]
    },
    {
     "name": "stdout",
     "output_type": "stream",
     "text": [
      "Accuracy: 0.8034\n",
      "\n",
      "LSH dropout\n"
     ]
    },
    {
     "name": "stderr",
     "output_type": "stream",
     "text": [
      "Epoch  1: 100% |██████████| 469/469, Accuracy: 0.2762, Loss: 0.2225;\n",
      "Epoch  2: 100% |██████████| 469/469, Accuracy: 0.4213, Loss: 0.1569;\n",
      "Epoch  3: 100% |██████████| 469/469, Accuracy: 0.4899, Loss: 0.1262;\n",
      "Epoch  4: 100% |██████████| 469/469, Accuracy: 0.5425, Loss: 0.1186;\n",
      "Epoch  5: 100% |██████████| 469/469, Accuracy: 0.5812, Loss: 0.0964;\n"
     ]
    },
    {
     "name": "stdout",
     "output_type": "stream",
     "text": [
      "Accuracy: 0.8006\n"
     ]
    }
   ],
   "source": [
    "reload(NeuralNetwork)\n",
    "from NeuralNetwork import MyModel, MyLayer\n",
    "\n",
    "m = MyModel()\n",
    "m.addLayer(MyLayer(input_size, hidden_units, dropout = True, dropout_probability = 0.5))\n",
    "m.addLayer(MyLayer(hidden_units, num_labels))\n",
    "\n",
    "lshm = MyModel()\n",
    "lshm.addLayer(MyLayer(input_size, hidden_units, dropout_lsh = True, function_num=1))\n",
    "lshm.addLayer(MyLayer(hidden_units, num_labels))\n",
    "\n",
    "\n",
    "def f(x_train, y_train, x_test, y_test, model, batch_size, epoches, progress = True):\n",
    "    metrics = CategoricalAccuracy()\n",
    "    model.fit(x_train, y_train, 0.01, epoches = epoches, batch_size = batch_size, progress = progress)\n",
    "    y_hat = model.predict(x_test)\n",
    "    metrics.reset_state()\n",
    "    metrics.update_state(y_test, y_hat)\n",
    "    model.reset()\n",
    "    return metrics.result().numpy()\n",
    "\n",
    "# standard dropout\n",
    "print(\"Standard dropout\")\n",
    "print(\"Accuracy: \" + str(f(x_train, y_train, x_test, y_test, m, batch_size, epoches = 5, progress = True)))\n",
    "# LSH dropout\n",
    "print(\"\\nLSH dropout\")\n",
    "print(\"Accuracy: \" + str(f(x_train, y_train, x_test, y_test, lshm, batch_size, epoches = 5, progress = True)))"
   ]
  },
  {
   "cell_type": "code",
   "execution_count": 13,
   "metadata": {},
   "outputs": [],
   "source": [
    "accuracy = [f(x_train, y_train, x_test, y_test, m, batch_size, epoches = 5, progress = False) for i in range(100)]\n",
    "accuracy_lsh = [f(x_train, y_train, x_test, y_test, lshm, batch_size, epoches = 5, progress = False) for i in range(100)]"
   ]
  },
  {
   "cell_type": "code",
   "execution_count": null,
   "metadata": {},
   "outputs": [
    {
     "name": "stdout",
     "output_type": "stream",
     "text": [
      "0.79962003\n",
      "0.801205\n"
     ]
    }
   ],
   "source": [
    "print(np.mean(accuracy))\n",
    "print(np.mean(accuracy_lsh))"
   ]
  },
  {
   "cell_type": "code",
   "execution_count": null,
   "metadata": {},
   "outputs": [
    {
     "data": {
      "image/png": "[encoded data removed]",
      "text/plain": [
       "<Figure size 640x480 with 1 Axes>"
      ]
     },
     "metadata": {},
     "output_type": "display_data"
    }
   ],
   "source": [
    "sns.kdeplot(accuracy, fill=True, label=\"Standard Dropout\")\n",
    "sns.kdeplot(accuracy_lsh, fill=True, label=\"LSH Dropout\")\n",
    "plt.legend()\n",
    "plt.show()"
   ]
  }
 ],
 "metadata": {
  "kernelspec": {
   "display_name": "Python 3.11.2 ('CS791-Project')",
   "language": "python",
   "name": "python3"
  },
  "language_info": {
   "codemirror_mode": {
    "name": "ipython",
    "version": 3
   },
   "file_extension": ".py",
   "mimetype": "text/x-python",
   "name": "python",
   "nbconvert_exporter": "python",
   "pygments_lexer": "ipython3",
   "version": "3.9.16"
  },
  "orig_nbformat": 4,
  "vscode": {
   "interpreter": {
    "hash": "15e7240eaa5b7b90ef10e4a8c9b3eb006612935143fa80b3b708dc2a3022233c"
   }
  }
 },
 "nbformat": 4,
 "nbformat_minor": 2
}
