{
 "cells": [
  {
   "attachments": {},
   "cell_type": "markdown",
   "metadata": {},
   "source": [
    "# Import Moduals"
   ]
  },
  {
   "cell_type": "code",
   "execution_count": 2,
   "metadata": {},
   "outputs": [
    {
     "name": "stderr",
     "output_type": "stream",
     "text": [
      "2023-04-30 19:54:37.429651: I tensorflow/compiler/xla/stream_executor/cuda/cuda_gpu_executor.cc:996] successful NUMA node read from SysFS had negative value (-1), but there must be at least one NUMA node, so returning NUMA node zero. See more at https://github.com/torvalds/linux/blob/v6.0/Documentation/ABI/testing/sysfs-bus-pci#L344-L355\n",
      "2023-04-30 19:54:37.547831: I tensorflow/compiler/xla/stream_executor/cuda/cuda_gpu_executor.cc:996] successful NUMA node read from SysFS had negative value (-1), but there must be at least one NUMA node, so returning NUMA node zero. See more at https://github.com/torvalds/linux/blob/v6.0/Documentation/ABI/testing/sysfs-bus-pci#L344-L355\n",
      "2023-04-30 19:54:37.548016: I tensorflow/compiler/xla/stream_executor/cuda/cuda_gpu_executor.cc:996] successful NUMA node read from SysFS had negative value (-1), but there must be at least one NUMA node, so returning NUMA node zero. See more at https://github.com/torvalds/linux/blob/v6.0/Documentation/ABI/testing/sysfs-bus-pci#L344-L355\n",
      "2023-04-30 19:54:37.548766: I tensorflow/compiler/xla/stream_executor/cuda/cuda_gpu_executor.cc:996] successful NUMA node read from SysFS had negative value (-1), but there must be at least one NUMA node, so returning NUMA node zero. See more at https://github.com/torvalds/linux/blob/v6.0/Documentation/ABI/testing/sysfs-bus-pci#L344-L355\n",
      "2023-04-30 19:54:37.548922: I tensorflow/compiler/xla/stream_executor/cuda/cuda_gpu_executor.cc:996] successful NUMA node read from SysFS had negative value (-1), but there must be at least one NUMA node, so returning NUMA node zero. See more at https://github.com/torvalds/linux/blob/v6.0/Documentation/ABI/testing/sysfs-bus-pci#L344-L355\n",
      "2023-04-30 19:54:37.549053: I tensorflow/compiler/xla/stream_executor/cuda/cuda_gpu_executor.cc:996] successful NUMA node read from SysFS had negative value (-1), but there must be at least one NUMA node, so returning NUMA node zero. See more at https://github.com/torvalds/linux/blob/v6.0/Documentation/ABI/testing/sysfs-bus-pci#L344-L355\n",
      "2023-04-30 19:54:38.365458: I tensorflow/compiler/xla/stream_executor/cuda/cuda_gpu_executor.cc:996] successful NUMA node read from SysFS had negative value (-1), but there must be at least one NUMA node, so returning NUMA node zero. See more at https://github.com/torvalds/linux/blob/v6.0/Documentation/ABI/testing/sysfs-bus-pci#L344-L355\n",
      "2023-04-30 19:54:38.365716: I tensorflow/compiler/xla/stream_executor/cuda/cuda_gpu_executor.cc:996] successful NUMA node read from SysFS had negative value (-1), but there must be at least one NUMA node, so returning NUMA node zero. See more at https://github.com/torvalds/linux/blob/v6.0/Documentation/ABI/testing/sysfs-bus-pci#L344-L355\n",
      "2023-04-30 19:54:38.365866: I tensorflow/compiler/xla/stream_executor/cuda/cuda_gpu_executor.cc:996] successful NUMA node read from SysFS had negative value (-1), but there must be at least one NUMA node, so returning NUMA node zero. See more at https://github.com/torvalds/linux/blob/v6.0/Documentation/ABI/testing/sysfs-bus-pci#L344-L355\n",
      "2023-04-30 19:54:38.365988: I tensorflow/core/common_runtime/gpu/gpu_device.cc:1635] Created device /job:localhost/replica:0/task:0/device:GPU:0 with 4178 MB memory:  -> device: 0, name: NVIDIA GeForce RTX 2060, pci bus id: 0000:01:00.0, compute capability: 7.5\n"
     ]
    }
   ],
   "source": [
    "import numpy as np\n",
    "import pandas as pd\n",
    "import NeuralNetwork\n",
    "\n",
    "from keras.models import Sequential\n",
    "from keras.layers import Dense, Dropout\n",
    "from keras.optimizers import SGD\n",
    "from keras.utils import to_categorical\n",
    "from keras.initializers import GlorotUniform\n",
    "from keras.metrics import CategoricalAccuracy\n",
    "from keras.losses import MeanSquaredError\n",
    "\n",
    "from importlib import reload\n",
    "\n",
    "metrics = CategoricalAccuracy()"
   ]
  },
  {
   "attachments": {},
   "cell_type": "markdown",
   "metadata": {},
   "source": [
    "# Preprocessing"
   ]
  },
  {
   "cell_type": "code",
   "execution_count": 31,
   "metadata": {},
   "outputs": [],
   "source": [
    "# import dataset\n",
    "from keras.datasets import mnist\n",
    "# load dataset\n",
    "(x_train, y_train),(x_test, y_test) = mnist.load_data()\n",
    "# compute the number of labels\n",
    "num_labels = len(np.unique(y_train))\n",
    "# convert to one-hot vector\n",
    "y_train = to_categorical(y_train)\n",
    "y_test = to_categorical(y_test)\n",
    "# image dimensions (assumed square)\n",
    "image_size = x_train.shape[1]\n",
    "input_size = image_size * image_size\n",
    "input_size\n",
    "# resize and normalize\n",
    "x_train = np.reshape(x_train, [-1, input_size])\n",
    "x_train = x_train.astype('float32') / 255\n",
    "x_test = np.reshape(x_test, [-1, input_size])\n",
    "x_test = x_test.astype('float32') / 255\n",
    "# network parameters\n",
    "batch_size = 128\n",
    "hidden_units = 256"
   ]
  },
  {
   "attachments": {},
   "cell_type": "markdown",
   "metadata": {},
   "source": [
    "# Keras' Model"
   ]
  },
  {
   "cell_type": "code",
   "execution_count": 76,
   "metadata": {},
   "outputs": [
    {
     "name": "stdout",
     "output_type": "stream",
     "text": [
      "Epoch 1/10\n",
      "469/469 [==============================] - 1s 2ms/step - loss: 0.1005 - accuracy: 0.5426\n",
      "Epoch 2/10\n",
      "469/469 [==============================] - 1s 2ms/step - loss: 0.0630 - accuracy: 0.7344\n",
      "Epoch 3/10\n",
      "469/469 [==============================] - 1s 2ms/step - loss: 0.0560 - accuracy: 0.7764\n",
      "Epoch 4/10\n",
      "469/469 [==============================] - 1s 2ms/step - loss: 0.0526 - accuracy: 0.7976\n",
      "Epoch 5/10\n",
      "469/469 [==============================] - 1s 2ms/step - loss: 0.0505 - accuracy: 0.8082\n",
      "Epoch 6/10\n",
      "469/469 [==============================] - 1s 2ms/step - loss: 0.0490 - accuracy: 0.8164\n",
      "Epoch 7/10\n",
      "469/469 [==============================] - 1s 2ms/step - loss: 0.0479 - accuracy: 0.8219\n",
      "Epoch 8/10\n",
      "469/469 [==============================] - 1s 2ms/step - loss: 0.0470 - accuracy: 0.8262\n",
      "Epoch 9/10\n",
      "469/469 [==============================] - 1s 2ms/step - loss: 0.0464 - accuracy: 0.8293\n",
      "Epoch 10/10\n",
      "469/469 [==============================] - 1s 2ms/step - loss: 0.0458 - accuracy: 0.8317\n"
     ]
    },
    {
     "data": {
      "text/plain": [
       "<keras.callbacks.History at 0x2112cdc3a60>"
      ]
     },
     "execution_count": 76,
     "metadata": {},
     "output_type": "execute_result"
    }
   ],
   "source": [
    "model = Sequential()\n",
    "model.add(Dense(hidden_units, input_dim=input_size, use_bias=False))\n",
    "#model.add(Dropout(0.45))\n",
    "model.add(Dense(hidden_units, use_bias=False))\n",
    "#model.add(Dropout(0.45))\n",
    "model.add(Dense(num_labels, use_bias=False))\n",
    "model.compile(loss=MeanSquaredError(), \n",
    "              optimizer=SGD(learning_rate=0.01),\n",
    "              metrics=['accuracy'])\n",
    "model.fit(x_train, y_train, epochs=10, batch_size=batch_size)"
   ]
  },
  {
   "cell_type": "code",
   "execution_count": 77,
   "metadata": {},
   "outputs": [
    {
     "name": "stdout",
     "output_type": "stream",
     "text": [
      "313/313 [==============================] - 0s 936us/step\n"
     ]
    },
    {
     "data": {
      "text/plain": [
       "0.84243333"
      ]
     },
     "execution_count": 77,
     "metadata": {},
     "output_type": "execute_result"
    }
   ],
   "source": [
    "y_hat = model.predict(x_test)\n",
    "metrics.update_state(y_test, y_hat)\n",
    "metrics.result().numpy()"
   ]
  },
  {
   "attachments": {},
   "cell_type": "markdown",
   "metadata": {},
   "source": [
    "# My Model"
   ]
  },
  {
   "cell_type": "code",
   "execution_count": 78,
   "metadata": {},
   "outputs": [
    {
     "name": "stderr",
     "output_type": "stream",
     "text": [
      "Epoch  1: 469/469; Accuracy: 0.5164; Loss: 0.0815: 100%|\n",
      "Epoch  2: 469/469; Accuracy: 0.7284; Loss: 0.0673: 100%|\n",
      "Epoch  3: 469/469; Accuracy: 0.7733; Loss: 0.0616: 100%|\n",
      "Epoch  4: 469/469; Accuracy: 0.7946; Loss: 0.0583: 100%|\n",
      "Epoch  5: 469/469; Accuracy: 0.8069; Loss: 0.0561: 100%|\n",
      "Epoch  6: 469/469; Accuracy: 0.8144; Loss: 0.0544: 100%|\n",
      "Epoch  7: 469/469; Accuracy: 0.8201; Loss: 0.0532: 100%|\n",
      "Epoch  8: 469/469; Accuracy: 0.8251; Loss: 0.0521: 100%|\n",
      "Epoch  9: 469/469; Accuracy: 0.8280; Loss: 0.0513: 100%|\n",
      "Epoch 10: 469/469; Accuracy: 0.8307; Loss: 0.0505: 100%|\n"
     ]
    }
   ],
   "source": [
    "reload(NeuralNetwork)\n",
    "from NeuralNetwork import MyModel, MyLayer, dropout\n",
    "\n",
    "m = MyModel()\n",
    "m.addLayer(MyLayer(input_size, hidden_units))\n",
    "#m.addLayer(dropout(0.45))\n",
    "m.addLayer(MyLayer(hidden_units, hidden_units))\n",
    "#m.addLayer(dropout(0.45))\n",
    "m.addLayer(MyLayer(hidden_units, num_labels))\n",
    "\n",
    "\n",
    "m.fit(x_train, y_train, 0.01, epoches = 10, batch_size = batch_size)"
   ]
  },
  {
   "cell_type": "code",
   "execution_count": 79,
   "metadata": {},
   "outputs": [
    {
     "data": {
      "text/plain": [
       "0.839"
      ]
     },
     "execution_count": 79,
     "metadata": {},
     "output_type": "execute_result"
    }
   ],
   "source": [
    "y_hat = m.predict(x_test)\n",
    "metrics.reset_state()\n",
    "metrics.update_state(y_test, y_hat)\n",
    "metrics.result().numpy()"
   ]
  },
  {
   "cell_type": "code",
   "execution_count": 48,
   "metadata": {},
   "outputs": [
    {
     "name": "stderr",
     "output_type": "stream",
     "text": [
      "  0%|\n"
     ]
    },
    {
     "ename": "ValueError",
     "evalue": "shapes (784,) and (128,2) not aligned: 784 (dim 0) != 128 (dim 0)",
     "output_type": "error",
     "traceback": [
      "\u001b[0;31m---------------------------------------------------------------------------\u001b[0m",
      "\u001b[0;31mValueError\u001b[0m                                Traceback (most recent call last)",
      "Cell \u001b[0;32mIn[48], line 10\u001b[0m\n\u001b[1;32m      6\u001b[0m m\u001b[39m.\u001b[39maddLayer(dropoutS(\u001b[39m2\u001b[39m))\n\u001b[1;32m      7\u001b[0m m\u001b[39m.\u001b[39maddLayer(MyLayer(\u001b[39m128\u001b[39m, num_labels))\n\u001b[0;32m---> 10\u001b[0m m\u001b[39m.\u001b[39;49mfitS(x_train, y_train, \u001b[39m0.01\u001b[39;49m, epoches \u001b[39m=\u001b[39;49m \u001b[39m10\u001b[39;49m, batch_size \u001b[39m=\u001b[39;49m batch_size)\n",
      "File \u001b[0;32m~/Documents/NeuralNetwork/NeuralNetwork.py:87\u001b[0m, in \u001b[0;36mMyModel.fitS\u001b[0;34m(self, X, Y, learning_rate, epoches, batch_size)\u001b[0m\n\u001b[1;32m     85\u001b[0m cm \u001b[39m=\u001b[39m \u001b[39m0\u001b[39m\n\u001b[1;32m     86\u001b[0m \u001b[39mfor\u001b[39;00m j \u001b[39min\u001b[39;00m batchesP:\n\u001b[0;32m---> 87\u001b[0m     [loss, accuracy] \u001b[39m=\u001b[39m \u001b[39mself\u001b[39;49m\u001b[39m.\u001b[39;49mfitS0(batches[j][\u001b[39m0\u001b[39;49m], batches[j][\u001b[39m1\u001b[39;49m])\n\u001b[1;32m     88\u001b[0m     cm \u001b[39m=\u001b[39m (cm \u001b[39m*\u001b[39m j\u001b[39m+\u001b[39maccuracy)\u001b[39m/\u001b[39m(j\u001b[39m+\u001b[39m\u001b[39m1\u001b[39m)\n\u001b[1;32m     89\u001b[0m     batchesP\u001b[39m.\u001b[39mset_description(\u001b[39m\"\u001b[39m\u001b[39mEpoch \u001b[39m\u001b[39m%2d\u001b[39;00m\u001b[39m: \u001b[39m\u001b[39m%3d\u001b[39;00m\u001b[39m/\u001b[39m\u001b[39m%3d\u001b[39;00m\u001b[39m; Accuracy: \u001b[39m\u001b[39m%.4f\u001b[39;00m\u001b[39m; Loss: \u001b[39m\u001b[39m%.4f\u001b[39;00m\u001b[39m\"\u001b[39m \u001b[39m%\u001b[39m (i\u001b[39m+\u001b[39m\u001b[39m1\u001b[39m, j\u001b[39m+\u001b[39m\u001b[39m1\u001b[39m, l, cm, loss))\n",
      "File \u001b[0;32m~/Documents/NeuralNetwork/NeuralNetwork.py:111\u001b[0m, in \u001b[0;36mMyModel.fitS0\u001b[0;34m(self, x, y)\u001b[0m\n\u001b[1;32m    109\u001b[0m \u001b[39mfor\u001b[39;00m l \u001b[39min\u001b[39;00m \u001b[39mself\u001b[39m\u001b[39m.\u001b[39mlayers:\n\u001b[1;32m    110\u001b[0m     \u001b[39mif\u001b[39;00m(\u001b[39misinstance\u001b[39m(l, dropoutS)):\n\u001b[0;32m--> 111\u001b[0m         l\u001b[39m.\u001b[39;49mconstructHashTable(outDim, w, rawX)\n\u001b[1;32m    112\u001b[0m         x\u001b[39m=\u001b[39ml\u001b[39m.\u001b[39mforwardPropagation(x)\n\u001b[1;32m    113\u001b[0m     \u001b[39melse\u001b[39;00m:\n",
      "File \u001b[0;32m~/Documents/NeuralNetwork/NeuralNetwork.py:52\u001b[0m, in \u001b[0;36mdropoutS.constructHashTable\u001b[0;34m(self, inDim, weight, x)\u001b[0m\n\u001b[1;32m     50\u001b[0m \u001b[39mself\u001b[39m\u001b[39m.\u001b[39mhashTable \u001b[39m=\u001b[39m HashTable(hash_size\u001b[39m=\u001b[39m\u001b[39mself\u001b[39m\u001b[39m.\u001b[39msize, in_dim\u001b[39m=\u001b[39minDim)\n\u001b[1;32m     51\u001b[0m \u001b[39mfor\u001b[39;00m i, r \u001b[39min\u001b[39;00m \u001b[39menumerate\u001b[39m(weight\u001b[39m.\u001b[39mT):\n\u001b[0;32m---> 52\u001b[0m     \u001b[39mself\u001b[39;49m\u001b[39m.\u001b[39;49mhashTable[r] \u001b[39m=\u001b[39m i\n\u001b[1;32m     53\u001b[0m \u001b[39m# Construct mask matrix\u001b[39;00m\n\u001b[1;32m     54\u001b[0m \u001b[39mself\u001b[39m\u001b[39m.\u001b[39mmask \u001b[39m=\u001b[39m np\u001b[39m.\u001b[39mzeros((x\u001b[39m.\u001b[39mshape[\u001b[39m0\u001b[39m],x\u001b[39m.\u001b[39mshape[\u001b[39m1\u001b[39m]), np\u001b[39m.\u001b[39mint8)\n",
      "File \u001b[0;32m~/Documents/NeuralNetwork/NeuralNetwork.py:169\u001b[0m, in \u001b[0;36mHashTable.__setitem__\u001b[0;34m(self, inp_vec, label)\u001b[0m\n\u001b[1;32m    168\u001b[0m \u001b[39mdef\u001b[39;00m \u001b[39m__setitem__\u001b[39m(\u001b[39mself\u001b[39m, inp_vec, label):\n\u001b[0;32m--> 169\u001b[0m     hash_value \u001b[39m=\u001b[39m \u001b[39mself\u001b[39;49m\u001b[39m.\u001b[39;49mgenerate_hash(inp_vec)\n\u001b[1;32m    170\u001b[0m     \u001b[39mself\u001b[39m\u001b[39m.\u001b[39mhash_table[hash_value] \u001b[39m=\u001b[39m \u001b[39mself\u001b[39m\u001b[39m.\u001b[39mhash_table\u001b[39m.\u001b[39mget(hash_value, \u001b[39mlist\u001b[39m()) \u001b[39m+\u001b[39m [label]\n",
      "File \u001b[0;32m~/Documents/NeuralNetwork/NeuralNetwork.py:165\u001b[0m, in \u001b[0;36mHashTable.generate_hash\u001b[0;34m(self, inp_vector)\u001b[0m\n\u001b[1;32m    164\u001b[0m \u001b[39mdef\u001b[39;00m \u001b[39mgenerate_hash\u001b[39m(\u001b[39mself\u001b[39m, inp_vector):\n\u001b[0;32m--> 165\u001b[0m     bools \u001b[39m=\u001b[39m (np\u001b[39m.\u001b[39;49mdot(inp_vector, \u001b[39mself\u001b[39;49m\u001b[39m.\u001b[39;49mprojections\u001b[39m.\u001b[39;49mT) \u001b[39m>\u001b[39m \u001b[39m0\u001b[39m)\u001b[39m.\u001b[39mastype(\u001b[39m'\u001b[39m\u001b[39mint\u001b[39m\u001b[39m'\u001b[39m)\n\u001b[1;32m    166\u001b[0m     \u001b[39mreturn\u001b[39;00m \u001b[39m'\u001b[39m\u001b[39m'\u001b[39m\u001b[39m.\u001b[39mjoin(bools\u001b[39m.\u001b[39mastype(\u001b[39m'\u001b[39m\u001b[39mstr\u001b[39m\u001b[39m'\u001b[39m))\n",
      "File \u001b[0;32m<__array_function__ internals>:180\u001b[0m, in \u001b[0;36mdot\u001b[0;34m(*args, **kwargs)\u001b[0m\n",
      "\u001b[0;31mValueError\u001b[0m: shapes (784,) and (128,2) not aligned: 784 (dim 0) != 128 (dim 0)"
     ]
    }
   ],
   "source": [
    "reload(NeuralNetwork)\n",
    "from NeuralNetwork import MyModel, MyLayer, dropoutS\n",
    "\n",
    "m = MyModel()\n",
    "m.addLayer(MyLayer(input_size, 128))\n",
    "m.addLayer(dropoutS(2))\n",
    "m.addLayer(MyLayer(128, num_labels))\n",
    "\n",
    "\n",
    "m.fitS(x_train, y_train, 0.01, epoches = 10, batch_size = batch_size)"
   ]
  }
 ],
 "metadata": {
  "kernelspec": {
   "display_name": "Python 3.11.2 ('CS791-Project')",
   "language": "python",
   "name": "python3"
  },
  "language_info": {
   "codemirror_mode": {
    "name": "ipython",
    "version": 3
   },
   "file_extension": ".py",
   "mimetype": "text/x-python",
   "name": "python",
   "nbconvert_exporter": "python",
   "pygments_lexer": "ipython3",
   "version": "3.11.2"
  },
  "orig_nbformat": 4,
  "vscode": {
   "interpreter": {
    "hash": "15e7240eaa5b7b90ef10e4a8c9b3eb006612935143fa80b3b708dc2a3022233c"
   }
  }
 },
 "nbformat": 4,
 "nbformat_minor": 2
}
